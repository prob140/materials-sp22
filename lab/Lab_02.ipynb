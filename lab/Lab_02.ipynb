{
 "cells": [
  {
   "cell_type": "markdown",
   "metadata": {
    "#solution": false,
    "#staff": false,
    "#student": false
   },
   "source": [
    "<table align=\"left\" style=\"border-style: hidden\" class=\"table\"> <tr><td class=\"col-md-2\"><img style=\"float\" src=\"../icon.png\" alt=\"Prob140 Logo\" style=\"width: 120px;\"/></td><td><div align=\"left\"><h3 style=\"margin-top: 0;\">Probability for Data Science</h3><h4 style=\"margin-top: 20px;\">UC Berkeley, Spring 2022</h4><p>Ani Adhikari</p>CC BY-NC-SA 4.0</div></td></tr></table><!-- not in pdf -->\n",
    "\n",
    "This content is protected and may not be shared, uploaded, or distributed."
   ]
  },
  {
   "cell_type": "code",
   "execution_count": null,
   "metadata": {
    "#solution": false,
    "#staff": false,
    "#student": false
   },
   "outputs": [],
   "source": [
    "from prob140 import *\n",
    "from datascience import *\n",
    "import numpy as np\n",
    "from scipy import special"
   ]
  },
  {
   "cell_type": "markdown",
   "metadata": {
    "#solution": false,
    "#staff": false,
    "#student": false
   },
   "source": [
    "# Lab 2: Uniform and Size-Biased Permutations #"
   ]
  },
  {
   "cell_type": "markdown",
   "metadata": {
    "#solution": false,
    "#staff": false,
    "#student": false
   },
   "source": [
    "## Identify Your Lab Partner ##"
   ]
  },
  {
   "cell_type": "markdown",
   "metadata": {
    "#solution": false,
    "#staff": false,
    "#student": false
   },
   "source": [
    "This is a multiple choice question. Please select **ONE** of following options that best describes how you complete this lab.\n",
    "\n",
    "* I am doing this lab by myself and I don't have a partner.\n",
    "* My partner for this lab is [NAME] with email [berkeley.edu email address]. [NAME] will submit for both of us on Gradescope.\n",
    "\n",
    "Please copy and paste **ONE** of above statements and fill in blanks if needed. If you work with a partner, make sure only one of you submit on Gradescope."
   ]
  },
  {
   "cell_type": "markdown",
   "metadata": {
    "#solution": false,
    "#staff": false,
    "#student": false
   },
   "source": [
    "**Your answer here.**"
   ]
  },
  {
   "cell_type": "markdown",
   "metadata": {
    "#solution": false,
    "#staff": false,
    "#student": false
   },
   "source": [
    "#newpage"
   ]
  },
  {
   "cell_type": "markdown",
   "metadata": {
    "#solution": false,
    "#staff": false,
    "#student": false
   },
   "source": [
    "Markov chains on permutations of sets of objects have applications in numerous areas, from cryptography to [apple picking](https://link.springer.com/content/pdf/10.1007/978-3-642-19592-1_1.pdf). This lab is an introduction to such chains. You will do some decryption in the next lab, but we will leave you to figure out for yourself how best to pick apples.\n",
    "\n",
    "Card shuffling has many connections with mathematics, most of all with probability theory. Examining shuffles is a great way to learn properties of permutations. In this lab you will study a simple shuffle known as the *random-to-front*, and see what happens to the deck when you repeat the shuffle many times.\n",
    "\n",
    "Not all shuffles are based on uniform random sampling. The *Tsetlin Library* is a model for dynamically permuting objects that are randomly selected according to their importance. For example, the objects may be files in a computer system, with some files being accessed more often than others. This is an example of *size-biased permutation*. The long run state of such a library has elegant properties, some of which you will discover and prove."
   ]
  },
  {
   "cell_type": "markdown",
   "metadata": {
    "#solution": false,
    "#staff": false,
    "#student": false
   },
   "source": [
    "#### Terminology ####\n",
    "- An *alphabet* is the finite set of objects that will be permuted. Alphabets in this lab will consist of letters in the usual English alphabet. But we will use only a few letters, not 26.\n",
    "- Throughout, we will imagine the objects to be set out in a sequence from left to right. The *front* of the permutation is the left-most object.\n",
    "- *At random* without further qualification means *uniformly at random*. We will start out with uniform random permutations and then move on to a setting where the selection is not uniform."
   ]
  },
  {
   "cell_type": "markdown",
   "metadata": {
    "#solution": false,
    "#staff": false,
    "#student": false
   },
   "source": [
    "## Part 1: Markov Chain on Permutations ##\n",
    "This part of the lab introduces you to Python methods for generating permutations, and to the Markov Chain methods of the `prob140` library. You can think of it as a code warm-up for the main business of the lab.\n",
    "\n",
    "Each shuffle of a deck of cards results in a permutation of the deck. The number of permutations increases rapidly as a function of the size of the deck. \n",
    "\n",
    "Python has functions that help us create all possible permutations of an alphabet. Start out by running the cell below. This imports the necessary functions."
   ]
  },
  {
   "cell_type": "code",
   "execution_count": null,
   "metadata": {
    "#solution": false,
    "#staff": false,
    "#student": false
   },
   "outputs": [],
   "source": [
    "from itertools import permutations"
   ]
  },
  {
   "cell_type": "markdown",
   "metadata": {
    "#solution": false,
    "#staff": false,
    "#student": false
   },
   "source": [
    "In this part of the lab we will use just a three-letter alphabet to demonstrate how the functions work. In later parts you can change the alphabet and use the same steps to generate all its permutations.\n",
    "\n",
    "### 1a) State Space ###\n",
    "Run the two cells below. The final line evaluates to a list of all possible states."
   ]
  },
  {
   "cell_type": "code",
   "execution_count": null,
   "metadata": {
    "#solution": false,
    "#staff": false,
    "#student": false
   },
   "outputs": [],
   "source": [
    "alpha_3 = ['A', 'B', 'C']"
   ]
  },
  {
   "cell_type": "code",
   "execution_count": null,
   "metadata": {
    "#solution": false,
    "#staff": false,
    "#student": false
   },
   "outputs": [],
   "source": [
    "states_3 = list(permutations(alpha_3))\n",
    "states_3"
   ]
  },
  {
   "cell_type": "markdown",
   "metadata": {
    "#solution": false,
    "#staff": false,
    "#student": false
   },
   "source": [
    "The rest of this part of the lab takes you through `MarkovChain` methods in the `prob140` library. All of this code is also demonstrated in [Section 10.1](http://prob140.org/textbook/content/Chapter_10/01_Transitions.html#the-long-run) of the textbook.\n",
    "\n",
    "Pay attention to the code (don't just run the cells) as you will need to use it in subsequent parts of the lab."
   ]
  },
  {
   "cell_type": "markdown",
   "metadata": {
    "#solution": false,
    "#staff": false,
    "#student": false
   },
   "source": [
    "### 1b) Transition Matrix ###\n",
    "The transition matrix of the chain depends on the rules by which the chain moves. \n",
    "\n",
    "As our first example, we will use the following simple rules for one-step transitions.\n",
    "\n",
    "- $P(i, i) = 0.5$ for each state $i$\n",
    "- $P(i, j) = 0.1$ for each pair of states with $j \\ne i$\n",
    "\n",
    "Notice that for each permutation $i$ in the state space, this defines a probability distribution. Given that the chain is at permutation $i$, at the next step it has chance $0.5$ of staying there and chance $0.1$ of moving to each of the other five permutations.\n",
    "\n",
    "Define a function `transition_rule` to reflect the transition probabilities. It should take two arguments: $i$ and $j$. It should return $P(i, j)$. "
   ]
  },
  {
   "cell_type": "code",
   "execution_count": null,
   "metadata": {
    "#solution": false,
    "#staff": false,
    "#student": true
   },
   "outputs": [],
   "source": [
    "def transition_rule(start_state, end_state):\n",
    "    if start_state == end_state:\n",
    "    ..."
   ]
  },
  {
   "cell_type": "markdown",
   "metadata": {
    "#solution": false,
    "#staff": false,
    "#student": false
   },
   "source": [
    "The cell below shows how to access the elements at index 0 and index 4 of the list `states_3`. "
   ]
  },
  {
   "cell_type": "code",
   "execution_count": null,
   "metadata": {
    "#solution": false,
    "#staff": false,
    "#student": false
   },
   "outputs": [],
   "source": [
    "states_3[0], states_3[4]"
   ]
  },
  {
   "cell_type": "markdown",
   "metadata": {
    "#solution": false,
    "#staff": false,
    "#student": false
   },
   "source": [
    "For what follows, it will be useful to assign names to these states. Run the cell below to do that."
   ]
  },
  {
   "cell_type": "code",
   "execution_count": null,
   "metadata": {
    "#solution": false,
    "#staff": false,
    "#student": false
   },
   "outputs": [],
   "source": [
    "abc = states_3[0]\n",
    "cab = states_3[4]"
   ]
  },
  {
   "cell_type": "markdown",
   "metadata": {
    "#solution": false,
    "#staff": false,
    "#student": false
   },
   "source": [
    "What should be the output of each of the two following cells? Check that your function returns the right values."
   ]
  },
  {
   "cell_type": "code",
   "execution_count": null,
   "metadata": {
    "#solution": false,
    "#staff": false,
    "#student": true
   },
   "outputs": [],
   "source": [
    "transition_rule(abc, abc)"
   ]
  },
  {
   "cell_type": "code",
   "execution_count": null,
   "metadata": {
    "#solution": false,
    "#staff": false,
    "#student": true
   },
   "outputs": [],
   "source": [
    "transition_rule(abc, cab)"
   ]
  },
  {
   "cell_type": "markdown",
   "metadata": {
    "#solution": false,
    "#staff": false,
    "#student": false
   },
   "source": [
    "### 1c) Transition Matrix ###\n",
    "The call to construct a `MarkovChain` object from a transition function and display its transition matrix is:\n",
    "\n",
    "`MarkovChain.from_transition_function(list_of_states, name_of_transition_function)`\n",
    "\n",
    "Construct the chain `lazy_walk` based on the transition behavior in parts **a** and **b**. Check that the transition matrix correctly shows $P(i, j)$ for every pair of states $i$ and $j$. It is \"lazy\" because it is just as likely to stay in place as it is to move."
   ]
  },
  {
   "cell_type": "code",
   "execution_count": null,
   "metadata": {
    "#solution": false,
    "#staff": false,
    "#student": true
   },
   "outputs": [],
   "source": [
    "lazy_walk = ...\n",
    "lazy_walk"
   ]
  },
  {
   "cell_type": "markdown",
   "metadata": {
    "#solution": false,
    "#staff": false,
    "#student": false
   },
   "source": [
    "Is the chain irreducible? Is it aperiodic? Explain your answers briefly."
   ]
  },
  {
   "cell_type": "markdown",
   "metadata": {
    "#solution": false,
    "#staff": false,
    "#student": true
   },
   "source": [
    "\n",
    "**Your answer here.**"
   ]
  },
  {
   "cell_type": "markdown",
   "metadata": {
    "#solution": false,
    "#staff": false,
    "#student": false
   },
   "source": [
    "### 1d) $n$ Steps ###\n",
    "For a Markov chain $X_0, X_1, X_2, \\ldots$ represented by the `MarkovChain` object `mc`, the calls below result in the $n$-step transition matrix and the unconditional distribution of $X_n$.\n",
    "\n",
    "- `mc.transition_matrix(n)`\n",
    "- `mc.distribution(initial_state, n)` where `initial_state` is a single given value of $X_0$\n",
    "- `mc.distribution(initial_distribution, n)` where `initial_distribution` is a `prob140` distribution object containing the distribution of $X_0$ \n",
    "\n",
    "Display the 3-step transition matrix of the chain."
   ]
  },
  {
   "cell_type": "code",
   "execution_count": null,
   "metadata": {
    "#solution": false,
    "#staff": false,
    "#student": true
   },
   "outputs": [],
   "source": [
    "\n",
    "..."
   ]
  },
  {
   "cell_type": "markdown",
   "metadata": {
    "#solution": false,
    "#staff": false,
    "#student": false
   },
   "source": [
    "Use a `MarkovChain` method to display the distribution of $X_3$ given $X_0 =$ `abc`. Note that the output is a Table. When you work with it, you can use Table methods as needed."
   ]
  },
  {
   "cell_type": "code",
   "execution_count": null,
   "metadata": {
    "#solution": false,
    "#staff": false,
    "#student": true
   },
   "outputs": [],
   "source": [
    "..."
   ]
  },
  {
   "cell_type": "markdown",
   "metadata": {
    "#solution": false,
    "#staff": false,
    "#student": false
   },
   "source": [
    "### 1e) Steady State ###\n",
    "What should the steady state distribution of this chain be? Explain your answer without calculation."
   ]
  },
  {
   "cell_type": "markdown",
   "metadata": {
    "#solution": false,
    "#staff": false,
    "#student": true
   },
   "source": [
    "\n",
    "**Your answer here.**"
   ]
  },
  {
   "cell_type": "markdown",
   "metadata": {
    "#solution": false,
    "#staff": false,
    "#student": false
   },
   "source": [
    "The call `mc.steady_state()` displays the steady state distribution of the chain. Complete the cell below to create `pi`, the steady state distribution of `lazy_walk`. Check that the result agrees with your answer above."
   ]
  },
  {
   "cell_type": "code",
   "execution_count": null,
   "metadata": {
    "#solution": false,
    "#staff": false,
    "#student": true
   },
   "outputs": [],
   "source": [
    "pi = ...\n",
    "pi"
   ]
  },
  {
   "cell_type": "markdown",
   "metadata": {
    "#solution": false,
    "#staff": false,
    "#student": false
   },
   "source": [
    "If the distribution of $X_0$ is `pi`, what should the distribution of $X_{3}$ be? Explain your answer."
   ]
  },
  {
   "cell_type": "markdown",
   "metadata": {
    "#solution": false,
    "#staff": false,
    "#student": true
   },
   "source": [
    "\n",
    "**Your answer here.**"
   ]
  },
  {
   "cell_type": "markdown",
   "metadata": {
    "#solution": false,
    "#staff": false,
    "#student": false
   },
   "source": [
    "Display the distribution of $X_3$ given that the distribution of $X_0$ is `pi`, and check that it agrees with your answer above."
   ]
  },
  {
   "cell_type": "code",
   "execution_count": null,
   "metadata": {
    "#solution": false,
    "#staff": false,
    "#student": true
   },
   "outputs": [],
   "source": [
    "..."
   ]
  },
  {
   "cell_type": "markdown",
   "metadata": {
    "#solution": false,
    "#staff": false,
    "#student": false
   },
   "source": [
    "#newpage\n",
    "\n",
    "## Part 2: Random-to-Front Shuffle ##\n",
    "One of the simplest ways to shuffle a deck of cards is to pick a card at random from the deck and place it at the top, and then repeat the process. This is called the *random-to-top* or *random-to-front* shuffle. In this part you will study this shuffle as a Markov chain.\n",
    "\n",
    "### 2a) Markov Property ###\n",
    "Explain why the process of random-to-front shuffling is a Markov chain with time-homogenous transition probabilities. "
   ]
  },
  {
   "cell_type": "markdown",
   "metadata": {
    "#solution": false,
    "#staff": false,
    "#student": true
   },
   "source": [
    "\n",
    "**Your answer here.**"
   ]
  },
  {
   "cell_type": "markdown",
   "metadata": {
    "#solution": false,
    "#staff": false,
    "#student": false
   },
   "source": [
    "### 2b) Move to Front ###\n",
    "The fundamental move in this process is constructing a permutation of the deck by moving one element to the front, that is, to the extreme left position in the deck. We are helping you do that, by defining the function `move_to_front`. It takes two arguments: a state and the element to move to the front. The function `move_to_front` returns the state that has the given element moved to the front of the deck and all the others left unchanged. Remember that each state is a permutation.\n",
    "\n",
    "Run the cell to define the function."
   ]
  },
  {
   "cell_type": "code",
   "execution_count": null,
   "metadata": {
    "#solution": false,
    "#staff": false,
    "#student": false
   },
   "outputs": [],
   "source": [
    "def move_to_front(state, element):\n",
    "    y = list(state)[:]\n",
    "    y.remove(element)\n",
    "    return tuple([element] + y) "
   ]
  },
  {
   "cell_type": "markdown",
   "metadata": {
    "#solution": false,
    "#staff": false,
    "#student": false
   },
   "source": [
    "Continue with your little deck of three cards for now; we will soon increase the size. If you start with the state `cab` and move `a` to the front, what permutation should you get? Check that the following cells have the right answers. Remember that `abc` is the name to which we assigned `('A', 'B', 'C')` and `cab` is `('C', 'A', 'B')`."
   ]
  },
  {
   "cell_type": "code",
   "execution_count": null,
   "metadata": {
    "#solution": false,
    "#staff": false,
    "#student": true
   },
   "outputs": [],
   "source": [
    "move_to_front(cab, 'A')"
   ]
  },
  {
   "cell_type": "code",
   "execution_count": null,
   "metadata": {
    "#solution": false,
    "#staff": false,
    "#student": true
   },
   "outputs": [],
   "source": [
    "move_to_front(abc, 'B')"
   ]
  },
  {
   "cell_type": "code",
   "execution_count": null,
   "metadata": {
    "#solution": false,
    "#staff": false,
    "#student": true
   },
   "outputs": [],
   "source": [
    "move_to_front(cab, 'C')"
   ]
  },
  {
   "cell_type": "markdown",
   "metadata": {
    "#solution": false,
    "#staff": false,
    "#student": false
   },
   "source": [
    "### 2c) [on paper] Random-to-Front Transition Probabilities ###\n",
    "Consider the transition matrix of the random-to-front chain on permutations of `A`, `B`, and `C`. For each of the following, write your answer on your sheet of paper."
   ]
  },
  {
   "cell_type": "markdown",
   "metadata": {
    "#solution": false,
    "#staff": false,
    "#student": false
   },
   "source": [
    "P(ABC | ABC) = \n",
    "\n",
    "P(ACB | ABC) = \n",
    "\n",
    "P(BAC | ABC) = \n",
    "\n",
    "P(BCA | ABC) =\n",
    "\n",
    "P(ABC | CAB) = \n",
    "\n",
    "P(CAB | CAB) =\n"
   ]
  },
  {
   "cell_type": "markdown",
   "metadata": {
    "#solution": false,
    "#staff": false,
    "#student": false
   },
   "source": [
    "Now generalize your answers above to an alphabet of any length, by defining the function `rtf_transitions` in the cell below. The function takes three arguments:\n",
    "\n",
    "- a list containing an alphabet\n",
    "- a start state $s$, that is a permutation of the alphabet\n",
    "- an end state $e$, that is also a permutation of the alphabet\n",
    "\n",
    "The function returns the one-step transition probability $P(s, e)$ for the random-to-front chain on permutations of the alphabet.\n",
    "\n",
    "Fill in the blanks below to complete the definition of the function. Please don't add any lines or edit anything but the `...`."
   ]
  },
  {
   "cell_type": "code",
   "execution_count": null,
   "metadata": {
    "#solution": false,
    "#staff": false,
    "#student": true
   },
   "outputs": [],
   "source": [
    "\n",
    "def rtf_transition(alphabet, start_state, end_state):\n",
    "    for x in alphabet:\n",
    "        if ... move_to_front(...):\n",
    "            return ...\n",
    "    return 0"
   ]
  },
  {
   "cell_type": "markdown",
   "metadata": {
    "#solution": false,
    "#staff": false,
    "#student": false
   },
   "source": [
    "Run the cell below to confirm that `rtf_transition` returns values that agree with your answers above in the case of an alphabet of size 3."
   ]
  },
  {
   "cell_type": "code",
   "execution_count": null,
   "metadata": {
    "#solution": false,
    "#staff": false,
    "#student": true
   },
   "outputs": [],
   "source": [
    "\n",
    "rtf_transition(alpha_3, abc, abc), rtf_transition(alpha_3, cab, abc)"
   ]
  },
  {
   "cell_type": "markdown",
   "metadata": {
    "#solution": false,
    "#staff": false,
    "#student": false
   },
   "source": [
    "### 2d) Random_to_Front Chain ###\n",
    "Let `random_to_front_3` be the `MarkovChain` object representing the random-to-front chain on the alphabet `alpha_3`. Complete the cell below so that the last line displays the transition matrix of the chain."
   ]
  },
  {
   "cell_type": "code",
   "execution_count": null,
   "metadata": {
    "#solution": false,
    "#staff": false,
    "#student": true
   },
   "outputs": [],
   "source": [
    "\n",
    "def rtf_3_trans(start_state, end_state):\n",
    "    return rtf_transition(...)\n",
    "           \n",
    "random_to_front_3 = MarkovChain...\n",
    "random_to_front_3"
   ]
  },
  {
   "cell_type": "markdown",
   "metadata": {
    "#solution": false,
    "#staff": false,
    "#student": false
   },
   "source": [
    "Explain why the chain is irreducible and aperiodic."
   ]
  },
  {
   "cell_type": "markdown",
   "metadata": {
    "#solution": false,
    "#staff": false,
    "#student": true
   },
   "source": [
    "\n",
    "**Your answer here.**"
   ]
  },
  {
   "cell_type": "markdown",
   "metadata": {
    "#solution": false,
    "#staff": false,
    "#student": false
   },
   "source": [
    "### 2e) Steady State ###\n",
    "Start with the perfectly ordered state `('A', 'B', 'C')`. We named this `abc` earlier. Find the distribution of the chain after 5 shuffles."
   ]
  },
  {
   "cell_type": "code",
   "execution_count": null,
   "metadata": {
    "#solution": false,
    "#staff": false,
    "#student": true
   },
   "outputs": [],
   "source": [
    "..."
   ]
  },
  {
   "cell_type": "markdown",
   "metadata": {
    "#solution": false,
    "#staff": false,
    "#student": false
   },
   "source": [
    "What should the steady state of the chain be? What should the steady state be if the deck has $N$ cards instead of 3? Why?"
   ]
  },
  {
   "cell_type": "markdown",
   "metadata": {
    "#solution": false,
    "#staff": false,
    "#student": true
   },
   "source": [
    "\n",
    "**Your answer here.**"
   ]
  },
  {
   "cell_type": "markdown",
   "metadata": {
    "#solution": false,
    "#staff": false,
    "#student": false
   },
   "source": [
    "### 2f) Larger Deck ###\n",
    "Complete the cell below to check your answer to part **e** for a deck of 6 cards. Be patient, the code might chug for a while."
   ]
  },
  {
   "cell_type": "code",
   "execution_count": null,
   "metadata": {
    "#solution": false,
    "#staff": false,
    "#student": true
   },
   "outputs": [],
   "source": [
    "alpha_6 = ['A', 'B', 'C', 'D', 'E', 'F']\n",
    "states_6 = ...\n",
    "\n",
    "def rtf_6_trans(start_state, end_state):\n",
    "    return ...\n",
    "           \n",
    "random_to_front_6 = MarkovChain...\n",
    "random_to_front_6.steady_state()"
   ]
  },
  {
   "cell_type": "markdown",
   "metadata": {
    "#solution": false,
    "#staff": false,
    "#student": false
   },
   "source": [
    "In the cell below, show the numerical calculation that results in the value at index 0 of the column `Probability`. \n",
    "\n",
    "The `special` module of `scipy` has been imported for you so that you can use `special.factorial(n, exact=True)` to find $n!$ as an `int`. The `int` type for the factorial will be helpful later in the lab."
   ]
  },
  {
   "cell_type": "code",
   "execution_count": null,
   "metadata": {
    "#solution": false,
    "#staff": false,
    "#student": true
   },
   "outputs": [],
   "source": [
    "..."
   ]
  },
  {
   "cell_type": "markdown",
   "metadata": {
    "#solution": false,
    "#staff": false,
    "#student": false
   },
   "source": [
    "#newpage\n",
    "\n",
    "## Part 3: The Tsetlin Library ##\n",
    "The [Tsetlin Library](https://www.math.ucdavis.edu/~anne/SQ2014/thematic_tutorials/algebraic_combinatorics/tsetlin_library.html) imagines that books are being permuted according to a move-to-front scheme in which the books are chosen not uniformly but based on their *importance* or *popularity*. More popular books are therefore more likely to be selected and moved to the front of the row, that is, in the leftmost position. [Applications](https://arxiv.org/pdf/0805.0083.pdf) of this model to computer science include dynamic file management and cache management.\n",
    "\n",
    "This kind of non-uniform permutation is called *size-biased*."
   ]
  },
  {
   "cell_type": "markdown",
   "metadata": {
    "#solution": false,
    "#staff": false,
    "#student": false
   },
   "source": [
    "### 3a) Weights ###\n",
    "Consider a library with just three books `'A'`, `'B'`, and `'C'`. Let the weight or \"importance\" of each book be reflected in the probability with which it is selected to be moved to the left: $p_A = 0.6$, $p_B = 0.3$, $p_C = 0.1$. \n",
    "\n",
    "The table `weights_3` contains the distribution of these weights."
   ]
  },
  {
   "cell_type": "code",
   "execution_count": null,
   "metadata": {
    "#solution": false,
    "#staff": false,
    "#student": false
   },
   "outputs": [],
   "source": [
    "weights_3 = Table().with_columns(\n",
    "    'Book', alpha_3,\n",
    "    'Weight', [0.6, 0.3, 0.1]\n",
    ")\n",
    "weights_3"
   ]
  },
  {
   "cell_type": "markdown",
   "metadata": {
    "#solution": false,
    "#staff": false,
    "#student": false
   },
   "source": [
    "Recall that a row of a Table is a \"row object\". The call `tbl.row(index)` evaluates to the row of `tbl` that has the given index."
   ]
  },
  {
   "cell_type": "code",
   "execution_count": null,
   "metadata": {
    "#solution": false,
    "#staff": false,
    "#student": false
   },
   "outputs": [],
   "source": [
    "weights_3.row(0)"
   ]
  },
  {
   "cell_type": "markdown",
   "metadata": {
    "#solution": false,
    "#staff": false,
    "#student": false
   },
   "source": [
    "You can access elements of a row just as you can access elements of a list."
   ]
  },
  {
   "cell_type": "code",
   "execution_count": null,
   "metadata": {
    "#solution": false,
    "#staff": false,
    "#student": false
   },
   "outputs": [],
   "source": [
    "weights_3.row(0)[1]"
   ]
  },
  {
   "cell_type": "markdown",
   "metadata": {
    "#solution": false,
    "#staff": false,
    "#student": false
   },
   "source": [
    "### 3b) [On paper] Tsetlin Library Transition Probabilities ###\n",
    "On paper, find the following probabilities for the Tsetlin Library chain with the books and weight distribution in `weights_3`. "
   ]
  },
  {
   "cell_type": "markdown",
   "metadata": {
    "#solution": false,
    "#staff": false,
    "#student": true
   },
   "source": [
    "\n",
    "P(ABC | ABC) = \n",
    "\n",
    "P(ACB | ABC) = \n",
    "\n",
    "P(BAC | ABC) = \n",
    "\n",
    "P(BCA | ABC) =\n",
    "\n",
    "P(ABC | CAB) = \n",
    "\n",
    "P(CAB | CAB) ="
   ]
  },
  {
   "cell_type": "markdown",
   "metadata": {
    "#solution": false,
    "#staff": false,
    "#student": false
   },
   "source": [
    "In Part **2c** you defined the function `rtf_transition`. Modify that definition to define the function `tsetlin_transition`. The function takes three arguments:\n",
    "\n",
    "- a table containing a distribution of weights; Column 0 contains the alphabet and Column 1 contains the corresponding weights\n",
    "- a start state, that is a permutation of the alphabet\n",
    "- an end state, that is also a permutation of the alphabet\n",
    "\n",
    "The function returns the one-step transition probability $P(s, e)$ of the Tsetlin Library chain with the given weight distribution on the alphabet.\n",
    "\n",
    "Fill in the blanks below to complete the definition of the function `tsetlin_transition`. Please don't add any lines or edit anything but the `...`."
   ]
  },
  {
   "cell_type": "code",
   "execution_count": null,
   "metadata": {
    "#solution": false,
    "#staff": false,
    "#student": true
   },
   "outputs": [],
   "source": [
    "\n",
    "def tsetlin_transition(weights_table, start_state, end_state):\n",
    "    for k in np.arange(....num_rows):\n",
    "        if ... move_to_front(...):\n",
    "            return ...\n",
    "    return 0"
   ]
  },
  {
   "cell_type": "markdown",
   "metadata": {
    "#solution": false,
    "#staff": false,
    "#student": false
   },
   "source": [
    "### 3c) Tsetlin Library Chain ###\n",
    "Construct a `MarkovChain` named `tsetlin_3` that is the Tsetlin library chain based on the books and weights in `weights_3`. "
   ]
  },
  {
   "cell_type": "code",
   "execution_count": null,
   "metadata": {
    "#solution": false,
    "#staff": false,
    "#student": true
   },
   "outputs": [],
   "source": [
    "def tset_3_trans(start_state, end_state):\n",
    "    ...\n",
    "           \n",
    "tsetlin_3 = MarkovChain...\n",
    "tsetlin_3"
   ]
  },
  {
   "cell_type": "markdown",
   "metadata": {
    "#solution": false,
    "#staff": false,
    "#student": false
   },
   "source": [
    "### 3d) The Short Run ###\n",
    "Find the distribution of the chain at time 5, given that it started in `abc`."
   ]
  },
  {
   "cell_type": "code",
   "execution_count": null,
   "metadata": {
    "#solution": false,
    "#staff": false,
    "#student": true
   },
   "outputs": [],
   "source": [
    "tsetlin_3.distribution..."
   ]
  },
  {
   "cell_type": "markdown",
   "metadata": {
    "#solution": false,
    "#staff": false,
    "#student": false
   },
   "source": [
    "This distribution is not very easy to interpret intuitively. But when you run the chain for longer, something very interesting happens."
   ]
  },
  {
   "cell_type": "markdown",
   "metadata": {
    "#solution": false,
    "#staff": false,
    "#student": false
   },
   "source": [
    "#newpage\n",
    "\n",
    "## Part 4: The Tsetlin Library in Steady State ##\n",
    "The steady state distribution of the Tsetlin Library chain has beautiful properties."
   ]
  },
  {
   "cell_type": "markdown",
   "metadata": {
    "#solution": false,
    "#staff": false,
    "#student": false
   },
   "source": [
    "### 4a) The Leftmost Book ###\n",
    "Display a distribution `tsetlin_3_pi` that is the steady state distribution of the `tsetlin_3` chain. Notice that it is quite close to the distribution of the chain at time at time 5, which you found in **3d**. With such a small library, you don't need many steps before the library gets close to its steady state."
   ]
  },
  {
   "cell_type": "code",
   "execution_count": null,
   "metadata": {
    "#solution": false,
    "#staff": false,
    "#student": true
   },
   "outputs": [],
   "source": [
    "tsetlin_3_pi = ...\n",
    "tsetlin_3_pi"
   ]
  },
  {
   "cell_type": "markdown",
   "metadata": {
    "#solution": false,
    "#staff": false,
    "#student": false
   },
   "source": [
    "Use the table to find the expected long run proportion of time each of the following events happens. If you like, you can just copy-paste values from the table to use in your calculations.\n",
    "\n",
    "In the cell below your calculations, **explain why the answers make sense**.\n",
    "\n",
    "(i) the leftmost book is `'A'`\n",
    "\n",
    "(ii) the leftmost book is `'B'`\n",
    "\n",
    "(iii) the leftmost book is `'C'`"
   ]
  },
  {
   "cell_type": "code",
   "execution_count": null,
   "metadata": {
    "#solution": false,
    "#staff": false,
    "#student": true
   },
   "outputs": [],
   "source": [
    "leftmost_A = ...\n",
    "leftmost_B = ...\n",
    "leftmost_C = ...\n",
    "\n",
    "leftmost_A, leftmost_B, leftmost_C"
   ]
  },
  {
   "cell_type": "markdown",
   "metadata": {
    "#solution": false,
    "#staff": false,
    "#student": true
   },
   "source": [
    "\n",
    "**Your answer here.**"
   ]
  },
  {
   "cell_type": "markdown",
   "metadata": {
    "#solution": false,
    "#staff": false,
    "#student": false
   },
   "source": [
    "### 4b) Second From Left ###\n",
    "Use the steady state distribution `tsetlin_3_pi` and `weights` to find the two ratios below:\n",
    "\n",
    "(i) the expected long run proportion of times that `'A'` is leftmost and `'B'` is second leftmost, relative to the expected long run proportion of times `'A'` is leftmost and `'C'` is second leftmost\n",
    "\n",
    "(ii) weight of `'B'` relative to weight of `'C'`"
   ]
  },
  {
   "cell_type": "code",
   "execution_count": null,
   "metadata": {
    "#solution": false,
    "#staff": false,
    "#student": false
   },
   "outputs": [],
   "source": [
    "ab_ac = ...\n",
    "b_c = ...\n",
    "\n",
    "ab_ac, b_c"
   ]
  },
  {
   "cell_type": "markdown",
   "metadata": {
    "#solution": false,
    "#staff": false,
    "#student": false
   },
   "source": [
    "What do you notice about the answers?"
   ]
  },
  {
   "cell_type": "markdown",
   "metadata": {
    "#solution": false,
    "#staff": false,
    "#student": true
   },
   "source": [
    "\n",
    "**Your answer here.**"
   ]
  },
  {
   "cell_type": "markdown",
   "metadata": {
    "#solution": false,
    "#staff": false,
    "#student": false
   },
   "source": [
    "You should now be able to use `weights_3` to find the following ratios. So you shouldn't need a code cell.\n",
    "\n",
    "(i) the expected long run proportion of times `'B'` is leftmost and `'A'` is second leftmost, relative to the expected long run proportion of times `'B'` is leftmost and `'C'` is second leftmost\n",
    "\n",
    "(ii) the expected long run proportion of times `'C'` is leftmost and `'A'` is second leftmost, relative to the expected long run proportion of times `'C'` is leftmost and `'B'` is second leftmost"
   ]
  },
  {
   "cell_type": "markdown",
   "metadata": {
    "#solution": false,
    "#staff": false,
    "#student": true
   },
   "source": [
    "\n",
    "**Your answer here.**\n",
    "\n",
    "(i)\n",
    "\n",
    "(ii)"
   ]
  },
  {
   "cell_type": "markdown",
   "metadata": {
    "#solution": false,
    "#staff": false,
    "#student": false
   },
   "source": [
    "### 4c) [on paper] Balance Equations ###\n",
    "\n",
    "Consider the Tsetlin Library that has books `'A'`, `'B'`, `'C'` with positive weights $p_A$, $p_B$, and $p_C$ respectively. Assume $p_A + p_B + p_C = 1$.\n",
    "\n",
    "Let $\\pi$ be the steady state distribution of the chain. \n",
    "\n",
    "Write all the balance equations.\n"
   ]
  },
  {
   "cell_type": "markdown",
   "metadata": {
    "#solution": false,
    "#staff": false,
    "#student": false
   },
   "source": [
    "### 4d) [on paper] Proportion of Time Spent Leftmost ###\n",
    "Use the balance equations to find the expected long run proportion of times when `'A'` is leftmost. Your answer should be in terms of the weights."
   ]
  },
  {
   "cell_type": "markdown",
   "metadata": {
    "#solution": false,
    "#staff": false,
    "#student": false
   },
   "source": [
    "### 4e) [on paper] Relative Proportion of Time Spent Second from Left ###\n",
    "Use the balance equations to find the ratio of the following two quantities. Your answer should be in terms of the weights.\n",
    "\n",
    "- expected long run proportion of times when `'A'` is leftmost and `'B'` is second from left \n",
    "- expected long run proportion of times when `'A'` is leftmost and `'C'` is second from left "
   ]
  },
  {
   "cell_type": "markdown",
   "metadata": {
    "#solution": false,
    "#staff": false,
    "#student": false
   },
   "source": [
    "#newpage\n",
    "\n",
    "## Part 5: A Larger Library ##\n",
    "These properties are true for larger libraries and any positive weights that add up to 1. Just label the highest weighted book `'A'`, the next highest one `'B'`, and so on, for consistency of interpretation.\n",
    "\n",
    "\n",
    "### 5a) Steady State ###\n",
    "Complete the cells below to construct the Tsetlin Library chain with the six books `alpha_6` and any set of positive weights that you make up, as long as $p_A$ is the largest, $p_B$ the second largest, and so on, and the sum of the weights is 1. Find the steady state distribution `tsetlin_6_pi`. It takes a while to do this, so be patient as the cell runs."
   ]
  },
  {
   "cell_type": "code",
   "execution_count": null,
   "metadata": {
    "#solution": false,
    "#staff": false,
    "#student": true
   },
   "outputs": [],
   "source": [
    "weights_6 = Table().with_columns(\n",
    "    'Book', alpha_6,\n",
    "    'Weight', ...\n",
    ")\n",
    "weights_6"
   ]
  },
  {
   "cell_type": "code",
   "execution_count": null,
   "metadata": {
    "#solution": false,
    "#staff": false,
    "#student": true
   },
   "outputs": [],
   "source": [
    "def tset_6_trans(start_state, end_state):\n",
    "    ...\n",
    "           \n",
    "tsetlin_6 = MarkovChain...\n",
    "tsetlin_6_pi = tsetlin_6.steady_state()"
   ]
  },
  {
   "cell_type": "code",
   "execution_count": null,
   "metadata": {
    "#solution": false,
    "#staff": false,
    "#student": true
   },
   "outputs": [],
   "source": [
    "tsetlin_6_pi"
   ]
  },
  {
   "cell_type": "markdown",
   "metadata": {
    "#solution": false,
    "#staff": false,
    "#student": false
   },
   "source": [
    "### 5b) Long Run Proportions ###\n",
    "(i) Use `tsetlin_6_pi` to find the expected long run proportion of times when `'A'` is leftmost.\n",
    "\n",
    "For this calculation, you are going to have to select the right rows of `tsetlin_6_pi`. It might help to remember that `tbl.take(range_of_indices)` evaluates to a Table consisting of the rows of `tbl` indexed by elements of `range_of_indices`. \n",
    "\n",
    "You might also want `special.factorial(n, exact=True)` from Part **2f** for evaluating $n!$ as an `int`. This will help you to identify the rows that you need."
   ]
  },
  {
   "cell_type": "code",
   "execution_count": null,
   "metadata": {
    "#solution": false,
    "#staff": false,
    "#student": true
   },
   "outputs": [],
   "source": [
    "# (i)\n"
   ]
  },
  {
   "cell_type": "markdown",
   "metadata": {
    "#solution": false,
    "#staff": false,
    "#student": false
   },
   "source": [
    "(ii) Use `tsetlin_6_pi` to find the ratio of the expected long run proportions of times when:\n",
    "\n",
    "- `'A'` is leftmost and `'B'` is second from left\n",
    "- `'A'` is leftmost and `'C'` is second from left"
   ]
  },
  {
   "cell_type": "code",
   "execution_count": null,
   "metadata": {
    "#solution": false,
    "#staff": false,
    "#student": true
   },
   "outputs": [],
   "source": [
    "# (ii)\n",
    "numerator = ...\n",
    "denominator = ...\n",
    "\n",
    "numerator / denominator"
   ]
  },
  {
   "cell_type": "markdown",
   "metadata": {
    "#solution": false,
    "#staff": false,
    "#student": false
   },
   "source": [
    "(iii) Use `weights_6` to find the ratio of the weight of `'B'` and the weight of `'C'`."
   ]
  },
  {
   "cell_type": "code",
   "execution_count": null,
   "metadata": {
    "#solution": false,
    "#staff": false,
    "#student": true
   },
   "outputs": [],
   "source": []
  },
  {
   "cell_type": "markdown",
   "metadata": {
    "#solution": false,
    "#staff": false,
    "#student": false
   },
   "source": [
    "## Conclusion ##\n",
    "In this lab, you have learned:\n",
    "- How to work with the `MarkovChain` class in the `prob140` library\n",
    "- Repeating the random-to-front shuffle leads to a well shuffled deck\n",
    "- Books in the Tsetlin Library are found in the leftmost position according to their \"importance\" as measured by their assigned weights\n",
    "- Among the times when a particular book is on the left, the proportions of times the other books are second from left have the same ratios as the weights of those books\n",
    "- Markov chains on permutations (both random and size-biased as in the Tsetlin Library) have symmetries that can lead to remarkable long run properties."
   ]
  },
  {
   "cell_type": "markdown",
   "metadata": {
    "#solution": false,
    "#staff": false,
    "#student": false
   },
   "source": [
    "## Checklist\n",
    "\n",
    "Your lab submission will consist of two parts: a written section and a code section\n",
    "\n",
    "**Written**\n",
    "- 2c, 3b\n",
    "- 4c, 4d, 4e\n",
    "\n",
    "**Code**:\n",
    "\n",
    "- 1a-e, 2a-e, 3a-c, 4a-b, 5a-b"
   ]
  },
  {
   "cell_type": "markdown",
   "metadata": {
    "#solution": false,
    "#staff": false,
    "#student": false
   },
   "source": [
    "## Submission Instructions ##\n",
    "\n",
    "Many assignments throughout the course will have a written portion and a code portion. Please follow the directions below to properly submit both portions.\n",
    "\n",
    "### Written Portion ###\n",
    "*  Scan all the pages into a PDF. You can use any scanner or a phone using applications such as CamScanner. Please **DO NOT** simply take pictures using your phone. \n",
    "* Please start a new page for each question. If you have already written multiple questions on the same page, you can crop the image in CamScanner or fold your page over (the old-fashioned way). This helps expedite grading.\n",
    "* It is your responsibility to check that all the work on all the scanned pages is legible.\n",
    "\n",
    "### Code Portion ###\n",
    "* Save your notebook using File > Save and Checkpoint.\n",
    "* Generate a PDF file using File > Download as > PDF via LaTeX. This might take a few seconds and will automatically download a PDF version of this notebook.\n",
    "    * If you have issues, please make a follow-up post on the general Lab 2 Ed thread.\n",
    "    \n",
    "### Submitting ###\n",
    "* Combine the PDFs from the written and code portions into one PDF.  [Here](https://smallpdf.com/merge-pdf) is a useful tool for doing so. \n",
    "* Submit the assignment to Lab 2 on Gradescope. \n",
    "* **Make sure to assign each page of your pdf to the correct question.**\n",
    "* **It is your responsibility to verify that all of your work shows up in your final PDF submission.**\n",
    "\n",
    "If you have questions about scanning or uploading your work, please post a follow-up to the [Ed thread](https://edstem.org/us/courses/17989/discussion/1027297) on this topic. "
   ]
  },
  {
   "cell_type": "markdown",
   "metadata": {
    "#solution": false,
    "#staff": false,
    "#student": false
   },
   "source": [
    "## **We will not grade assignments which do not have pages selected for each question.** ##"
   ]
  },
  {
   "cell_type": "code",
   "execution_count": null,
   "metadata": {
    "#solution": false,
    "#staff": false,
    "#student": false
   },
   "outputs": [],
   "source": []
  }
 ],
 "metadata": {
  "anaconda-cloud": {},
  "checksums": [
   "97e9f956129f9a314d929ab9f98d9778",
   "1e450837f04b91a15441754add206b6c",
   "3a2a7236e290b2a336105e48862b19de",
   "036db2d2d84687f1befca7d08aa364f8",
   "cc2c3a7025c03c622088c646f4eb0d48",
   "3a76d7cce4e9ecdb4fe70737e7879960",
   "640061103a186fd26f59746dd4d6de57",
   "89e0d6c0981b6e2db023fdf18aca9c09",
   "2ab95c33c52d1e0c149d9fadd62c341a",
   "7f1e9f5a36ba313805fb9f6311cb673d",
   "624d9505d87ec836979e476e01a32970",
   "a38a26bb8d9af58ea9fd1a18dbf70c79",
   "25756fe00591774357525f5a512460a9",
   "88c381a76d9955d9c16d8f08ae12f8be",
   "7ce5941c5b769b453f66329a65355ddd",
   "70908eac7a7b268a11541cc1732ba915",
   "ae77d02f96e56cbd96dba429b8ac5332",
   "36684f576d060be12b1a985ae6bb6474",
   "5aca3cb9c115e66a6fff004f1daf715e",
   "e1b59f42ebb6fc73707d76fd1d51489a",
   "cda524ef69be99f8d661a7f3de3edaa0",
   "2382e7725669acb24c1a6b943d048c02",
   "bdb347d6532878d551a239acf8b8b6e5",
   "0e599b120a2ad340d997c4fc2d61d1d0",
   "b8d9e551adb4b5f2435f94932a644723",
   "04160b6e73656f49636fac119a5d769e",
   "dbb5d664c85c52f2967f369a8496195f",
   "3a76d7cce4e9ecdb4fe70737e7879960",
   "15dcb10eed9b51c210ad1dd531d36067",
   "2f43b42fd833d1e77420a8dae7419000",
   "3e1396deb0a06a47f24eedc8b1fb778f",
   "2f43b42fd833d1e77420a8dae7419000",
   "d58392d0a932b508398e485ea21e2d5e",
   "3a76d7cce4e9ecdb4fe70737e7879960",
   "799725bc88c8cd4a650d28d6450e41d2",
   "8915fc6c2529a97ac110b0f7fa1a2868",
   "9c2dea0546f56ded3fadd1241aaace34",
   "3a76d7cce4e9ecdb4fe70737e7879960",
   "d0cd9d6a24c07556c4388d5096ce249f",
   "2f43b42fd833d1e77420a8dae7419000",
   "90fe2298d16d0a1108f033bde2708bf6",
   "3a76d7cce4e9ecdb4fe70737e7879960",
   "228a392d3a8341e163089dcc1308bf6a",
   "8f38766360b89152b59ca322a95af240",
   "4824eaf5f7cdc42301f8e5e3d156af93",
   "5f22ba61f6d514963a2d44b170f6999c",
   "f57424d5eec3e2a943d68b5f84efa5c6",
   "dbb1b5415b274908ac864871faf1dafb",
   "39979531757bf2e3c940630ace731dcd",
   "51e5c519a8a918c21ada8418b684e2db",
   "fe6f4009702193c197d90ae0470c1a74",
   "34d461c037382fd76f16cf7836fc897d",
   "aeee1966c73b3e2c4791fba1a2dad224",
   "8e545274a08dce2a982bc1f34898861e",
   "b257614ca046d85bc9077b3e450ba600",
   "3ef71b957024cfe7c8900f272ebd0d7e",
   "7850af793b46b5651164c365375621e2",
   "3a76d7cce4e9ecdb4fe70737e7879960",
   "948c4c9f45dc44002fe7f2327b5003f1",
   "2f43b42fd833d1e77420a8dae7419000",
   "57c87dfa5aed21a060509e75b8e96e2c",
   "3a76d7cce4e9ecdb4fe70737e7879960",
   "f2df346722bfcdddc753e0cc34515505",
   "e6125f85549ff49eb60d408709478b95",
   "8ec975b9ed02521e4727dd2e2c942c7e",
   "2f43b42fd833d1e77420a8dae7419000",
   "31bbc66878f154bd260422475664c8a6",
   "5cd738dd7655d1e1c8368e525e179fe5",
   "e4a9feb4ce0d3d2d939e61898d0919dd",
   "42462c1c2940106cda2bfaf9c2c9c7a9",
   "56265afd36e2bca0b54376d96c58655c",
   "d3bffc60c6de955b42d39b551552f47d",
   "93f2e2dc0367e25d2a7711a7f6ce1f95",
   "950872a322a661520924b4b739974cfd",
   "51e5c519a8a918c21ada8418b684e2db",
   "a072989c5ccc872dd58751221a979b65",
   "c90ab82cddc4331e30eb799c3d7dcf04",
   "8268e2a94ad4aee35d116573ab81c0c3",
   "57f37c4c8283fc27b5251b79d772a4ea",
   "a0d648f96b84d0126ab7b83628020991",
   "1a9188376c3e5d85f912b93b4df3e9e3",
   "3a11d5fce17f2e74c5768d9f6cb38137",
   "c9b2808ca91f15352d1534464c0856ea",
   "48e7e8e4f97fab66ea25e2b8bee605d5",
   "eeab9f8b5092e9caf1f7c28d3e436f59",
   "bd8a16d87e36a5c7cc289d31895e534b",
   "74230487cc8773130c064a0600468d16",
   "3a76d7cce4e9ecdb4fe70737e7879960",
   "0377c8662d242ef67c5ec7bd09b1364d",
   "56555adf67ec0900047856b2046041da",
   "48fa7783492575412e5145ce1c3999bf",
   "3a76d7cce4e9ecdb4fe70737e7879960",
   "00cc1b8e7a10bca9011418365b6b6f22",
   "956567827501b7984e46c1f903c95939",
   "1ab8175445a962c50129deebe1128c19",
   "81c6d2401141a85284af0990b37a1af5",
   "a702e1f1136723411fdd53b89e0072c0",
   "14f6ccde44b46a625e1672680c0c505f",
   "af0cd5b9b67fdcd4b9924db7361d0ee0",
   "1dbe252b13558dd49251b06c0d9d9bf6",
   "10edf5d932d13909e8dd36eee1ea470a",
   "7eb8096fb7e8f0b5ddb6811a77beeb11",
   "eb2886a9b9ad594638c3fb3222521174",
   "62f55da90768e2d091bb1d6babd17672",
   "b5b9abf69d53b216da018f6e0e0a89a8",
   "09c1105cc4df5de0e29bfdbcfca351b9",
   "d41d8cd98f00b204e9800998ecf8427e",
   "65ec60fc2d331067fc5589b6545c7e0e",
   "05ea912886e9a3456e54fe5a60885c9c",
   "ca6635988e7c4af1d3da98d1baa080e1",
   "28b84f784840e42a5b8327aab8f973c0",
   "d41d8cd98f00b204e9800998ecf8427e"
  ],
  "kernelspec": {
   "display_name": "Python 3 (ipykernel)",
   "language": "python",
   "name": "python3"
  },
  "language_info": {
   "codemirror_mode": {
    "name": "ipython",
    "version": 3
   },
   "file_extension": ".py",
   "mimetype": "text/x-python",
   "name": "python",
   "nbconvert_exporter": "python",
   "pygments_lexer": "ipython3",
   "version": "3.9.10"
  },
  "number_of_pagebreaks": 5
 },
 "nbformat": 4,
 "nbformat_minor": 2
}

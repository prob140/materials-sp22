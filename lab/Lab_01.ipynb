{
 "cells": [
  {
   "cell_type": "markdown",
   "metadata": {
    "#solution": false,
    "#staff": false,
    "#student": false
   },
   "source": [
    "<table align=\"left\" style=\"border-style: hidden\" class=\"table\"> <tr><td class=\"col-md-2\"><img style=\"float\" src=\"http://prob140.org/assets/icon256.png\" alt=\"Prob140 Logo\" style=\"width: 120px;\"/></td><td><div align=\"left\"><h3 style=\"margin-top: 0;\">Probability for Data Science</h3><h4 style=\"margin-top: 20px;\">UC Berkeley, Spring 2022</h4><p>Ani Adhikari</p>CC BY-NC-SA 4.0</div></td></tr></table><!-- not in pdf -->\n",
    "\n",
    "This content is protected and may not be shared, uploaded, or distributed."
   ]
  },
  {
   "cell_type": "code",
   "execution_count": 1,
   "metadata": {
    "#solution": false,
    "#staff": false,
    "#student": false
   },
   "outputs": [],
   "source": [
    "# SETUP\n",
    "import warnings\n",
    "warnings.filterwarnings('ignore')\n",
    "\n",
    "import numpy as np\n",
    "from datascience import *\n",
    "from prob140 import *\n",
    "\n",
    "# These lines do some fancy plotting magic\n",
    "import matplotlib\n",
    "%matplotlib inline\n",
    "import matplotlib.pyplot as plt\n",
    "plt.style.use('fivethirtyeight')\n",
    "\n",
    "# Useful for probability calculations\n",
    "from scipy import stats\n",
    "# add following line of code\n",
    "from scipy import special\n"
   ]
  },
  {
   "cell_type": "markdown",
   "metadata": {
    "#solution": false,
    "#staff": false,
    "#student": false
   },
   "source": [
    "## Instructions\n",
    "Your labs have two components: a written portion and a portion that also involves code. Written work should be completed on paper, and coding questions should be done in the notebook. You are welcome to LaTeX your answers to the written portions, but staff will not be able to assist you with LaTeX related issues. It is your responsibility to ensure that both components of the lab are submitted completely and properly to Gradescope. Refer to the bottom of the notebook for submission instructions."
   ]
  },
  {
   "cell_type": "markdown",
   "metadata": {
    "#solution": false,
    "#staff": false,
    "#student": false
   },
   "source": [
    "# Lab 1: Total Variation #"
   ]
  },
  {
   "cell_type": "markdown",
   "metadata": {
    "#solution": false,
    "#staff": false,
    "#student": false
   },
   "source": [
    "## Lab Resources\n",
    "\n",
    "* [`prob 140` Library Documentation](http://prob140.org/prob140/)\n",
    "* [`datascience` Library Documentation](http://data8.org/datascience/)\n",
    "* [Prob 140 Code Reference Sheet](http://prob140.org/assets/prob140_code_reference.pdf)"
   ]
  },
  {
   "cell_type": "markdown",
   "metadata": {
    "#solution": false,
    "#staff": false,
    "#student": false
   },
   "source": [
    "In Data 8, you measured the difference between two categorical distributions by calculating the total variation distance (TVD) between them. The bigger the distance, the less similar the two distributions are. But in Data 8, we didn't discuss some obvious questions about the TVD, such as:\n",
    "\n",
    "- How big could the TVD between two distributions be? Could it be arbitrarily large, like the distance between two points on the number line?\n",
    "- Is there any way to interpret the numerical value of the TVD? For example, if we know that the TVD between two distributions is 0.02, what does that tell us?\n",
    "\n",
    "In this lab, you will start by interpreting the total variation distance in terms of probabilities. You will then use the TVD to measure the difference between two probability distributions on the non-negative integers. In Data 8 terms, you can think of each non-negative integer as a \"category\".\n",
    "\n",
    "**The main point of the lab is that the total variation distance will give you a precise way to quantify how well one probability distribution approximates another.**\n",
    "\n",
    "Our focus will be on *Poisson* distributions, which are often used as approximations to distributions of counts of rare events. In particular, the Poisson $(1)$ distribution approximates the distributions of some random counts that have $0$ and $1$ as their most likely values.\n",
    "\n",
    "A random variable $X$ has the Poisson $(1)$ distribution if\n",
    "\n",
    "$$\n",
    "P(X = k) ~ = ~ e^{-1} \\frac{1}{k!}, ~~~ k \\ge 0\n",
    "$$\n",
    "\n",
    "This is a probability distribution on infinitely many possible values. We will need that infinite support if we are going to approximate distributions on the values $0, 1, 2, \\ldots, n$ for arbitrarily large $n$.\n",
    "\n",
    "In class we are studying two situations in which probabilities approach those in a Poisson distribution. One is counting the number of matches in the matching problem with $n$ letters, when $n$ is large. The other is counting the number of successes in $n$ i.i.d. Bernoulli $(p)$ trials, for large $n$ and small $p$.\n",
    "\n",
    "In this lab you will look at the entire distribution of the number of matches, and also the binomial $(n, 1/n)$ distribution. You will compare them with their Poisson $(1)$ approximations, both visually and also by the TVD. \n",
    "\n",
    "In doing so, you will find an upper bound for the amount of error you can make when you use the approximations to calculate probabilities.\n",
    "\n",
    "What you will learn:\n",
    "- The definition of total variation distance and its interpretation in terms of the amount of error in approximating probabilities\n",
    "- For large $n$, properties of the TVD between the distribution of the number of matches and the Poisson $(1)$ distribution\n",
    "- For large $n$, properties of the TVD between the binomial $(n, 1/n)$ and Poisson $(1)$ distributions\n",
    "- A generalization of the binomial distribution, and a simple upper bound on a related TVD."
   ]
  },
  {
   "cell_type": "markdown",
   "metadata": {
    "#solution": false,
    "#staff": false,
    "#student": false
   },
   "source": [
    "# Part A of the lab starts here # "
   ]
  },
  {
   "cell_type": "markdown",
   "metadata": {
    "#solution": false,
    "#staff": false,
    "#student": false
   },
   "source": [
    "## Identify Your Lab Partner ##"
   ]
  },
  {
   "cell_type": "markdown",
   "metadata": {
    "#solution": false,
    "#staff": false,
    "#student": false
   },
   "source": [
    "This is a multiple choice question. Please select **ONE** of following options that best describes how you complete **Part A** of this lab.\n",
    "\n",
    "* I am doing Part A of this lab by myself and I don't have a partner.\n",
    "* My partner for Part A of this lab is [NAME] with email [berkeley.edu email address]. [NAME] will submit for both of us on Gradescope.\n",
    "\n",
    "Please copy and paste **ONE** of above statements and fill in blanks if needed. If you work with a partner, make sure only one of you submit on Gradescope."
   ]
  },
  {
   "cell_type": "markdown",
   "metadata": {
    "#solution": false,
    "#staff": false,
    "#student": false
   },
   "source": [
    "**Your answer here.**"
   ]
  },
  {
   "cell_type": "markdown",
   "metadata": {
    "#solution": false,
    "#staff": false,
    "#student": false
   },
   "source": [
    "#newpage"
   ]
  },
  {
   "cell_type": "markdown",
   "metadata": {
    "#solution": false,
    "#staff": false,
    "#student": false
   },
   "source": [
    "## Part 1: Total Variation Distance ##"
   ]
  },
  {
   "cell_type": "markdown",
   "metadata": {
    "#solution": false,
    "#staff": false,
    "#student": false
   },
   "source": [
    "Suppose you have two probability distributions on the same set of possible values $x_1, x_2, \\ldots , x_n$. Let the two distributions be $b_1, b_2, \\ldots, b_n$ and $g_1, g_2, \\ldots, g_n$, where for each $i$ the $b$-distribution assigns probability $b_i$ to the value $x_i$ and the $g$-distribution assigns probability $g_i$.\n",
    "\n",
    "The *total variation distance* between the two distributions is defined by\n",
    "\n",
    "$$\n",
    "tvd(b, g) = \n",
    "\\frac{1}{2} \\sum_{i=1}^n |b_i - g_i| \n",
    "$$\n",
    "\n",
    "The choice of notation comes from the blue and gold colors you will see in overlaid histograms below."
   ]
  },
  {
   "cell_type": "markdown",
   "metadata": {
    "#solution": false,
    "#staff": false,
    "#student": false
   },
   "source": [
    "### 1a) [CODE] Computing TVD ###\n",
    "We will use the term *probability array* to mean an array of non-negative numbers that sum to 1. \n",
    "\n",
    "Define a function `tvd` that takes two probability arrays of the same size as arguments and returns the total variation distance between them. You should just assume that both of the input arrays will be probability distributions on the same set of possible values. You don't have to include code to check that. "
   ]
  },
  {
   "cell_type": "code",
   "execution_count": 2,
   "metadata": {
    "#solution": false,
    "#staff": false,
    "#student": true
   },
   "outputs": [],
   "source": [
    "def tvd(b, g):\n",
    "    return 1/2 * sum(abs(b - g))"
   ]
  },
  {
   "cell_type": "markdown",
   "metadata": {
    "#solution": false,
    "#staff": false,
    "#student": false
   },
   "source": [
    "When the two arrays are $b = [0.4, 0.3, 0.2, 0.1]$ and $g = [0.25, 0.35, 0.25, 0.15]$, the histograms look like this:"
   ]
  },
  {
   "cell_type": "code",
   "execution_count": 3,
   "metadata": {
    "#solution": false,
    "#staff": false,
    "#student": false
   },
   "outputs": [
    {
     "data": {
      "image/png": "[encoded data removed]",
      "text/plain": [
       "<Figure size 432x288 with 1 Axes>"
      ]
     },
     "metadata": {},
     "output_type": "display_data"
    }
   ],
   "source": [
    "b = make_array(0.4, 0.3, 0.2, 0.1)\n",
    "g = make_array(0.25, 0.35, 0.25, 0.15)\n",
    "\n",
    "k = np.arange(4)\n",
    "\n",
    "blue_dist = Table().values(k).probabilities(b)\n",
    "gold_dist = Table().values(k).probabilities(g)\n",
    "\n",
    "Plots('Distribution 1', blue_dist, 'Distribution 2', gold_dist)"
   ]
  },
  {
   "cell_type": "markdown",
   "metadata": {
    "#solution": false,
    "#staff": false,
    "#student": false
   },
   "source": [
    "Calculate the TVD by mental math. Then run the cell below to confirm that your function `tvd` is working correctly."
   ]
  },
  {
   "cell_type": "code",
   "execution_count": 4,
   "metadata": {
    "#solution": false,
    "#staff": false,
    "#student": true
   },
   "outputs": [
    {
     "data": {
      "text/plain": [
       "0.15"
      ]
     },
     "execution_count": 4,
     "metadata": {},
     "output_type": "execute_result"
    }
   ],
   "source": [
    "tvd(b, g)"
   ]
  },
  {
   "cell_type": "markdown",
   "metadata": {
    "#solution": false,
    "#staff": false,
    "#student": false
   },
   "source": [
    "The total variation distance between the two distributions is the total amount by which the areas of the blue bars exceed those of the corresponding gold bars. That's exactly equal to the total amount by which the gold bars exceed the blue.\n",
    "\n",
    "This is almost apparent from the definition of total variation distance, and you will prove it later in this lab. Just assume it for now as you did in Data 8. It is an intuitively reasonable measure of the difference between the two distributions."
   ]
  },
  {
   "cell_type": "markdown",
   "metadata": {
    "#solution": false,
    "#staff": false,
    "#student": false
   },
   "source": [
    "### 1b) Another Way of Interpreting TVD ###\n",
    "\n",
    "**This part will be done in section on Wednesday; don't include it in your Gradescope submission.**\n",
    "\n",
    "Thus far, our interpretation of total variation distance has been essentially geometric: the amount by which the blue bars exceed the gold. There is an equivalent interpretation in terms of probabilities that makes it easier to understand what the numerical value of the distance is telling us.\n",
    "\n",
    "Suppose you have a finite set of possible values, and a choice of two probability distributions to use for finding probabilities. For example, the choices might be the exact distribution of a random variable and an approximate distribution. \n",
    "\n",
    "**The total variation distance between the two distributions is the biggest difference you can possibly get if you compute the probability of an event using each of the two distributions.**\n",
    "\n",
    "Formally, if $S$ is the space of all possible values, then the total variation distance between the blue and gold distributions is equal to\n",
    "\n",
    "$$\n",
    "\\max\\{ \\big{\\lvert} P_{blue}(A) - P_{gold}(A) \\big{\\rvert} : A \\subseteq S\\}\n",
    "$$\n",
    "\n",
    "This can be shown in a few straightforward steps and you will do that at the end of this lab. For now, confirm that it is true for the distributions in **1a**, in the following steps.\n",
    "\n",
    "- Figure out how many events can be created out of the outcomes $\\{0, 1, 2, 3\\}$.\n",
    "- List all the events.\n",
    "- For each event, compute the absolute difference between the blue and gold probabilities of the event. Your goal is to find the biggest possible absolute difference, so you might not even need to compute each one.\n",
    "- See which event or events correspond to the biggest absolute difference, and compare the value of that absolute difference with the TVD that you computed in **1a**."
   ]
  },
  {
   "cell_type": "markdown",
   "metadata": {
    "#solution": false,
    "#staff": false,
    "#student": false
   },
   "source": [
    "#newpage"
   ]
  },
  {
   "cell_type": "markdown",
   "metadata": {
    "#solution": false,
    "#staff": false,
    "#student": false
   },
   "source": [
    "## Part 2: Fixed Points of a Random Permutation ##\n",
    "\n",
    "Let $M_n$ be the number of fixed points in a random permutation of the values $1, 2, 3, \\ldots, n$. You can think of $M_n$ as the number of matches when $n$ letters labeled $1$ through $n$ are permuted randomly into $n$ envelopes labeled $1$ through $n$.\n",
    "\n",
    "In class, we found the [distribution](http://prob140.org/textbook/content/Chapter_05/03_The_Matching_Problem.html#k-matches) of $M_n$.\n",
    "\n",
    "We also found the following approximation for large $n$: \n",
    "\n",
    "$$\n",
    "P(M_n = k) ~ \\approx ~ \\frac{e^{-1}}{k!}\n",
    "$$ \n",
    "\n",
    "These are the terms in the Poisson $(1)$ distribution.\n",
    "\n",
    "In this part of the lab you will compare the distribution of $M_n$ with its Poisson $(1)$ approximation."
   ]
  },
  {
   "cell_type": "markdown",
   "metadata": {
    "#solution": false,
    "#staff": false,
    "#student": false
   },
   "source": [
    "### 2a) [CODE] Computing $P(M_n = k)$ ###\n",
    "Complete the definition of the function `prob_matches` that takes $k$ and $n$ as its arguments and returns $P(M_n = k)$. Use as many lines of code as you need. \n",
    "\n",
    "Make sure you compute the [exact distribution](http://prob140.org/textbook/content/Chapter_05/03_The_Matching_Problem.html#k-matches) of $M_n$, not its Poisson approximation. To do this, use array operations. The `special` module of SciPy has been imported and contains a useful `factorial` method: \n",
    "\n",
    "`special.factorial(integer_array)` evaluates to an array consisting of the factorials of all the integers in `integer_array`.\n",
    "\n",
    "Be careful about signs. Follow the lead of the code provided, and tackle all the positive terms separately from all the negative terms."
   ]
  },
  {
   "cell_type": "code",
   "execution_count": null,
   "metadata": {
    "#solution": false,
    "#staff": false,
    "#student": true
   },
   "outputs": [],
   "source": [
    "def prob_matches(k, n):\n",
    "    x_even = np.arange(0, n - k + 1, 2)\n",
    "    x_odd = np.arange(1, n - k + 1, 2)\n",
    "    ...\n",
    "    return ..."
   ]
  },
  {
   "cell_type": "markdown",
   "metadata": {
    "#solution": false,
    "#staff": false,
    "#student": false
   },
   "source": [
    "To confirm that your function is working correctly, think about what $P(M_n = n-1)$ should be, and then run the cell below to check."
   ]
  },
  {
   "cell_type": "code",
   "execution_count": null,
   "metadata": {
    "#solution": false,
    "#staff": false,
    "#student": true
   },
   "outputs": [],
   "source": [
    "prob_matches(99, 100)"
   ]
  },
  {
   "cell_type": "markdown",
   "metadata": {
    "#solution": false,
    "#staff": false,
    "#student": false
   },
   "source": [
    "Use the formula for $P(M_n = k)$ to explain why $P(M_n = 0)$ is very close to $P(M_n = 1)$ when $n$ is large."
   ]
  },
  {
   "cell_type": "markdown",
   "metadata": {
    "#solution": false,
    "#staff": false,
    "#student": true
   },
   "source": [
    "\n",
    "**Your answer here.**"
   ]
  },
  {
   "cell_type": "markdown",
   "metadata": {
    "#solution": false,
    "#staff": false,
    "#student": false
   },
   "source": [
    "Now run the cell below and confirm that your function is working correctly."
   ]
  },
  {
   "cell_type": "code",
   "execution_count": null,
   "metadata": {
    "#solution": false,
    "#staff": false,
    "#student": true
   },
   "outputs": [],
   "source": [
    "prob_matches(0, 100), prob_matches(1, 100)"
   ]
  },
  {
   "cell_type": "markdown",
   "metadata": {
    "#solution": false,
    "#staff": false,
    "#student": false
   },
   "source": [
    "### 2b) [CODE] The Bulk of the Distribution ###\n",
    "Use `prob_matches` to define a function `match_dist` that takes $n$ as its argument and returns an array consisting of the probabilities $P(M_n = k)$ for $0 \\le k \\le n$. "
   ]
  },
  {
   "cell_type": "code",
   "execution_count": null,
   "metadata": {
    "#solution": false,
    "#staff": false,
    "#student": true
   },
   "outputs": [],
   "source": [
    "def match_dist(...):\n",
    "    ..."
   ]
  },
  {
   "cell_type": "markdown",
   "metadata": {
    "#solution": false,
    "#staff": false,
    "#student": false
   },
   "source": [
    "The expression `match_dist(100)[0:11]` evaluates to an array consisting of the elements 0 through 10 of the array `match_dist(100)`. \n",
    "\n",
    "Explain what the output of the cell below tells you about the distribution of $M_n$. As with most questions about random variables, start by thinking about the possible values of $M_n$."
   ]
  },
  {
   "cell_type": "code",
   "execution_count": null,
   "metadata": {
    "#solution": false,
    "#staff": false,
    "#student": true
   },
   "outputs": [],
   "source": [
    "sum(match_dist(100)[0:11])"
   ]
  },
  {
   "cell_type": "markdown",
   "metadata": {
    "#solution": false,
    "#staff": false,
    "#student": true
   },
   "source": [
    "\n",
    "**Your answer here.**"
   ]
  },
  {
   "cell_type": "markdown",
   "metadata": {
    "#solution": false,
    "#staff": false,
    "#student": false
   },
   "source": [
    "### 2c) [CODE] Visualization ###\n",
    "Plot the distribution of $M_{100}$, the number of matches in the matching problem with 100 letters. Use `Plot(dist)` where `dist` is a distribution object created by either:\n",
    "\n",
    "`Table().values(array_of_values).probabilities(array_of_probabilities)`\n",
    "\n",
    "or\n",
    "\n",
    "`Table().values(array_of_values).probability_function(name_of_function)` where `name_of_function` takes a possible value as its argument and returns the probability of that value.\n"
   ]
  },
  {
   "cell_type": "code",
   "execution_count": null,
   "metadata": {
    "#solution": false,
    "#staff": false,
    "#student": true
   },
   "outputs": [],
   "source": [
    "k = np.arange(11)\n",
    "\n",
    "...\n",
    "\n",
    "matches_100 = Table().values(k)...\n",
    "Plot(matches_100)"
   ]
  },
  {
   "cell_type": "markdown",
   "metadata": {
    "#solution": false,
    "#staff": false,
    "#student": false
   },
   "source": [
    "#newpage"
   ]
  },
  {
   "cell_type": "markdown",
   "metadata": {
    "#solution": false,
    "#staff": false,
    "#student": false
   },
   "source": [
    "## Part 3: Poisson Approximation to the Matching Distribution ##\n",
    "\n",
    "Recall from the introduction to the lab that $X$ has the Poisson distribution with parameter 1 if \n",
    "\n",
    "$$\n",
    "P(X = k) ~ = ~ e^{-1} \\frac{1}{k!}, ~~~ k \\ge 0\n",
    "$$\n",
    "\n",
    "The `stats` module of SciPy can be used to calculate the probabilities in this distribution. If `values` is an array of non-negative integers, then\n",
    "\n",
    "`stats.poisson.pmf(values, 1)`\n",
    "\n",
    "evaluates to an array of probabilities of the entries in `values`, determined by the Poisson $(1)$ formula above.\n",
    "\n",
    "The acronym `pmf` stands for \"probability mass function\". It is common for probabilists to think of the probabilities in the distribution of a discrete random variable as masses attached to the random variable's possible values. "
   ]
  },
  {
   "cell_type": "markdown",
   "metadata": {
    "#solution": false,
    "#staff": false,
    "#student": false
   },
   "source": [
    "### 3a) [CODE] The Poisson $(1)$ Distribution ###\n",
    "Draw a histogram of the Poisson $(1)$ distribution."
   ]
  },
  {
   "cell_type": "code",
   "execution_count": null,
   "metadata": {
    "#solution": false,
    "#staff": false,
    "#student": true
   },
   "outputs": [],
   "source": [
    "k = np.arange(11)        # selected possible values\n",
    "poisson_1_probs = ...    # array of corresponding Poisson (1) probabilities\n",
    "poisson_1_dist = ...\n",
    "Plot(poisson_1_dist)\n",
    "plt.title('Poisson (1) Distribution');"
   ]
  },
  {
   "cell_type": "markdown",
   "metadata": {
    "#solution": false,
    "#staff": false,
    "#student": false
   },
   "source": [
    "Notice:\n",
    "\n",
    "- The distribution has two modes, at 0 and 1. In exercises you will see why.\n",
    "- Though there are infinitely many possible values, the set of *probable* values is very small — there is hardly any probability visible beyond the value 4.\n",
    "- The distribution is extremely similar to the distribution of the number of matches in **2c**."
   ]
  },
  {
   "cell_type": "markdown",
   "metadata": {
    "#solution": false,
    "#staff": false,
    "#student": false
   },
   "source": [
    "### 3b) [CODE] TVD Between the Matching Distribution and its Poisson Approximation ###\n",
    "Use the `stats` module and functions you have already defined in this lab to define a new function `matches_Poisson_tvd` that takes $n$ as its argument and returns the total variation distance between the distribution of the number of matches $M_n$ and the Poisson $(1)$ distribution.\n",
    "\n",
    "Though the Poisson distribution has infinite support, you have seen that almost all of the probability is concentrated on just a few small values. So it's fine to compute the Poisson $(1)$ probabilities only for $0, 1, 2, \\ldots, n$, the possible numbers of matches."
   ]
  },
  {
   "cell_type": "code",
   "execution_count": null,
   "metadata": {
    "#solution": false,
    "#staff": false,
    "#student": true
   },
   "outputs": [],
   "source": [
    "def matches_Poisson_tvd(n):\n",
    "    ...\n",
    "    return ..."
   ]
  },
  {
   "cell_type": "markdown",
   "metadata": {
    "#solution": false,
    "#staff": false,
    "#student": false
   },
   "source": [
    "To see if the value that your function is returning make sense, start by looking at the distribution of $M_5$, the number of matches if you just have 5 letters. Make sure you understand why there is a gap in the probability histogram."
   ]
  },
  {
   "cell_type": "code",
   "execution_count": null,
   "metadata": {
    "#solution": false,
    "#staff": false,
    "#student": false
   },
   "outputs": [],
   "source": [
    "matches_5 = Table().values(np.arange(6)).probabilities(match_dist(5))\n",
    "Plot(matches_5)"
   ]
  },
  {
   "cell_type": "markdown",
   "metadata": {
    "#solution": false,
    "#staff": false,
    "#student": false
   },
   "source": [
    "Which do you think should be larger: `matches_Poisson_tvd(5)` or `matches_Poisson_tvd(100)`? Why?"
   ]
  },
  {
   "cell_type": "markdown",
   "metadata": {
    "#solution": false,
    "#staff": false,
    "#student": true
   },
   "source": [
    "\n",
    "**Your answer here.**"
   ]
  },
  {
   "cell_type": "markdown",
   "metadata": {
    "#solution": false,
    "#staff": false,
    "#student": false
   },
   "source": [
    "Run the cell below to see that your function behaves consistently with your answer above."
   ]
  },
  {
   "cell_type": "code",
   "execution_count": null,
   "metadata": {
    "#solution": false,
    "#staff": false,
    "#student": true
   },
   "outputs": [],
   "source": [
    "matches_Poisson_tvd(5), matches_Poisson_tvd(100)"
   ]
  },
  {
   "cell_type": "markdown",
   "metadata": {
    "#solution": false,
    "#staff": false,
    "#student": false
   },
   "source": [
    "### 3d) [CODE] Error in the Approximation ###\n",
    "Let $a$ and $b$ be two integers with $0 \\le a < b \\le 100$. Suppose you approximate $P(a \\le M_{100} \\le b)$ by $\\sum_{k=a}^b e^{-1}\\frac{1}{k!}$. What is the largest possible error you could make?\n",
    "\n",
    "**Note:** Your answer should be a number that works as an upper bound no matter which $a$ and $b$ are chosen according to the description above. If you are not sure how to proceed, re-read the introduction to the lab and think about **Part 1**."
   ]
  },
  {
   "cell_type": "code",
   "execution_count": null,
   "metadata": {
    "#solution": false,
    "#staff": false,
    "#student": true
   },
   "outputs": [],
   "source": [
    "..."
   ]
  },
  {
   "cell_type": "markdown",
   "metadata": {
    "#solution": false,
    "#staff": false,
    "#student": false
   },
   "source": [
    "The more letters you have, the better the approximation will be. To visualize this, extend `tvd_table` below with a column labeled `Matches (n)` that contains the total variation distance between the exact distribution of the number of matches and its Poisson $(1)$ approximation. In each row, the number of letters $n$ is given by the entry in Column 0. "
   ]
  },
  {
   "cell_type": "code",
   "execution_count": null,
   "metadata": {
    "#solution": false,
    "#staff": false,
    "#student": true
   },
   "outputs": [],
   "source": [
    "tvd_table = Table().with_column('n', np.arange(5, 101))\n",
    "\n",
    "matches_tvds = tvd_table...\n",
    "\n",
    "tvd_table = tvd_table...\n",
    "\n",
    "tvd_table"
   ]
  },
  {
   "cell_type": "markdown",
   "metadata": {
    "#solution": false,
    "#staff": false,
    "#student": false
   },
   "source": [
    "Use the `Table` method `plot` to draw a line plot of the TVDs as a function of $n$."
   ]
  },
  {
   "cell_type": "code",
   "execution_count": null,
   "metadata": {
    "#solution": false,
    "#staff": false,
    "#student": true
   },
   "outputs": [],
   "source": [
    "...\n",
    "plt.title('TVD between Binomial (n, 1/n) and Poisson (1)');"
   ]
  },
  {
   "cell_type": "markdown",
   "metadata": {
    "#solution": false,
    "#staff": false,
    "#student": false
   },
   "source": [
    "Note how sharply the graph falls. For $n \\ge 10$ or so, there is almost no error at all in using the Poisson $(1)$ distribution to approximate the distribution of $M_n$."
   ]
  },
  {
   "cell_type": "markdown",
   "metadata": {
    "#solution": false,
    "#staff": false,
    "#student": false
   },
   "source": [
    "# Part A of the lab ends here, and is due by 11:59 pm Monday January 31 #"
   ]
  },
  {
   "cell_type": "markdown",
   "metadata": {
    "#solution": false,
    "#staff": false,
    "#student": false
   },
   "source": [
    "#newpage"
   ]
  },
  {
   "cell_type": "markdown",
   "metadata": {
    "#solution": false,
    "#staff": false,
    "#student": false
   },
   "source": [
    "# Part B of the lab starts here #"
   ]
  },
  {
   "cell_type": "markdown",
   "metadata": {
    "#solution": false,
    "#staff": false,
    "#student": false
   },
   "source": [
    "## Identify your lab partner ##"
   ]
  },
  {
   "cell_type": "markdown",
   "metadata": {
    "#solution": false,
    "#staff": false,
    "#student": false
   },
   "source": [
    "This is a multiple choice question. Please select **ONE** of following options that best describes how you complete **Part B** of this lab.\n",
    "\n",
    "* I am doing Part B of this lab by myself and I don't have a partner.\n",
    "* My partner for Part B of this lab is [NAME] with email [berkeley.edu email address]. [NAME] will submit for both of us on Gradescope.\n",
    "\n",
    "Please copy and paste **ONE** of above statements and fill in blanks if needed. If you work with a partner, make sure only one of you submit on Gradescope."
   ]
  },
  {
   "cell_type": "markdown",
   "metadata": {
    "#solution": false,
    "#staff": false,
    "#student": false
   },
   "source": [
    "**Your answer here.**"
   ]
  },
  {
   "cell_type": "markdown",
   "metadata": {
    "#solution": false,
    "#staff": false,
    "#student": false
   },
   "source": [
    "#newpage"
   ]
  },
  {
   "cell_type": "markdown",
   "metadata": {
    "#solution": false,
    "#staff": false,
    "#student": false
   },
   "source": [
    "## Part 4. Poisson $(1)$ Approximation to Binomial Distributions ##"
   ]
  },
  {
   "cell_type": "markdown",
   "metadata": {
    "#solution": false,
    "#staff": false,
    "#student": false
   },
   "source": [
    "Roughly stated, a theorem we proved in class says that if $n$ is large and $p$ is small, then the binomial $(n, p)$ probabilities are close to Poisson $(np)$ probabilities. \n",
    "\n",
    "Therefore if $n$ is large then the binomial $(n, 1/n)$ probabilities should be close to Poisson $(1)$ probabilities."
   ]
  },
  {
   "cell_type": "markdown",
   "metadata": {
    "#solution": false,
    "#staff": false,
    "#student": false
   },
   "source": [
    "### 4a) [CODE] Binomial $(10, 1/10)$ Distribution ###\n",
    "If `values` is an array of integers in the range 0 through $n$, then\n",
    "\n",
    "`stats.binom.pmf(values, n, p)`\n",
    "\n",
    "evaluates to an array of the binomial $(n, p)$ probabilities of the entries in `values`.\n",
    "\n",
    "Display a histogram of the binomial $(10, 1/10)$ distribution. Notice how the probabilities are concentrated on the low values. This is a signal to start thinking about Poisson approximations, even though the number of trials ($n = 10$) isn't very large."
   ]
  },
  {
   "cell_type": "code",
   "execution_count": null,
   "metadata": {
    "#solution": false,
    "#staff": false,
    "#student": true
   },
   "outputs": [],
   "source": [
    "# binomial (n, 1/n) distribution\n",
    "n = 10                             # number of trials\n",
    "\n",
    "k = ...                            # possible values\n",
    "binom_probs = ...                  # binomial (n, 1/n) probabilities\n",
    "\n",
    "\n",
    "binom_dist = ...\n",
    "\n",
    "Plot(binom_dist)\n",
    "plt.title('Binomial (10, 1/10) Distribution');"
   ]
  },
  {
   "cell_type": "markdown",
   "metadata": {
    "#solution": false,
    "#staff": false,
    "#student": false
   },
   "source": [
    "Since $n = 10$ isn't very large, this distribution doesn't look exactly like the Poisson $(1)$ distribution though the two have many similarities. Run the cell below to see the overlaid histograms."
   ]
  },
  {
   "cell_type": "code",
   "execution_count": null,
   "metadata": {
    "#solution": false,
    "#staff": false,
    "#student": false
   },
   "outputs": [],
   "source": [
    "poisson_1_probs = stats.poisson.pmf(k, 1)\n",
    "poisson_1_dist = Table().values(k).probabilities(poisson_1_probs)\n",
    "\n",
    "Plots('Binomial (10, 1/10)', binom_dist, 'Poisson (1)', poisson_1_dist)"
   ]
  },
  {
   "cell_type": "markdown",
   "metadata": {
    "#solution": false,
    "#staff": false,
    "#student": false
   },
   "source": [
    "At this point it will come as no surprise that the Poisson $(1)$ approximation gets better as $n$ increases. You will quantify this in the remaining exercises below."
   ]
  },
  {
   "cell_type": "markdown",
   "metadata": {
    "#solution": false,
    "#staff": false,
    "#student": false
   },
   "source": [
    "### 4b) [CODE] TVD between the Binomial $(n, 1/n)$ Distribution and its Poisson Approximation ###\n",
    "Define a function `binomial_Poisson_tvd` that takes $n$ as its argument and returns the total variation distance between the binomial $(n, 1/n)$ and Poisson $(1)$ distributions. As before, it's fine to compute the Poisson $(1)$ probabilities only on 0 through $n$, the possible values of the binomial."
   ]
  },
  {
   "cell_type": "code",
   "execution_count": null,
   "metadata": {
    "#solution": false,
    "#staff": false,
    "#student": true
   },
   "outputs": [],
   "source": [
    "def binomial_Poisson_tvd(n):\n",
    "    ..."
   ]
  },
  {
   "cell_type": "markdown",
   "metadata": {
    "#solution": false,
    "#staff": false,
    "#student": false
   },
   "source": [
    "As a check to see if your function is working correctly, run the cell below. The output should be about $1$%."
   ]
  },
  {
   "cell_type": "code",
   "execution_count": null,
   "metadata": {
    "#solution": false,
    "#staff": false,
    "#student": true
   },
   "outputs": [],
   "source": [
    "binomial_Poisson_tvd(30)"
   ]
  },
  {
   "cell_type": "markdown",
   "metadata": {
    "#solution": false,
    "#staff": false,
    "#student": false
   },
   "source": [
    "Fill in the blank with the name of a distribution and its numerical parameter or parameters.\n",
    "\n",
    "The output of the code cell above is the biggest possible error in using the Poisson $(1)$ distribution to approximate the $\\underline{~~~~~~~~~~~~~~~~}$ distribution."
   ]
  },
  {
   "cell_type": "markdown",
   "metadata": {
    "#solution": false,
    "#staff": false,
    "#student": true
   },
   "source": [
    "\n",
    "**Your answer here.**"
   ]
  },
  {
   "cell_type": "markdown",
   "metadata": {
    "#solution": false,
    "#staff": false,
    "#student": false
   },
   "source": [
    "### 4c) [CODE] Error in Approximation ###\n",
    "Extend `tvd_table` defined earlier with a column labeled `'Binomial (n, 1/n)'` that contains the TVD between the binomial $(n, 1/n)$ and Poisson $(1)$ distributions, where in each row $n$ is given by the entry in Column 0."
   ]
  },
  {
   "cell_type": "code",
   "execution_count": null,
   "metadata": {
    "#solution": false,
    "#staff": false,
    "#student": true
   },
   "outputs": [],
   "source": [
    "binom_tvds = tvd_table...\n",
    "\n",
    "tvd_table = tvd_table...\n",
    "\n",
    "tvd_table"
   ]
  },
  {
   "cell_type": "markdown",
   "metadata": {
    "#solution": false,
    "#staff": false,
    "#student": false
   },
   "source": [
    "Run the cell below to get overlaid line plots of the two TVD columns as functions of $n$."
   ]
  },
  {
   "cell_type": "code",
   "execution_count": null,
   "metadata": {
    "#solution": false,
    "#staff": false,
    "#student": true
   },
   "outputs": [],
   "source": [
    "tvd_table.plot(0)"
   ]
  },
  {
   "cell_type": "markdown",
   "metadata": {
    "#solution": false,
    "#staff": false,
    "#student": false
   },
   "source": [
    "The graph of the binomial-Poisson TVDs drops sharply, though not as sharply as the matches-Poisson TVD graph. \n",
    "\n",
    "Fill in the blanks (use the code cell below if you need to):\n",
    "\n",
    "For values of $n$ that are about $\\underline{~~~~~~~~~~~~~~~~}$ or more, Poisson $(1)$ approximations to binomial $(n, 1/n)$ probabilities will be off by at most 0.5%. "
   ]
  },
  {
   "cell_type": "markdown",
   "metadata": {
    "#solution": false,
    "#staff": false,
    "#student": true
   },
   "source": [
    "\n",
    "**Your answer here.**"
   ]
  },
  {
   "cell_type": "code",
   "execution_count": null,
   "metadata": {
    "#solution": false,
    "#staff": false,
    "#student": true
   },
   "outputs": [],
   "source": [
    "..."
   ]
  },
  {
   "cell_type": "markdown",
   "metadata": {
    "#solution": false,
    "#staff": false,
    "#student": false
   },
   "source": [
    "Now you can use total variation distance to help answer the question, \"How large does $n$ have to be before I can use the Poisson $(1)$ approximation to the binomial $(n, 1/n)$ distribution?\" \n",
    "\n",
    "- First decide how much error you are prepared to tolerate in your approximations. \n",
    "- Then use `tvd_table` (or an extended one with larger values of $n$) to find the smallest $n$ for which the TVD is below your threshold error. \n",
    "- For that $n$ or larger, the error in your Poisson $(1)$ probability approximations will be below your threshold."
   ]
  },
  {
   "cell_type": "markdown",
   "metadata": {
    "#solution": false,
    "#staff": false,
    "#student": false
   },
   "source": [
    "## Part 5: A Simple Bound for the TVD ###\n",
    "\n",
    "You have calculated the TVD by calculating both the exact binomial and the approximate Poisson probabilities, and you have seen that the TVD is small for large $n$.\n",
    "\n",
    "But what's the point of approximations and TVD if we have to compute the exact binomial probabilities to get the TVD in the first place?\n",
    "\n",
    "In fact there is no point in approximation if you can just find the exact chance. But for large enough $n$, the exact computations become infeasible. So probabilists have worked out simple mathematical upper bounds on the TVD between the Poisson and binomial (or binomial-like) distributions. The fundamental work in this area was by the late [Prof. Lucien LeCam](https://en.wikipedia.org/wiki/Lucien_Le_Cam) of the Statistics department at Berkeley.\n",
    "\n",
    "### 5a) [Written] The Poisson-Binomial Distribution and LeCam's Theorem ###\n",
    "\n",
    "Read the statement of [LeCam's Theorem](https://en.wikipedia.org/wiki/Le_Cam%27s_theorem). It is about the Poisson approximation to the *Poisson-binomial* distribution. That's the distribution of the sum of independent indicators that need not be identically distributed.\n",
    "\n",
    "- First explain why the binomial distribution is a special case of the Poisson-binomial distribution.\n",
    "\n",
    "- Then figure out how LeCam's theorem applies to the approximation you are studying in this lab, and hence find LeCam's upper bound on the TVD between the binomial $(n, 1/n)$ distribution and its Poisson $(1)$ approximation.\n",
    "\n",
    "You just have to apply the theorem carefully. Think about what the $p_i$'s have to be, and be careful about factors of 2."
   ]
  },
  {
   "cell_type": "markdown",
   "metadata": {
    "#solution": false,
    "#staff": false,
    "#student": false
   },
   "source": [
    "### 5b) Confirming the Upper Bound ###\n",
    "The proof of LeCam's theorem is beyond the scope of this course. But you can check that the theorem does indeed give an upper bound, by drawing overlaid plots of the TVD and the bound.\n",
    "\n",
    "Complete the cell below to augment `tvd_table` with a column `\"LeCam's Bound\"` that contains the bound you found in **a**, and draw the overlaid plots. \n",
    "\n",
    "The limits on the vertical axis have been chosen for comparability with the plot in Part **4c**."
   ]
  },
  {
   "cell_type": "code",
   "execution_count": null,
   "metadata": {
    "#solution": false,
    "#staff": false,
    "#student": true
   },
   "outputs": [],
   "source": [
    "\n",
    "tvd_table = tvd_table.with_columns(\n",
    "    \"LeCam's Bound\", ...\n",
    ")\n",
    "\n",
    "tvd_table.plot(0)\n",
    "plt.ylim(0, 0.06);"
   ]
  },
  {
   "cell_type": "markdown",
   "metadata": {
    "#solution": false,
    "#staff": false,
    "#student": false
   },
   "source": [
    "### 5c) Using the Bound ###\n",
    "\n",
    "Fill in the blank **without calculation**. \n",
    "\n",
    "If you use the Poisson $(1)$ distribution to approximate binomial $(1000, 1/1000)$ probabilities, the worst error you can make is no more than $\\underline{~~~~~~~~~~~~~~~~~~~~}$."
   ]
  },
  {
   "cell_type": "markdown",
   "metadata": {
    "#solution": false,
    "#staff": false,
    "#student": true
   },
   "source": [
    "\n",
    "**Your answer here**"
   ]
  },
  {
   "cell_type": "markdown",
   "metadata": {
    "#solution": false,
    "#staff": false,
    "#student": false
   },
   "source": [
    "#newpage"
   ]
  },
  {
   "cell_type": "markdown",
   "metadata": {
    "#solution": false,
    "#staff": false,
    "#student": false
   },
   "source": [
    "## Part 6: Biggest Possible Error ##\n",
    "\n",
    "To conclude the lab, you are going to prove that the TVD can be interpreted as a maximum difference of probabilities.\n",
    "\n",
    "We are going to compare two probability distributions $P_{blue}$ and $P_{gold}$ on a finite set of values $S$. Suppose the values are labeled $1, 2, \\ldots, n$. \n",
    "\n",
    "The *total variation distance between $P_{blue}$ and $P_{gold}$* is defined as\n",
    "\n",
    "$$\n",
    "\\| P_{blue} - P_{gold}\\|_{TVD} ~ = ~\n",
    "\\max\\{ \\lvert P_{blue}(A) - P_{gold}(A) \\rvert : A \\subseteq S\\}\n",
    "$$\n",
    "\n",
    "The definition says: For every event $A$, compute how far off $P_{blue}(A)$ is from $P_{gold}(A)$. The TVD is the biggest value among all these differences.\n",
    "\n",
    "That doesn't look at all like what we have been calculating as the TVD starting way back in Data 8. But in fact it's the same thing. It's your job to show how. \n",
    "\n",
    "Before you get started, confirm your understanding of the definition. Suppose you calculate the TVD between two distributions and get 0.003. That says that if you list all possible events and compare their probabilities under the two distributions, the biggest difference you will get is 3/1000. The two distributions are pretty close. \n",
    "\n",
    "The goal of this part of the lab is to show that this new definition of TVD is equivalent to the calculation we have been doing all along. Let's start by setting up some notation. For each $i$ in $S$, let $P_{blue}(i) = b_i$ and let $P_{gold}(i) = g_i$. If you imagine a bar graph or histogram of each distribution, then $b_i$ is the area of the blue bar at the value $i$, and $g_i$ is the area of the gold bar at $i$.\n",
    "\n",
    "In this notation, our familiar calculation of the TVD is\n",
    "\n",
    "$$\n",
    "\\frac{1}{2} \\sum_{i \\in S} \\lvert b_i - g_i \\rvert\n",
    "$$\n",
    "\n",
    "In this question and the next you will show that \n",
    "\n",
    "$$\n",
    "\\max\\{ \\lvert P_{blue}(A) - P_{gold}(A) \\rvert : A \\subseteq S\\} ~ = ~ \n",
    "\\frac{1}{2} \\sum_{i \\in S} \\lvert b_i - g_i \\rvert\n",
    "$$\n",
    "\n",
    "Three events will be important in the calculations.\n",
    "\n",
    "The set of values for which the blue bars exceed the gold:\n",
    "$$\n",
    "B = \\{i: b_i > g_i\\}\n",
    "$$\n",
    "\n",
    "The set of values for which the gold bars exceed the blue:\n",
    "$$\n",
    "G = \\{i: g_i > b_i\\}\n",
    "$$\n",
    "\n",
    "The set of values for which the blue bars and gold bars are equal:\n",
    "$$\n",
    "E = \\{i: b_i = g_i\\}\n",
    "$$\n",
    "\n",
    "Keep in mind that for any event $A$,\n",
    "$$\n",
    "P_{blue}(A) = \\sum_{i \\in A} b_i ~~~~~~~ \\text{and} ~~~~~~~\n",
    "P_{gold}(A) = \\sum_{i \\in A} g_i\n",
    "$$\n",
    "\n",
    "### This part of the lab is entirely written. There is no code. ###\n",
    "\n",
    "### 6a) ###\n",
    "Find the value of\n",
    "$$\n",
    "\\sum_{i \\in B} b_i ~ + ~ \n",
    "\\sum_{i \\in G} b_i ~ + ~ \n",
    "\\sum_{i \\in E} b_i \n",
    "$$\n",
    "\n",
    "Repeat the calculation after replacing $b_i$ by $g_i$ in all three sums above.\n",
    "\n",
    "Hence show that\n",
    "$$\n",
    "\\sum_{i \\in B} (b_i - g_i) ~ = ~ \\sum_{i \\in G} (g_i - b_i)\n",
    "$$\n",
    "\n",
    "This proves a statement we have made in Data 8 and in Part **1a** of this lab: \"The amount by which the blue bars exceed the gold is the same as the amount by which the gold bars exceed the blue.\" \n",
    "\n",
    "### 6b) ###\n",
    "Our usual calculation of TVD is\n",
    "$$\n",
    "\\frac{1}{2} \\sum_{i \\in S} \\lvert b_i - g_i \\rvert\n",
    "$$\n",
    "\n",
    "Partition the sum into two pieces to show that\n",
    "\n",
    "$$\n",
    "\\frac{1}{2} \\sum_{i \\in S} \\lvert b_i - g_i \\rvert ~ = ~\n",
    "\\sum_{i \\in B} (b_i - g_i) ~ = ~ \\sum_{i \\in G} (g_i - b_i)\n",
    "$$\n",
    "\n",
    "This proves another statement we made in Data 8 and Part **1a** of this lab: \"The TVD is the amount by which the blue bars exceed the gold.\"\n",
    "\n",
    "### 6c) ###\n",
    "Now let $A$ be any event. Show that \n",
    "$$\n",
    "P_{blue}(A) - P_{gold}(A) ~ = ~ \n",
    "\\sum_{i \\in AB} (b_i - g_i) ~ - ~ \\sum_{i \\in AG} (g_i - b_i)\n",
    "$$\n",
    "\n",
    "Hence show that\n",
    "$$\n",
    "P_{blue}(A) - P_{gold}(A) ~ \\le ~ \n",
    "\\sum_{i \\in AB} (b_i - g_i) ~~~~~~ \\text{and} ~~~~~~\n",
    "P_{gold}(A) - P_{blue}(A) ~ \\le ~ \n",
    "\\sum_{i \\in AG} (g_i - b_i)\n",
    "$$\n",
    "\n",
    "### 6d) ###\n",
    "Use the first of the two inequalities in **c** to show that if $P_{blue}(A) - P_{gold}(A) > 0$ then\n",
    "\n",
    "$$\n",
    "\\lvert P_{blue}(A) - P_{gold}(A) \\rvert ~ \\le ~ \\sum_{i \\in B} (b_i - g_i)\n",
    "$$\n",
    "\n",
    "Use the second of the two inequalities in **c** to show that if $P_{blue}(A) - P_{gold}(A) < 0$ then\n",
    "\n",
    "$$\n",
    "\\lvert P_{blue}(A) - P_{gold}(A) \\rvert ~ \\le ~ \\sum_{i \\in G} (g_i - b_i)\n",
    "$$\n",
    "\n",
    "### 6e) ###\n",
    "Identify an event for which one of the inequalities in **d** is an equality.\n",
    "\n",
    "Explain why you now have a complete proof of\n",
    "\n",
    "$$\n",
    "\\max\\{ \\lvert P_{blue}(A) - P_{gold}(A) \\rvert : A \\subseteq S\\} ~ = ~ \n",
    "\\frac{1}{2} \\sum_{i \\in S} \\lvert b_i - g_i \\rvert\n",
    "$$\n",
    "\n",
    "That is, our usual calculation of the TVD is equivalent to finding the biggest difference between probabilities assigned by the two distributions to any event."
   ]
  },
  {
   "cell_type": "markdown",
   "metadata": {
    "#solution": false,
    "#staff": false,
    "#student": false
   },
   "source": [
    "# Part B of the lab ends here, and is due by 11:59 pm Monday February 7 #"
   ]
  },
  {
   "cell_type": "markdown",
   "metadata": {
    "#solution": false,
    "#staff": false,
    "#student": false
   },
   "source": [
    "#newpage"
   ]
  },
  {
   "cell_type": "markdown",
   "metadata": {
    "#solution": false,
    "#staff": false,
    "#student": false
   },
   "source": [
    "## Conclusion ##\n",
    "What you have learned in this lab:\n",
    "- Let $X$ be a discrete random variable. If you use an approximation to the distribution of $X$, then the total variation distance between the exact and approximate distributions measures the worst error you can make in approximating probabilities of events determined by $X$. \n",
    "- Many random variables in this lab have a large number of possible values, and the approximating Poisson distribution has infinitely many possible values. But no matter how large $n$ is, the *probable* values of all the variables are in a very small range — 0 through about 8 or 10 — because all of the distributions are roughly Poisson $(1)$.\n",
    "- The total variation distance between the distribution of the number of matches in a random permutation of $n$ elements and its Poisson $(1)$ approximation falls very sharply. By about 10 elements or so, you might as well use the Poisson distribution for the number of matches.\n",
    "- The total variation distance between the binomial $(n, 1/n)$ and Poisson $(1)$ distributions falls sharply as a function of $n$ and is below 1% even for moderate values of $n$.\n",
    "- There is a simple upper bound for this total variation distance and hence for the worst error of approximation."
   ]
  },
  {
   "cell_type": "markdown",
   "metadata": {
    "#solution": false,
    "#staff": false,
    "#student": false
   },
   "source": [
    "## Submission Instructions ##\n",
    "\n",
    "Many assignments throughout the course will have a written portion and a code portion. Please follow the directions below to properly submit both portions.\n",
    "\n",
    "### Written Portion ###\n",
    "*  Scan all the pages into a PDF. You can use any scanner or a phone using applications such as CamScanner. Please **DO NOT** simply take pictures using your phone. \n",
    "* Please start a new page for each question. If you have already written multiple questions on the same page, you can crop the image in CamScanner or fold your page over (the old-fashioned way). This helps expedite grading.\n",
    "* It is your responsibility to check that all the work on all the scanned pages is legible.\n",
    "\n",
    "### Code Portion ###\n",
    "* Save your notebook using File > Save and Checkpoint.\n",
    "* Generate a PDF file using File > Download as > PDF via LaTeX. This might take a few seconds and will automatically download a PDF version of this notebook.\n",
    "    * If you have issues, please make a follow-up post on the general Lab 1 Ed thread.\n",
    "    \n",
    "### Submitting ###\n",
    "* Combine the PDFs from the written and code portions into one PDF.  [Here](https://smallpdf.com/merge-pdf) is a useful tool for doing so. \n",
    "* Submit the assignment to Lab 1 on Gradescope. \n",
    "* **Make sure to assign each page of your pdf to the correct question.**\n",
    "* **It is your responsibility to verify that all of your work shows up in your final PDF submission.**\n",
    "\n",
    "If you have questions about scanning or uploading your work, please post a follow-up to the [Ed thread](https://edstem.org/us/courses/17989/discussion/1027297) on this topic. "
   ]
  },
  {
   "cell_type": "markdown",
   "metadata": {
    "#solution": false,
    "#staff": false,
    "#student": false
   },
   "source": [
    "## **We will not grade assignments which do not have pages selected for each question.** ##"
   ]
  },
  {
   "cell_type": "code",
   "execution_count": null,
   "metadata": {
    "#solution": false,
    "#staff": false,
    "#student": false
   },
   "outputs": [],
   "source": []
  }
 ],
 "metadata": {
  "anaconda-cloud": {},
  "checksums": [
   "b37a61c4040ae61458ee19c79e9305a7",
   "9c78703d0d09b2932d35ae75053a5129",
   "518c84f8a1f148dbd174743a2ce02a06",
   "1111761b43a695390b8e8794765e7f05",
   "bbbd0bf658428e10cbfd889247879924",
   "137ad08e81e4f62848e32f91454444a1",
   "0ff5ab8a705249631f781ac08494bdaa",
   "036db2d2d84687f1befca7d08aa364f8",
   "e5da377a66787f440cf2eef7f03b0390",
   "3a76d7cce4e9ecdb4fe70737e7879960",
   "640061103a186fd26f59746dd4d6de57",
   "215ed6c8654224bcdb429ca58d5e7135",
   "4fb206b23cca8f1941265599b0f0f320",
   "3c7292e1d847529b3abb46265ab6a10f",
   "b182444b425e530aebac0b1429b8d999",
   "c58db66b6fee81063dd7637932e6e637",
   "8d31345e276966579a2701d3c436204e",
   "dc8bbeae78e29542dbc5821cbfe3e544",
   "05b6c4f7180c1a2613cba1b9916e62c6",
   "ca211c8d334df1876ebb8c81418793a5",
   "030e13d9e6c724ea6ece121d929cd63b",
   "640061103a186fd26f59746dd4d6de57",
   "bab63f4108dc2dba9026d81ac98f6bcf",
   "9c86dc37d04d887fa0f5783fecacd9d7",
   "b9c4afd0d6308b642b09aa30c7aac726",
   "61eabfbb6c12528de4cb52a76fa50a81",
   "1c9082e82d8238d32d369f3533ca5e8c",
   "1dfb51cb71d2f70285237eea8507884f",
   "3a76d7cce4e9ecdb4fe70737e7879960",
   "bf1f7cacc1f8f52a58a3967f91a19f66",
   "b9b9cba3588e3769333618b5f4f304d6",
   "ef6ffe53b34e7f709afb7097e7911b96",
   "67103cc9f45ab2bad10bf4cc85d65d19",
   "07e8aa5e3271f9eeabea10bf1d87d8fd",
   "25df0da9d04ff98129e0a93242a87af4",
   "3a76d7cce4e9ecdb4fe70737e7879960",
   "1aabb21d7cc08586d33f6f3562958996",
   "341062640dfbd339294b11cd1448f3d4",
   "640061103a186fd26f59746dd4d6de57",
   "42083454535fdc3249d3e08b7701b322",
   "6891bcdabd7c4df54746baf6abb748c5",
   "17c82d80cd605f89249c1a4dcaa6cf5d",
   "ccd968724b42bfca21602c4b01fe670e",
   "a69f522a6aaff30f0c94bb6718e0f0a6",
   "ebe5b742470b60a4776142e086c97581",
   "4f5c213244734ff87eb69f271c057e53",
   "ef5759ff92165c4e90015fe67846ec3b",
   "097e0986d8b306e495a9be667cdabc71",
   "3a76d7cce4e9ecdb4fe70737e7879960",
   "b0f66f48ec744bdf5328aa5b336ca88c",
   "07f2b0a9b704a628743082e0968f5cbc",
   "0e12e19d762c8dedc68e6fad4c7b802d",
   "2f43b42fd833d1e77420a8dae7419000",
   "b29e5ac6a193793001fa157625e88b9e",
   "0ac6e1505530a756a34808a362a2b6a9",
   "0f9693248cdcf99ce169c189f0d93a61",
   "6ffc1f0498e2ef6453f3176c7c457fab",
   "7b90ee6f8781d1bc4123617b145c4368",
   "ca96bc1cd3c401d2a854d2a19c3e4922",
   "640061103a186fd26f59746dd4d6de57",
   "d01367822725fa07d86c3b43d29b31d3",
   "1901b006935012cba106a07b36d0d89e",
   "c76dea0c87800f230281b5d5e741dbcf",
   "3a76d7cce4e9ecdb4fe70737e7879960",
   "640061103a186fd26f59746dd4d6de57",
   "e35b43c56e720a142f61a1a3da176c96",
   "fc870e7d454dd6c24a25242fbbf97b3b",
   "78f47abb6597e3867c7abb5f59abb8b0",
   "c1998857407a30636b74dd83e9fd99b7",
   "1ba5798afe8b4b9b50a92451638e4938",
   "6019af823cc745ff239519a0110097ed",
   "30115b9210703022991b1b6ea563b523",
   "7974463748638706c4ccb40ee8e0717b",
   "71f2f1609b5cc73741f9e07b05ab0e6c",
   "732477c7f5d4080670738ff6df6da214",
   "44fd51da968ba3e9826a7bfc01c5315b",
   "1f49d9af84494ee05ddee8bfb0340f27",
   "3a76d7cce4e9ecdb4fe70737e7879960",
   "a5c83e9c609c7ba7ea08197f3a40884f",
   "9f510c9287290ff2ae0ca220016f6f7a",
   "a44fc18c480b10ed64ec11d21b2b3d43",
   "2e2c2c4d314a75eb8b8ef2bc1765ecac",
   "406b98dcbaa39ff2691d337b1e491fba",
   "3a76d7cce4e9ecdb4fe70737e7879960",
   "2f43b42fd833d1e77420a8dae7419000",
   "7d03d983dcfc893b98847e1b9516b925",
   "80a9faa8a0c9365d1002e77c24a55632",
   "c33657e62a9a68c61800d0a3f7b154ab",
   "90d2492e6af7a7fa061f94b6f2806a82",
   "a5dd55f02ec68c39ef5af1d8a61002cd",
   "0de20b93bb878d597e59213991465648",
   "640061103a186fd26f59746dd4d6de57",
   "593245b0a8f85d00702a6218fec2f002",
   "9897ca5ed55443eabbbc415a3abff769",
   "640061103a186fd26f59746dd4d6de57",
   "658fea8fb6d1379c0da9f8954a3602f2",
   "c380de24e809ea0cb67defd961149c4c",
   "28b84f784840e42a5b8327aab8f973c0",
   "d41d8cd98f00b204e9800998ecf8427e"
  ],
  "kernelspec": {
   "display_name": "Python 3 (ipykernel)",
   "language": "python",
   "name": "python3"
  },
  "language_info": {
   "codemirror_mode": {
    "name": "ipython",
    "version": 3
   },
   "file_extension": ".py",
   "mimetype": "text/x-python",
   "name": "python",
   "nbconvert_exporter": "python",
   "pygments_lexer": "ipython3",
   "version": "3.9.9"
  },
  "number_of_pagebreaks": 7,
  "widgets": {
   "state": {},
   "version": "1.1.2"
  }
 },
 "nbformat": 4,
 "nbformat_minor": 1
}

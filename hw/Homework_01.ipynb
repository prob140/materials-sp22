{
 "cells": [
  {
   "cell_type": "markdown",
   "metadata": {
    "#solution": false,
    "#staff": false,
    "#student": false
   },
   "source": [
    "<table align=\"left\" style=\"border-style: hidden\" class=\"table\"> <tr><td class=\"col-md-2\"><img style=\"float\" src=\"http://prob140.org/assets/icon256.png\" alt=\"Prob140 Logo\" style=\"width: 120px;\"/></td><td><div align=\"left\"><h3 style=\"margin-top: 0;\">Probability for Data Science</h3><h4 style=\"margin-top: 20px;\">UC Berkeley, Spring 2022</h4><p>Ani Adhikari</p>CC BY-NC-SA 4.0</div></td></tr></table><!-- not in pdf -->\n",
    "\n",
    "This content is protected and may not be shared, uploaded, or distributed."
   ]
  },
  {
   "cell_type": "code",
   "execution_count": null,
   "metadata": {
    "#solution": false,
    "#staff": false,
    "#student": false
   },
   "outputs": [],
   "source": [
    "from prob140 import *\n",
    "from datascience import *\n",
    "import numpy as np\n",
    "from scipy import special\n",
    "\n",
    "import matplotlib.pyplot as plt\n",
    "%matplotlib inline\n",
    "import matplotlib\n",
    "matplotlib.style.use('fivethirtyeight')"
   ]
  },
  {
   "cell_type": "markdown",
   "metadata": {
    "#solution": false,
    "#staff": false,
    "#student": false
   },
   "source": [
    "# Homework 1 #"
   ]
  },
  {
   "cell_type": "markdown",
   "metadata": {
    "#solution": false,
    "#staff": false,
    "#student": false
   },
   "source": [
    "### Instructions\n",
    "\n",
    "Your homeworks have two components: a written portion and a portion that also involves code.  Written work should be completed on paper, and coding questions should be done in the notebook.  You are welcome to LaTeX your answers to the written portions, but staff will not be able to assist you with LaTeX related issues. It is your responsibility to ensure that both components of the homework are submitted completely and properly to Gradescope. Refer to the bottom of the notebook for submission instructions."
   ]
  },
  {
   "cell_type": "markdown",
   "metadata": {
    "#solution": false,
    "#staff": false,
    "#student": false
   },
   "source": [
    "### How to Do Your Homework ###\n",
    "The point of homework is for you to try your hand at using what you've learned in class. The steps to follow:\n",
    "\n",
    "- Go to lecture and sections, and also go over the relevant text sections before starting on the homework. This will remind you what was covered in class, and the text will typically contain examples not covered in lecture. The weekly Study Guide will list what you should read.\n",
    "- Work on some of the practice problems before starting on the homework.\n",
    "- Attempt the homework problems by yourself with the text, section work, and practice materials all at hand. Sometimes the week's lab will help as well. The two steps above will help this step go faster and be more fruitful.\n",
    "- At this point, seek help if you need it. Don't ask how to do the problem — ask how to get started, or for a nudge to get you past where you are stuck. Always say what you have already tried. That helps us help you more effectively.\n",
    "- For a good measure of your understanding, keep track of the fraction of the homework you can do by yourself or with minimal help. It's a better measure than your homework score, and only you can measure it."
   ]
  },
  {
   "cell_type": "markdown",
   "metadata": {
    "#solution": false,
    "#staff": false,
    "#student": false
   },
   "source": [
    "### Rules for Homework ###\n",
    "- Every answer should contain a calculation or reasoning. For example, a calculation such as $(1/3)(0.8) + (2/3)(0.7)$ or `sum([(1/3)*0.8, (2/3)*0.7])`is fine without further explanation or simplification. If we want you to simplify, we'll ask you to. But just ${5 \\choose 2}$ by itself is not fine; write \"we want any 2 out of the 5 frogs and they can appear in any order\" or whatever reasoning you used. Reasoning can be brief and abbreviated, e.g. \"product rule\" or \"not mutually exclusive.\"\n",
    "- You may consult others (see \"How to Do Your Homework\" above) but you must write up your own answers using your own words, notation, and sequence of steps.\n",
    "- We'll be using Gradescope. You must submit the homework according to the instructions at the end of homework set."
   ]
  },
  {
   "cell_type": "markdown",
   "metadata": {
    "#solution": false,
    "#staff": false,
    "#student": false
   },
   "source": [
    "## 1. Playing to Win\n",
    "\n",
    "This exercise is a workout in the following problem-solving skills.\n",
    "\n",
    "To find the exact chance of an event that involves multiple trials:\n",
    "\n",
    "- Start by asking, \"What does the first trial have to be?\" and then \"What does the second trial have to be?\". If the answers are clear, such as \"win, then lose,\" then the multiplication rule might do the job directly. \n",
    "- But if the answers aren't clear, such as, \"Well, the first trial could be a win, or not, but then the second trial should be a win, or not, but then ...\" then try partitioning the event into simpler pieces (also known as *listing the ways*), or look at the complement. Maybe one of these methods will help you find a solution. Almost always, one of these two is simpler than the other, but which one is simpler depends on the problem.\n",
    "\n",
    "To find an exponential approximation, deeply internalize the subsection headings 1.5.1 through 1.5.4 of [Section 1.5](http://prob140.org/textbook/content/Chapter_01/05_An_Exponential_Approximation.html), and don't forget that $x^m$ is a product when $m$ is a positive integer.\n",
    "\n",
    "Try out these moves in the following setting.\n",
    "\n",
    "A gambler plays two games of chance. Every time she plays Game A, she has chance $\\frac{1}{6n}$ of winning a laptop, regardless of the outcomes of all other games. Every time she plays Game B, she has chance $\\frac{1}{3n}$ of winning a smartphone, regardless of the results of all other games.\n",
    "\n",
    "She has decided on the following strategy.\n",
    "\n",
    "- She keeps playing Game A until either she wins a laptop or she has played Game A $n$ times and has lost every time.\n",
    "- If she wins a laptop she stops playing.\n",
    "- If she loses all $n$ times on Game A, she starts playing Game B. She keeps playing until either she wins a smartphone or she has played Game B $n$ times and has lost every time.\n",
    "\n",
    "**a)** Find the chance that the gambler wins a laptop.\n",
    "\n",
    "**b)** Assume $n$ is large, and find an exponential approximation to the chance in Part **a**.\n",
    "\n",
    "**c)** Find the chance that the gambler wins a laptop or a smartphone.\n",
    "\n",
    "**d)** Assume $n$ is large, and find an exponential approximation to the chance in Part **c**.\n",
    "\n",
    "**e)** In the cell below, write an expression the evaluates to your answer in Part **d**. Use `np.e` for $e$."
   ]
  },
  {
   "cell_type": "code",
   "execution_count": null,
   "metadata": {
    "#solution": false,
    "#staff": false,
    "#student": true
   },
   "outputs": [],
   "source": [
    "# Answer to 1e\n",
    "\n",
    "..."
   ]
  },
  {
   "cell_type": "markdown",
   "metadata": {
    "#solution": false,
    "#staff": false,
    "#student": false
   },
   "source": [
    "#newpage"
   ]
  },
  {
   "cell_type": "markdown",
   "metadata": {
    "#solution": false,
    "#staff": false,
    "#student": false
   },
   "source": [
    "## 2. Fair Coin\n",
    "\n",
    "One of the fundamental models of probability theory is for $n$ tosses of a fair coin, where $n$ is a fixed positive integer. The model says that all sequences that have length $n$ and consist only of heads (H) and tails (T) are equally likely.\n",
    "\n",
    "Unless otherwise specified, coins in this course are assumed to be fair.\n",
    "\n",
    "This exercise is a series of quick observations. Before you start, look over the reference in the Basic Counting section of the [Math Prerequisites](http://prob140.org/prereqs/) page.\n",
    "\n",
    "Suppose you toss a coin $n$ times and note down the sequence of heads (H) and tails (T). \n",
    "\n",
    "Fix an integer $k$ such that $0 \\le k \\le n$.\n",
    "\n",
    "**a)** In total, how many possible sequences are there? How many sequences have $k$ heads? \n",
    "\n",
    "[That means exactly $k$ heads, now and throughout the course. To answer the second question, it might help to imagine that there are $n$ empty spaces and you have to write the letter H in $k$ of them.]\n",
    "\n",
    "**b)** What is the chance that you get $k$ heads in your $n$ tosses? Why?\n",
    "\n",
    "**c)** Does your answer in **b** make sense in the cases $k=0$ and $k=n$? Explain.\n",
    "\n",
    "**d)** `SciPy` is a Python library for scientific computing. You will be using it a lot in this course. In particular, the `special` module of `SciPy` computes combinatorial terms and has been imported in this notebook. \n",
    "\n",
    "To calculate $\\binom{n}{k}$, use `special.comb(n, k)` as in the example below."
   ]
  },
  {
   "cell_type": "code",
   "execution_count": null,
   "metadata": {
    "#solution": false,
    "#staff": false,
    "#student": false
   },
   "outputs": [],
   "source": [
    "# 10 choose 2\n",
    "\n",
    "special.comb(10, 2)"
   ]
  },
  {
   "cell_type": "markdown",
   "metadata": {
    "#solution": false,
    "#staff": false,
    "#student": false
   },
   "source": [
    "Each student in a probability class is asked to toss a coin 20 times and note the number of heads. Six students do this exercise during office hours. What is the chance that none of these six students notes 10 heads?\n",
    "\n",
    "[Review Part **a** for what \"10 heads\" means, and do not import any further libraries.]"
   ]
  },
  {
   "cell_type": "code",
   "execution_count": null,
   "metadata": {
    "#solution": false,
    "#staff": false,
    "#student": true
   },
   "outputs": [],
   "source": [
    "\n",
    "# Answer to 2d\n",
    "\n",
    "..."
   ]
  },
  {
   "cell_type": "markdown",
   "metadata": {
    "#solution": false,
    "#staff": false,
    "#student": false
   },
   "source": [
    "**e)** The calculation of $\\binom{n}{k}$ involves factorials, and factorials get large very quickly. *Stirling's approximation* says that for large $n$\n",
    "\n",
    "$$\n",
    "n! ~ \\sim ~ \\sqrt{2 \\pi n} \\cdot (n/e)^n\n",
    "$$\n",
    "\n",
    "where the symbol $\\sim$ is read as \"is asymptotically equivalent to\" and means that the ratio of the two sides goes to 1 as $n$ tends to $\\infty$.\n",
    "\n",
    "Let $m$ be a positive integer. Use Stirling's formula to approximate the chance of getting $m$ heads in $2m$ tosses of a fair coin, and say what the limit is as $m \\to \\infty$. \n",
    "\n",
    "**f)** The [Law of Averages](https://inferentialthinking.com/chapters/10/1/Empirical_Distributions.html#the-law-of-averages) for fair coins implies that if you keep tossing, then in the long run you get about half heads and half tails. Explain briefly why your answer to **e** doesn't contradict this statement."
   ]
  },
  {
   "cell_type": "markdown",
   "metadata": {
    "#solution": false,
    "#staff": false,
    "#student": false
   },
   "source": [
    "#newpage"
   ]
  },
  {
   "cell_type": "markdown",
   "metadata": {
    "#solution": false,
    "#staff": false,
    "#student": false
   },
   "source": [
    "## 3. Random Coin ##\n",
    "\n",
    "This exercise is an introduction to experiments in which randomizing a parameter can affect dependence and independence. The setting is simple but powerful: it demonstrates some fundamental ideas of Bayesian prediction. We will use the same ideas in more complex settings later in the course.\n",
    "\n",
    "Suppose you have a coin that has a fixed (non-random) probability $p$ of heads. Under this assumption the tosses are independent, that is, knowing the results of some tosses doesn't change probabilities for how other tosses will come out. So for example the chance of two heads in two tosses is $p \\cdot p$.\n",
    "\n",
    "Now let's see what happens when the coin is picked randomly from a bunch of different coins. In this situation, the chance of heads is random.\n",
    "\n",
    "In a bag of coins, a proportion $f$ of the coins are fair; assume $0 < f < 1$. Of the remaining coins, half are biased towards tails and land heads with chance 0.1; the other half land heads with chance 0.9.\n",
    "\n",
    "A coin is picked at random from the bag and tossed twice. Define the following events.\n",
    "\n",
    "- $C_F$ is the event that the selected coin is fair, $C_T$ is the event that the selected coin is biased towards tails, and $C_H$ is the event that the selected coin is biased towards heads.\n",
    "- $H_1$ is the event that the first toss lands heads and $H_2$ is the event that the second toss lands heads.\n",
    "\n",
    "**a)** Find $P(C_H)$.\n",
    "\n",
    "**b)** Calculate $P(H_1)$. Simplify the answer as much as possible and then explain it by symmetry.\n",
    "\n",
    "**c)** Without calculation, fill in the blank with one of the symbols $>$, $<$, or $=$. Explain your reasoning. \n",
    "\n",
    "$P(C_H \\mid H_1) ~ \\underline{~~~~~~~~~~~~~~~} ~ P(C_H)$\n",
    "\n",
    "**d)** Now calculate $P(C_H \\mid H_1)$ and show that it is consistent with your answers to Parts **a** and **c**.\n",
    "\n",
    "**e)** Find $P(H_2)$ and (carefully!) $P(H_1H_2)$. Is $P(H_1H_2) = P(H_1)P(H_2)$?\n",
    "\n",
    "**f)** Fill in the blank with one of the symbols $>$, $<$, or $=$. Justify your choice by calculation and also explain it intuitively.\n",
    "\n",
    "$P(H_2 \\mid H_1) ~ \\underline{~~~~~~~~~~~~~~~} ~ P(H_2)$"
   ]
  },
  {
   "cell_type": "markdown",
   "metadata": {
    "#solution": false,
    "#staff": false,
    "#student": false
   },
   "source": [
    "#newpage"
   ]
  },
  {
   "cell_type": "markdown",
   "metadata": {
    "#solution": false,
    "#staff": false,
    "#student": false
   },
   "source": [
    "## 4. Extrema and Tails ##\n",
    "\n",
    "**THIS IS A HUGELY IMPORTANT EXERCISE** or I wouldn't be using bold all-caps. Make sure you understand the logic and especially the suggested visualization; that's what's going to be applied later. Note also how the logic can be applied or modified in variations of the initial problem setting.\n",
    "\n",
    "The maximum and minimum of a random sample of numbers are called the *extrema* of the sample. Distributions of extrema are best described using the left or right hand tail probabilities. In this exercise you will see how.\n",
    "\n",
    "Fix a positive integer $n$. In data science, a *sample* is a sequence of random variables $X_1, X_2, \\ldots, X_n$ defined on an outcome space, and $n$ is called the *sample size*. \n",
    "\n",
    "Suppose our sample is positive integer valued, as follows. Fix a positive integer $N$ and suppose each $X_i$ has possible values in the set $\\{1, 2, 3, \\ldots, N\\}$. \n",
    "\n",
    "Let $V_n = \\min\\{X_1, X_2, \\ldots, X_n\\}$ be the *sample minimum* and let $W_n = \\max\\{X_1, X_2, \\ldots, X_n\\}$ be the *sample maximum*.\n",
    "\n",
    "As you know from Data 8, each of $V_n$ and $W_n$ is a [statistic](https://inferentialthinking.com/chapters/10/3/Empirical_Distribution_of_a_Statistic.html#statistic). \n",
    "\n",
    "**a) [Describing an event]** The event that a sample maximum is \"small\" is straightforward to describe in terms of the individual elements of the sample. To see this, fill in the blank with an appropriate mathematical symbol or English phrase, making no further assumptions about the random variables involved. Justify your answer.\n",
    "\n",
    "Fix an integer $k$ such that $1 \\le k \\le N$. The event \"$W_n \\le k$\" is the same as the event \"each of $X_1, X_2, \\ldots, X_n$ is $\\underline{~~~~~~~~~~~~~~~~~~~~~~~~~~~~~~~~~~~~~~~~~~~~~~~~~~~~~~~} k$\".\n",
    "\n",
    "It might help to draw the number line, mark the integers 1 through $N$, and put a special mark on the integer $k$. For the maximum to be at or to the left of $k$, where do all the $X$'s have to be?\n",
    "\n",
    "**b) [Using a probability model]** In Data 8, you found empirical distributions of statistics by simulation. Now you will start finding the exact distribution of a statistic by probability theory. For this, you need a probability model. Let's start with a simple one. Suppose $n$ draws are made at random with replacement from the numbers $\\{1, 2, 3, \\ldots, N\\}$. Let $X_i$ be the number that appears on the $i$th draw. Use Part **a** to find $P(W_n \\le k)$, for each $k$ in the range $1 \\le k \\le N$.\n",
    "\n",
    "**c) [Using tail probabilities]** Continue under the assumptions in Part **b**. Use your sketch in Part **a** to express the event $\\{W_n = k\\}$ in terms of any subset of the events $\\{W_n \\le 1\\}, \\{W_n \\le 2\\}, \\ldots, \\{W_n \\le N\\}$. Use this and Part **b** to find $P(W_n = k)$ for $1 \\le k \\le N$ and to show algebraically that $\\sum_{k=1}^N P(W_n = k) = 1$. Congratulations – you have found the distribution of the sample maximum for a sample of independent uniform draws from the integers 1 through $N$. \n",
    "\n",
    "**d) [Changing the statistic]** Continue under the assumptions in Part **b**. Modify Parts **a** through **c** to find the distribution of the sample minimum $V_n$, as follows. For the event that the sample minimum is \"large\", fill in the blank with an appropriate mathematical symbol or English phrase. \n",
    "\n",
    "The event \"$V_n > k$\" is the same as the event \"each of $X_1, X_2, \\ldots, X_n$ is $\\underline{~~~~~~~~~~~~~~~~~~~~~~~~~~~~~~~~~~~~~~~~~~~~~~~~~~~~~~~} k$\".\n",
    "\n",
    "Use this observation and the ideas of the previous parts to find $P(V_n = k)$ for $1 \\le k \\le N$.\n",
    "\n",
    "**e) [Changing the probability model]** Now assume $N > n$ and suppose $X_1, X_2, \\ldots, X_n$ are draws made at random without replacement from the numbers $\\{1, 2, 3, \\ldots, N\\}$. Apply the logic in Parts **a** and **c** to find the distribution of the sample maximum $W_n$.\n",
    "\n",
    "In this part is is very important that you think carefully about the possible values of $W_n$ before calculating chances."
   ]
  },
  {
   "cell_type": "markdown",
   "metadata": {
    "#solution": false,
    "#staff": false,
    "#student": false
   },
   "source": [
    "#newpage"
   ]
  },
  {
   "cell_type": "markdown",
   "metadata": {
    "#solution": false,
    "#staff": false,
    "#student": false
   },
   "source": [
    "## 5. Mirror Images ##\n",
    "In this exercise you will have to apply results derived in the previous exercise.\n",
    "\n",
    "Let $D_1, D_2, D_3, D_4, D_5$ represent the numbers on five rolls of a die. Let $V = \\min\\{D_1, D_2, D_3, D_4, D_5\\}$, $W = \\max\\{D_1, D_2, D_3, D_4, D_5\\}$, $S = \\sum_{i=1}^5 D_i$.\n",
    "\n",
    "**a)** If possible, use one of the symbols $\\stackrel{d}{=}$ or $=$ to fill in the blank in $D_1 \\underline{~~~~~~~~~~~~~} D_2$. Explain; and if both can be used, say why.\n",
    "\n",
    "**b)** If possible, use one of the symbols $\\stackrel{d}{=}$ or $=$ to fill in the blank in $S \\underline{~~~~~~~~~~~~~} 5D_1$. Explain; and if both can be used, say why.\n",
    "\n",
    "**c)** Use the previous exercise and the code cell below to draw the probability histogram of $W$. You will need some `prob140` methods which are used in [Section 3.2](http://prob140.org/textbook/content/Chapter_03/02_Distributions.html) of the textbook."
   ]
  },
  {
   "cell_type": "code",
   "execution_count": null,
   "metadata": {
    "#solution": false,
    "#staff": false,
    "#student": true
   },
   "outputs": [],
   "source": [
    "\n",
    "n = 5\n",
    "N = 6\n",
    "k = np.arange(1, N+1)\n",
    "\n",
    "# array consisting of P(W=k)\n",
    "probs_W = ...\n",
    "\n",
    "dist_W = ...\n",
    "Plot(...)\n",
    "plt.title('Distribution of W');"
   ]
  },
  {
   "cell_type": "markdown",
   "metadata": {
    "#solution": false,
    "#staff": false,
    "#student": false
   },
   "source": [
    "**d)** Use the code cell below to draw the probability histogram of $V$."
   ]
  },
  {
   "cell_type": "code",
   "execution_count": null,
   "metadata": {
    "#solution": false,
    "#staff": false,
    "#student": true
   },
   "outputs": [],
   "source": [
    "\n",
    "...\n",
    "plt.title('Distribution of V');"
   ]
  },
  {
   "cell_type": "markdown",
   "metadata": {
    "#solution": false,
    "#staff": false,
    "#student": false
   },
   "source": [
    "**e)** Look at the two probability histograms above, and select all of the true statements below. More than one might be true, or just one, or none. Provide your reasoning.\n",
    "\n",
    "(i) $V \\stackrel{d}{=} 6 - W$\n",
    "\n",
    "(ii) $V = 6 - W$\n",
    "\n",
    "(iii) $V \\stackrel{d}{=} 7 - W$\n",
    "\n",
    "(iv) $V = 7 - W$"
   ]
  },
  {
   "cell_type": "markdown",
   "metadata": {
    "#solution": false,
    "#staff": false,
    "#student": false
   },
   "source": [
    "#newpage"
   ]
  },
  {
   "cell_type": "markdown",
   "metadata": {
    "#solution": false,
    "#staff": false,
    "#student": false
   },
   "source": [
    "## 6. Two IID Random Variables ##\n",
    "\n",
    "Let $N \\ge 5$ be a fixed integer. Let $X_1$ and $X_2$ be independent and identically distributed (i.i.d.) random variables, and let $P(X_1 = i) = p_i$ where $0 \\le i \\le N$ and $\\sum_{i=0}^N p_i = 1$.\n",
    "\n",
    "Provide (with justification) expressions for the following probabilities, in terms of $p_0, p_1, \\ldots, p_N$.\n",
    "\n",
    "**a)** $P(X_1 = X_2)$\n",
    "\n",
    "**b)** $P(X_1 = X_2 \\mid X_1 > 3)$\n",
    "\n",
    "**c)** $P(X_1 \\ne X_2 \\mid X_1 > 3)$\n",
    "\n",
    "**d)** $P(X_1 + X_2 \\le N \\mid X_1 = 2)$\n",
    "\n",
    "**e)** $P(X_1 + X_2 \\le N \\mid X_1 > 2)$"
   ]
  },
  {
   "cell_type": "markdown",
   "metadata": {
    "#solution": false,
    "#staff": false,
    "#student": false
   },
   "source": [
    "## Submission Instructions ##\n",
    "\n",
    "Many assignments throughout the course will have a written portion and a code portion. Please follow the directions below to properly submit both portions.\n",
    "\n",
    "### Written Portion ###\n",
    "*  Scan all the pages into a PDF. You can use any scanner or a phone using applications such as CamScanner. Please **DO NOT** simply take pictures using your phone. \n",
    "* Please start a new page for each question. If you have already written multiple questions on the same page, you can crop the image in CamScanner or fold your page over (the old-fashioned way). This helps expedite grading.\n",
    "* It is your responsibility to check that all the work on all the scanned pages is legible.\n",
    "\n",
    "### Code Portion ###\n",
    "* Save your notebook using File > Save and Checkpoint.\n",
    "* Generate a PDF file using File > Download as > PDF via LaTeX. This might take a few seconds and will automatically download a PDF version of this notebook.\n",
    "    * If you have issues, please make a follow-up post on the general HW 1 Ed thread.\n",
    "    \n",
    "### Submitting ###\n",
    "* Combine the PDFs from the written and code portions into one PDF.  [Here](https://smallpdf.com/merge-pdf) is a useful tool for doing so. \n",
    "* Submit the assignment to Homework 1 on Gradescope. \n",
    "* **Make sure to assign each page of your pdf to the correct question.**\n",
    "* **It is your responsibility to verify that all of your work shows up in your final PDF submission.**\n",
    "\n",
    "If you have questions about scanning or uploading your work, please post a follow-up to Ed thread. "
   ]
  },
  {
   "cell_type": "code",
   "execution_count": null,
   "metadata": {
    "#solution": false,
    "#staff": false,
    "#student": false
   },
   "outputs": [],
   "source": []
  }
 ],
 "metadata": {
  "checksums": [
   "b37a61c4040ae61458ee19c79e9305a7",
   "510b88354262c31ba9053a0c05b44859",
   "5277bdbc94775fa2252e6beb176d3807",
   "617e9d925b5fe2cd6a35fdd67bbdf752",
   "e8b146b4314b9ff8608529b2cf2e2d0e",
   "5e382e32f1416ebdbc3411b88ff3b874",
   "b8cb3e29560a2b4af42c265e492d6d92",
   "e07444aa965f00205496cc084dedf5cb",
   "640061103a186fd26f59746dd4d6de57",
   "4d13e70e4559a6ef2b779f1a458d266d",
   "ec9d87a0bbf157dbe0ec88ef1d3e9cb0",
   "dda5a174ba48ad6ff32821d2ad1cd63c",
   "376d7bef42c0ccfac9965ead1d41b736",
   "edd490ff4cb0c40aed8074111c3d88d8",
   "640061103a186fd26f59746dd4d6de57",
   "52e49289a5acb6200c53192924e22cd7",
   "640061103a186fd26f59746dd4d6de57",
   "ea9edccf5e0ed8c717697deefc0f5419",
   "640061103a186fd26f59746dd4d6de57",
   "0df73bbd9ada05ca4dd70459a380272a",
   "59700f03fd5706b37bdd389f7d61eeee",
   "964a7b1068f77db68d1c612f670a667a",
   "d9a8868d4643aae236f9cacd2ad1efdf",
   "4bd636e9304f3874642d327d41cd2613",
   "640061103a186fd26f59746dd4d6de57",
   "4e2991a2cd0ced9d6498ba7164911b83",
   "0fdc824dd1e67cb09464c1c1b2c82c42",
   "d41d8cd98f00b204e9800998ecf8427e"
  ],
  "kernelspec": {
   "display_name": "Python 3 (ipykernel)",
   "language": "python",
   "name": "python3"
  },
  "language_info": {
   "codemirror_mode": {
    "name": "ipython",
    "version": 3
   },
   "file_extension": ".py",
   "mimetype": "text/x-python",
   "name": "python",
   "nbconvert_exporter": "python",
   "pygments_lexer": "ipython3",
   "version": "3.9.9"
  },
  "number_of_pagebreaks": 5
 },
 "nbformat": 4,
 "nbformat_minor": 2
}

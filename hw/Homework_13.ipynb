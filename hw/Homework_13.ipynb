{
 "cells": [
  {
   "cell_type": "markdown",
   "metadata": {
    "#solution": false,
    "#staff": false,
    "#student": false,
    "jp-MarkdownHeadingCollapsed": true,
    "tags": []
   },
   "source": [
    "<table align=\"left\" style=\"border-style: hidden\" class=\"table\"> <tr><td class=\"col-md-2\"><img style=\"float\" src=\"../icon.png\" alt=\"Prob140 Logo\" style=\"width: 120px;\"/></td><td><div align=\"left\"><h3 style=\"margin-top: 0;\">Probability for Data Science</h3><h4 style=\"margin-top: 20px;\">UC Berkeley, Spring 2022</h4><p>Ani Adhikari</p>CC BY-NC 4.0</div></td></tr></table><!-- not in pdf -->\n",
    "\n",
    "This content is protected and may not be shared, uploaded, or distributed."
   ]
  },
  {
   "cell_type": "markdown",
   "metadata": {
    "#solution": false,
    "#staff": false,
    "#student": false
   },
   "source": [
    "# Homework 13"
   ]
  },
  {
   "cell_type": "markdown",
   "metadata": {
    "#solution": false,
    "#staff": false,
    "#student": false
   },
   "source": [
    "### Instructions\n",
    "\n",
    "Your homeworks have two components: a written portion and a portion that also involves code.  Written work should be completed on paper, and coding questions should be done in the notebook.  You are welcome to $\\LaTeX$ your answers to the written portions, but staff will not be able to assist you with $\\LaTeX$ related issues. It is your responsibility to ensure that both components of the homework are submitted completely and properly to Gradescope. **Make sure to assign each page of your pdf to the correct question.** Refer to the bottom of the notebook for submission instructions."
   ]
  },
  {
   "cell_type": "code",
   "execution_count": null,
   "metadata": {
    "#solution": false,
    "#staff": false,
    "#student": false
   },
   "outputs": [],
   "source": [
    "import warnings\n",
    "warnings.filterwarnings('ignore')\n",
    "from datascience import *\n",
    "from prob140 import *\n",
    "import numpy as np\n",
    "import matplotlib.pyplot as plt\n",
    "plt.style.use('fivethirtyeight')\n",
    "%matplotlib inline\n",
    "from scipy import stats"
   ]
  },
  {
   "cell_type": "markdown",
   "metadata": {
    "#solution": false,
    "#staff": false,
    "#student": false
   },
   "source": [
    "## 1. Midterms 1 and 2 ##\n",
    "\n",
    "In a large class, the distribution of scores in Midterms 1 and 2 is approximately bivariate normal. Define the following notation.\n",
    "\n",
    "- For $i = 1, 2$, $\\mu_i$ is the class average on Midterm $i$, and $\\sigma_i^2$ is the class variance on Midterm $i$\n",
    "- The correlation between Midterm 1 and 2 scores in the class is $\\rho$\n",
    "\n",
    "**a)** For approximately what proportion of the students was the Midterm 2 score (in standard units) higher than the Midterm 1 score (in standard units)?\n",
    "\n",
    "**b)** For approximately what proportion of the students did the two midterm scores (each in standard units) differ by more than 1?"
   ]
  },
  {
   "cell_type": "markdown",
   "metadata": {
    "#solution": false,
    "#staff": false,
    "#student": false
   },
   "source": [
    "\\newpage"
   ]
  },
  {
   "cell_type": "markdown",
   "metadata": {
    "#solution": false,
    "#staff": false,
    "#student": false
   },
   "source": [
    "## 2. 2017 SAT Scores, Part 1 ##\n",
    "The College Board presents an [annual report](https://reports.collegeboard.org/pdf/2017-total-group-sat-suite-assessments-annual-report.pdf) about participation and performance in the SAT. The 2017 SAT had two parts: Evidence-Based Reading and Writing (ERW) and Math. It is generally believed that the joint distribution of ERW and Math scores of test-takers in any given year is roughly bivariate normal. This can only be a rough approximation because SAT scores aren't continuous variables. But let's make a lazy choice for this exercise: pretend that SAT scores are continuous and that the approximation is exact.\n",
    "\n",
    "So assume that for the 2017 test-takers in the United States, the joint distribution of ERW and Math scores is bivariate normal. The College Board provides the following summary statistics.\n",
    "\n",
    "- ERW: Mean 533, SD 100\n",
    "- Math: Mean 527, SD 107\n",
    "- Total: Mean 1060, SD 195\n",
    "\n",
    "Let $R$ be the ERW score and $M$ the math score of a test-taker picked at random.\n",
    "\n",
    "**a)** Find the correlation $r(R, M)$."
   ]
  },
  {
   "cell_type": "code",
   "execution_count": null,
   "metadata": {
    "#solution": false,
    "#staff": false,
    "#student": true
   },
   "outputs": [],
   "source": [
    "# Answer to 2a\n",
    "var_R = ...\n",
    "var_M = ...\n",
    "var_T = ...\n",
    "r = ...\n",
    "r"
   ]
  },
  {
   "cell_type": "markdown",
   "metadata": {
    "#solution": false,
    "#staff": false,
    "#student": false
   },
   "source": [
    "**b)** Plot the joint density surface of $R$ and $M$. The call is `Plot_bivariate_normal(mu, cov)` where the mean vector `mu` is a list and the covariance matrix `cov` is a list of lists specifying the rows."
   ]
  },
  {
   "cell_type": "code",
   "execution_count": null,
   "metadata": {
    "#solution": false,
    "#staff": false,
    "#student": true
   },
   "outputs": [],
   "source": [
    "# Answer to 2b\n",
    "mu = ...\n",
    "cov_RM = ...\n",
    "cov = [...]\n",
    "Plot_bivariate_normal(..., ..., figsize =(6,6))"
   ]
  },
  {
   "cell_type": "markdown",
   "metadata": {
    "#solution": false,
    "#staff": false,
    "#student": false
   },
   "source": [
    "**c) [WRITTEN & CODE]** Let $T = R+M$. In the code cell below, plot the joint density surface of $M$ and $T$. Use as many lines of code as you need. **On paper, explain** your choice of density, and say what you notice about the plot."
   ]
  },
  {
   "cell_type": "code",
   "execution_count": null,
   "metadata": {
    "#solution": false,
    "#staff": false,
    "#student": true
   },
   "outputs": [],
   "source": [
    "# Answer to 2c\n",
    "..."
   ]
  },
  {
   "cell_type": "markdown",
   "metadata": {
    "#solution": false,
    "#staff": false,
    "#student": false
   },
   "source": [
    "**d)** Write a code expression that evaluates to $r(M, T)$. In the comment, explain why it's high. "
   ]
  },
  {
   "cell_type": "code",
   "execution_count": null,
   "metadata": {
    "#solution": false,
    "#staff": false,
    "#student": true
   },
   "outputs": [],
   "source": [
    "# Answer to 2d\n",
    "\"\"\"r(M, T) is high because ...\"\"\"\n",
    "..."
   ]
  },
  {
   "cell_type": "markdown",
   "metadata": {
    "#solution": false,
    "#staff": false,
    "#student": false
   },
   "source": [
    "\\newpage"
   ]
  },
  {
   "cell_type": "markdown",
   "metadata": {
    "#solution": false,
    "#staff": false,
    "#student": false
   },
   "source": [
    "## 3. 2017 SAT Scores, Part 2 ##\n",
    "This exercise continues the previous one. Please make the same assumptions as before. In your math and code you can use any quantity that has already been defined.\n",
    "\n",
    "As in the previous exercise, the parts below refer to the scores of a test-taker picked at random."
   ]
  },
  {
   "cell_type": "markdown",
   "metadata": {
    "#solution": false,
    "#staff": false,
    "#student": false
   },
   "source": [
    "**a)** Write an expression that evaluates to the chance that the total score is greater than 1500."
   ]
  },
  {
   "cell_type": "code",
   "execution_count": null,
   "metadata": {
    "#solution": false,
    "#staff": false,
    "#student": true
   },
   "outputs": [],
   "source": [
    "# Answer to 3a\n",
    "..."
   ]
  },
  {
   "cell_type": "markdown",
   "metadata": {
    "#solution": false,
    "#staff": false,
    "#student": false
   },
   "source": [
    "**b) [WRITTEN & CODE]** In terms of the standard normal cdf $\\Phi$, what is the chance that the student scored higher on ERW than on Math? Answer this on paper (show your work) and then use the code cell below to find the numerical value. Use as many lines of code as you need. The last expression should evaluate to the proportion."
   ]
  },
  {
   "cell_type": "code",
   "execution_count": null,
   "metadata": {
    "#solution": false,
    "#staff": false,
    "#student": true
   },
   "outputs": [],
   "source": [
    "# Answer to 3b\n",
    "..."
   ]
  },
  {
   "cell_type": "markdown",
   "metadata": {
    "#solution": false,
    "#staff": false,
    "#student": false
   },
   "source": [
    "**c)** Write a code expression that evaluates to the chance that the ERW and Math scores were more than 100 points apart. As before, your expression can involve quantities defined in earlier parts."
   ]
  },
  {
   "cell_type": "code",
   "execution_count": null,
   "metadata": {
    "#solution": false,
    "#staff": false,
    "#student": true
   },
   "outputs": [],
   "source": [
    "# Answer to 3c\n",
    "..."
   ]
  },
  {
   "cell_type": "markdown",
   "metadata": {
    "#solution": false,
    "#staff": false,
    "#student": false
   },
   "source": [
    "\\newpage"
   ]
  },
  {
   "cell_type": "markdown",
   "metadata": {
    "#solution": false,
    "#staff": false,
    "#student": false
   },
   "source": [
    "## 4. Normals and Coins ##\n",
    "\n",
    "Let $X$ be standard normal. Construct a random variable $Y$ as follows:\n",
    "\n",
    "- Toss a fair coin.\n",
    "- If the coin lands heads, let $Y = X$.\n",
    "- If the coin lands tails, let $Y = -X$.\n",
    "\n",
    "**a)** Find the cdf of $Y$ and hence identify the distribution of $Y$.\n",
    "\n",
    "**b)** Find $E(XY)$ by conditioning on the result of the toss.\n",
    "\n",
    "**c)** Are $X$ and $Y$ uncorrelated? \n",
    "\n",
    "**d)** Are $X$ and $Y$ independent?\n",
    "\n",
    "**e)** Is the joint distribution of $X$ and $Y$ bivariate normal?"
   ]
  },
  {
   "cell_type": "markdown",
   "metadata": {
    "#solution": false,
    "#staff": false,
    "#student": false
   },
   "source": [
    "\\newpage"
   ]
  },
  {
   "cell_type": "markdown",
   "metadata": {
    "#solution": false,
    "#staff": false,
    "#student": false
   },
   "source": [
    "## 5. Normal Sample Mean and Sample Variance, Part 1 ##\n",
    "\n",
    "Let $X_1, X_2, \\ldots, X_n$ be i.i.d. with mean $\\mu$ and variance $\\sigma^2$. Let\n",
    "\n",
    "$$\n",
    "\\bar{X} ~ = ~ \\frac{1}{n} \\sum_{i=1}^n X_i\n",
    "$$\n",
    "\n",
    "denote the sample mean. In [Homework 8](http://prob140.datahub.berkeley.edu/hub/user-redirect/git-pull?repo=https://github.com/prob140/materials-sp22&branch=main&subPath=hw/Homework_08.ipynb), you constructed a random variable\n",
    "\n",
    "$$S^2 = \\frac{1}{n - 1} \\sum_{i=1}^n (X_i - \\bar{X})^2$$ \n",
    "\n",
    "called the sample variance. Before proceeding, please review Homework 8, Question 6 in its entirety.\n",
    "\n",
    "**a)** For $1 \\le i \\le n$ let $D_i = X_i - \\bar{X}$. Find $Cov(D_i, \\bar{X})$.\n",
    "\n",
    "**b)** Now assume in addition that $X_1, X_2, \\ldots, X_n$ are i.i.d. normal $(\\mu, \\sigma^2)$. What is the joint distribution of $\\bar{X}, D_1, D_2, \\ldots, D_{n-1}$? Explain why $D_n$ isn't on the list.\n",
    "\n",
    "**c)** True or false (justify your answer): The sample mean and sample variance of an i.i.d. normal sample are independent of each other."
   ]
  },
  {
   "cell_type": "markdown",
   "metadata": {
    "#solution": false,
    "#staff": false,
    "#student": false
   },
   "source": [
    "\\newpage"
   ]
  },
  {
   "cell_type": "markdown",
   "metadata": {
    "#solution": false,
    "#staff": false,
    "#student": false
   },
   "source": [
    "## 6. Normal Sample Mean and Sample Variance, Part 2 ##\n",
    "\n",
    "**a)** Let $R$ have the chi-squared distribution with $n$ degrees of freedom. What is the mgf of $R$?\n",
    "\n",
    "**b)**\n",
    "For $R$ as in Part (a), suppose\n",
    "$R = V + W$ where $V$ and $W$ are independent and $V$ has the chi-squared \n",
    "distribution with $m < n$ degrees of freedom. Can you identify the distribution of $W$? Justify your answer.\n",
    "\n",
    "**c)** Let $X_1, X_2, \\ldots , X_n$ be any sequence of random variables and let $\\bar{X} = \\frac{1}{n}\\sum_{i=1}^n X_i$. Let $\\alpha$ be\n",
    "any constant. Prove the *sum of squares decomposition*\n",
    "\n",
    "$$\n",
    "\\sum_{i=1}^n (X_i - \\alpha)^2 ~=~ \\sum_{i=1}^n (X_i - \\bar{X})^2 ~+~ n(\\bar{X} - \\alpha)^2\n",
    "$$\n",
    "\n",
    "**d)** Now let $X_1, X_2, \\ldots , X_n$ be i.i.d. normal with mean $\\mu$ and variance $\\sigma^2 > 0$. Let $S^2$ be the \"sample variance\" defined by \n",
    "\n",
    "$$\n",
    "S^2 ~=~ \\frac{1}{n-1} \\sum_{i=1}^n (X_i - \\bar{X})^2\n",
    "$$\n",
    "\n",
    "Find a constant $c$ such that $cS^2$ has a chi-squared distribution. Provide the degrees of freedom.\n",
    "\n",
    "[Use Parts (b) and (c) as well as the result of the previous exercise.]"
   ]
  },
  {
   "cell_type": "markdown",
   "metadata": {
    "#solution": false,
    "#staff": false,
    "#student": false
   },
   "source": [
    "## Submission Instructions ##\n",
    "\n",
    "Many assignments throughout the course will have a written portion and a code portion. Please follow the directions below to properly submit both portions.\n",
    "\n",
    "### Written Portion ###\n",
    "*  Scan all the pages into a PDF. You can use any scanner or a phone using applications such as CamScanner. Please **DO NOT** simply take pictures using your phone. \n",
    "* Please start a new page for each question. If you have already written multiple questions on the same page, you can crop the image in CamScanner or fold your page over (the old-fashioned way). This helps expedite grading.\n",
    "* It is your responsibility to check that all the work on all the scanned pages is legible.\n",
    "\n",
    "### Code Portion ###\n",
    "* Save your notebook using File > Save and Checkpoint.\n",
    "* Generate a PDF file using File > Download as > PDF via LaTeX. This might take a few seconds and will automatically download a PDF version of this notebook.\n",
    "    * If you have issues, please make a follow-up post on the general HW 13 Ed thread.\n",
    "    \n",
    "### Submitting ###\n",
    "* Submit the assignment to Homework 13 on Gradescope. \n",
    "* **Make sure to assign each page of your pdf to the correct question.**\n",
    "* **It is your responsibility to verify that all of your work shows up in your final PDF submission.**\n",
    "\n",
    "If you have questions about scanning or uploading your work, please post a follow-up to the [Ed thread](https://edstem.org/us/courses/17989/discussion/1027297) on this topic. "
   ]
  }
 ],
 "metadata": {
  "checksums": [
   "929fd61a8cf299f45a1992dae03ad4eb",
   "cba92c7547381925a68ef0571c9bba30",
   "0350987bcbc0b4e3840dce42e8623734",
   "d2bc52a66d36638ea8706790450f5f58",
   "62656fd3ebb747369384f8b3b3bc96a3",
   "562505d567faf02dfc9388e81e89d07b",
   "b9370e255f18a862ea32545f59195fdc",
   "46f80785db83a1ceb59c4a690954d420",
   "c45d83218238c477944a2156a130ca4b",
   "3a13b40b85fc7fad2c7173f027967789",
   "e4ca7ec3ec2d27419b1fe2565130f4e2",
   "9ca2c9beb42d6c994046ecc7377eeaf1",
   "8bfe4da9de2bf9790de590c9dfa33ff5",
   "eb432801935bb56d667d73011fcf0d04",
   "562505d567faf02dfc9388e81e89d07b",
   "9c4b2c53b068214bef933ecd1a5ba735",
   "4f0b057dc60197d746a6da35525bb85a",
   "9c479e0028cc56cab3466d56dfe6fdd0",
   "e3156c9bb65fe267a54f50b8ccc07a34",
   "a9af8c3e2cfb0752e439e4b6af7ed2ef",
   "6f11a241bde08d9b7ee34be5c3825f6f",
   "236864de9594b7ba28b1fbb825b921d1",
   "562505d567faf02dfc9388e81e89d07b",
   "9573f69003738031c60263e2ffefbc63",
   "562505d567faf02dfc9388e81e89d07b",
   "9d020c7cfe7f25d3be9d2f4d6c059c92",
   "562505d567faf02dfc9388e81e89d07b",
   "b4e8220997acb9589f68924c2cb387ef",
   "7e31736c6e19d0984fad41f9e4d52beb"
  ],
  "kernelspec": {
   "display_name": "Python 3",
   "language": "python",
   "name": "python3"
  },
  "language_info": {
   "codemirror_mode": {
    "name": "ipython",
    "version": 3
   },
   "file_extension": ".py",
   "mimetype": "text/x-python",
   "name": "python",
   "nbconvert_exporter": "python",
   "pygments_lexer": "ipython3",
   "version": "3.7.11"
  },
  "number_of_pagebreaks": 0
 },
 "nbformat": 4,
 "nbformat_minor": 4
}

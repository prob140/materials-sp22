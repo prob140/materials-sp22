{
 "cells": [
  {
   "cell_type": "markdown",
   "metadata": {
    "#solution": false,
    "#staff": false,
    "#student": false
   },
   "source": [
    "<table align=\"left\" style=\"border-style: hidden\" class=\"table\"> <tr><td class=\"col-md-2\"><img style=\"float\" src=\"../icon.png\" alt=\"Prob140 Logo\" style=\"width: 120px;\"/></td><td><div align=\"left\"><h3 style=\"margin-top: 0;\">Probability for Data Science</h3><h4 style=\"margin-top: 20px;\">UC Berkeley, Spring 2022</h4><p>Ani Adhikari</p>CC BY-NC 4.0</div></td></tr></table><!-- not in pdf -->\n",
    "\n",
    "This content is protected and may not be shared, uploaded, or distributed."
   ]
  },
  {
   "cell_type": "markdown",
   "metadata": {
    "#solution": false,
    "#staff": false,
    "#student": false,
    "id": "4r-vItY0CptL"
   },
   "source": [
    "# Homework 10"
   ]
  },
  {
   "cell_type": "markdown",
   "metadata": {
    "#solution": false,
    "#staff": false,
    "#student": false
   },
   "source": [
    "### Instructions\n",
    "\n",
    "Your homeworks have two components: a written portion and a portion that also involves code.  Written work should be completed on paper, and coding questions should be done in the notebook.  You are welcome to $\\LaTeX$ your answers to the written portions, but staff will not be able to assist you with $\\LaTeX$ related issues. It is your responsibility to ensure that both components of the homework are submitted completely and properly to Gradescope. **Make sure to assign each page of your pdf to the correct question.** Refer to the bottom of the notebook for submission instructions."
   ]
  },
  {
   "cell_type": "code",
   "execution_count": null,
   "metadata": {
    "#solution": false,
    "#staff": false,
    "#student": false,
    "id": "5P9hpfn3CptM"
   },
   "outputs": [],
   "source": [
    "import warnings\n",
    "warnings.filterwarnings('ignore')\n",
    "from datascience import *\n",
    "from prob140 import *\n",
    "import numpy as np\n",
    "from scipy import stats\n",
    "import matplotlib.pyplot as plt\n",
    "plt.style.use('fivethirtyeight')\n",
    "%matplotlib inline"
   ]
  },
  {
   "cell_type": "markdown",
   "metadata": {
    "#solution": false,
    "#staff": false,
    "#student": false,
    "id": "i0hQFo90CptN"
   },
   "source": [
    "## 1. Peter Meets Paul ##\n",
    "Peter and Paul agree to meet at a restaurant at noon. Peter arrives at time normally distributed with mean 12:00 noon and SD 3 minutes. Paul arrives at a time normally distributed with mean 12:02 P.M. and SD 4 minutes. \n",
    "\n",
    "Find the chances below assuming that the two arrival times are independent. \n",
    "\n",
    "- First, write a formula for the chance in terms of the standard normal cdf $\\Phi$. \n",
    "- Then use a code cell to find the numerical value. You do not have to turn in any coding work for this question.\n",
    "\n",
    "**a)** $P$(Peter arrives before Paul)\n",
    "\n",
    "**b)** $P$(both men arrive within 3 minutes of noon)\n",
    "\n",
    "**c)** $P$(the two men arrive within 3 minutes of each other)\n"
   ]
  },
  {
   "cell_type": "code",
   "execution_count": null,
   "metadata": {
    "#solution": false,
    "#staff": false,
    "#student": true,
    "id": "5EPNnuDHCptO"
   },
   "outputs": [],
   "source": [
    "# Calculation for 1a\n",
    "..."
   ]
  },
  {
   "cell_type": "code",
   "execution_count": null,
   "metadata": {
    "#solution": false,
    "#staff": false,
    "#student": true,
    "id": "TyOQN2NlCptO"
   },
   "outputs": [],
   "source": [
    "# Calculation for 1b\n",
    "..."
   ]
  },
  {
   "cell_type": "code",
   "execution_count": null,
   "metadata": {
    "#solution": false,
    "#staff": false,
    "#student": true,
    "id": "siy60fMMCptP"
   },
   "outputs": [],
   "source": [
    "# Calculation for 1c\n",
    "..."
   ]
  },
  {
   "cell_type": "markdown",
   "metadata": {
    "#solution": false,
    "#staff": false,
    "#student": false,
    "id": "50EwrN4oCptP"
   },
   "source": [
    "\\newpage"
   ]
  },
  {
   "cell_type": "markdown",
   "metadata": {
    "#solution": false,
    "#staff": false,
    "#student": false,
    "id": "1gQGIKSwCptP"
   },
   "source": [
    "## 2. Rayleigh Facts and an Application ##\n",
    "\n",
    "Let $R$ have the Rayleigh density given by $f(r) ~ = ~ re^{-\\frac{1}{2}r^2}$ for $r > 0$.\n",
    "\n",
    "Refer to [Section 18.1](http://prob140.org/textbook/content/Chapter_18/01_Standard_Normal_Basics.html#variance) and [Section 18.4](http://prob140.org/textbook/content/Chapter_18/04_Chi_Squared_Distributions.html#from-chi-squared-1-to-chi-squared-n) for ways in which this density arises.\n",
    "\n",
    "The point of Parts **a** and **b** is for you *not to reinvent wheels*, and also for you to notice that math calculation can be reduced by using probability facts. The probabilistic approach to math is powerful, so please follow the approach in the instructions. We will not give credit for other approaches. \n",
    "\n",
    "**a)** Write $E(R)$ as an integral but don't find its value yet. Let $Z$ be standard normal. You know the numerical value of the variance of $Z$. Write the variance of $Z$ as an integral, compare with your integral for $E(R)$, and use the comparison to find the value of $E(R)$. \n",
    "\n",
    "**b)** Use properties of $R^2$ to find $E(R^2)$ without any further integration, and hence find $Var(R)$.\n",
    "\n",
    "**c)** Suppose two shots are fired at a target. Assume each shot hits with independent normally distributed coordinates, with the same means and equal unit variances. Let $D$ be the distance between the point where the two shots strike. Find $E(D)$ and $Var(D)$.\n",
    "\n",
    "[Your calculations will go faster if you remember that a normal $(0, \\sigma^2)$ variable can be written as $\\sigma Z$ where $Z$ is standard normal, and if you use Parts **a-b**.]"
   ]
  },
  {
   "cell_type": "markdown",
   "metadata": {
    "#solution": false,
    "#staff": false,
    "#student": false,
    "id": "5MimkYFnCptQ"
   },
   "source": [
    "\\newpage"
   ]
  },
  {
   "cell_type": "markdown",
   "metadata": {
    "#solution": false,
    "#staff": false,
    "#student": false
   },
   "source": [
    "## 3. Mixture Versus Linear Combination \n",
    "\n",
    "Let $Z$ have the standard normal distribution, let $X$ have the normal $(4, 1)$ distribution, and suppose $Z$ and $X$ are independent. \n",
    "\n",
    "Define the linear combination $Y = 0.2Z + 0.8X$.\n",
    "\n",
    "Define the *mixture* $W$ as follows: \n",
    "- Toss a coin that lands heads with chance $0.2$.\n",
    "    - If the coin lands heads, then $W = Z$.\n",
    "    - If the coin lands tails, then $W = X$.\n",
    "    \n",
    "**(a)** Observe that $Y$ and $W$ are different random variables, by filling in the blanks with numerical values.\n",
    "\n",
    "If the value of $Z$ is close to $1$ and the value of $X$ is close to $2$, then the value of $Y$ is close to $\\underline{~~~~~~~~~~~~~~~~~~~~~~~}$ whereas the value of $W$ is close to $\\underline{~~~~~~~~~~~~~~~~~~~~~~~}$ with chance $0.2$ and close to $\\underline{~~~~~~~~~~~~~~~~~~~~~~~}$ with chance $0.8$.\n",
    "\n",
    "**(b)** Find the density of $Y$ and the density of $W$. For the latter, the quickest way is to find $P(W \\in dw)$. Or you could start by finding the cdf of $W$.\n",
    "\n",
    "**(c) [CODE]** Complete the cell below to plot the densities of $Y$ and $W$. Do not add any more lines of code. The expression `stats.norm.pdf(x, mu, sigma)` evaluates to the normal $(\\mu, \\sigma^2)$ density function evaluated at $x$."
   ]
  },
  {
   "cell_type": "code",
   "execution_count": null,
   "metadata": {
    "#solution": false,
    "#staff": false,
    "#student": true
   },
   "outputs": [],
   "source": [
    "# Answer to 3c \n",
    "\n",
    "x = np.arange(-6, 8.01, 0.01)\n",
    "\n",
    "# Density of Y evaluated at x\n",
    "pdf_Y = ...\n",
    "\n",
    "# Density of W evaluated at x\n",
    "pdf_W = ...\n",
    "\n",
    "plt.plot(x, pdf_Y, lw=2, label='Linear Combination $Y$')\n",
    "plt.plot(x, pdf_W, lw=2, label='Mixture $W$')\n",
    "plt.legend()\n",
    "plt.ylim(-0.01, 0.5)\n",
    "plt.title('Densities of $Y$ and $W$');"
   ]
  },
  {
   "cell_type": "markdown",
   "metadata": {
    "#solution": false,
    "#staff": false,
    "#student": false
   },
   "source": [
    "**(d)** Show that the expectations of $Y$ and $W$ are equal even though the densities are different.\n",
    "\n",
    "**(e)** Find the mgf of $Y$ and the mgf of $W$. For the latter, it will help to keep in mind that since the mgf is an expectation, you can use properties of expectation such as iteration."
   ]
  },
  {
   "cell_type": "markdown",
   "metadata": {
    "#solution": false,
    "#staff": false,
    "#student": false
   },
   "source": [
    "\\newpage"
   ]
  },
  {
   "cell_type": "markdown",
   "metadata": {
    "#solution": false,
    "#staff": false,
    "#student": false,
    "id": "NuLalJ02CptQ"
   },
   "source": [
    "## 4. Gamma Tail Bound ##\n",
    "\n",
    "Before you do this exercise, carefully study a [relevant example](http://prob140.org/textbook/content/Chapter_19/04_Chernoff_Bound.html#application-to-the-normal-distribution) in the textbook. You will have to follow similar steps.\n",
    "\n",
    "You will need the [mgf of the gamma distribution](http://prob140.org/textbook/content/Chapter_19/02_Moment_Generating_Functions.html#mgf-of-a-gamma-r-lambda-random-variable). Also remember that you found the gamma mean and variance in Homework 9.\n",
    "\n",
    "Let $X$ have the gamma $(r, \\lambda)$ distribution. \n",
    "\n",
    "**a)** Show that $P(X \\ge 2E(X)) \\le \\left(\\frac{2}{e}\\right)^r$.\n",
    "\n",
    "**b)** Find Markov's and Chebyshev's bounds on $P(X \\ge 2E(X))$. \n",
    "\n",
    "**c) [CODE]** Fix $\\lambda = 1$. Display overlaid plots of the following four graphs as functions of $r$, for $r$ in the interval $(0.5, 15)$ :\n",
    "\n",
    "- The exact tail probability $P(X \\ge 2E(X))$\n",
    "- The bound in Part **a**: $\\left(\\frac{2}{e}\\right)^r$\n",
    "- Chebyshev's bound on $P(X \\ge 2E(X))$\n",
    "- Markov's bound on $P(X \\ge 2E(X))$\n",
    "\n",
    "The code uses `plt.plot` which you have used before. The expression `stats.gamma.cdf(x, r, scale=1)` evaluates to the cdf of the gamma $(r, 1)$ distribution at the point $x$."
   ]
  },
  {
   "cell_type": "code",
   "execution_count": null,
   "metadata": {
    "#solution": false,
    "#staff": false,
    "#student": true,
    "id": "Id76SRABCptR"
   },
   "outputs": [],
   "source": [
    "# Answer to 4c\n",
    "r = np.arange(0.05, 15, 0.1) \n",
    "\n",
    "markov_bound = ...\n",
    "\n",
    "chebyshev_bound = ...\n",
    "\n",
    "part_a_bound = ...\n",
    "\n",
    "# Use as many lines as you need for the exact values\n",
    "exact = ...\n",
    "...\n",
    "\n",
    "plt.plot(r, exact, lw=2, label='Exact Chance')\n",
    "plt.plot(r, part_a_bound, lw=2, label='Part (a) Bound')\n",
    "plt.plot(r, chebyshev_bound, lw=2, label='Chebyshev Bound')\n",
    "plt.plot(r, markov_bound, lw=2, label='Markov Bound')\n",
    "plt.legend()\n",
    "plt.xlabel('$r$')\n",
    "plt.ylim(0, 1)\n",
    "plt.xlim(0, 15)\n",
    "plt.title('$P(X \\geq 2E(X))$ for $X$ gamma $(r, 1)$');"
   ]
  },
  {
   "cell_type": "markdown",
   "metadata": {
    "#solution": false,
    "#staff": false,
    "#student": false
   },
   "source": [
    "## Submission Instructions ##\n",
    "\n",
    "Many assignments throughout the course will have a written portion and a code portion. Please follow the directions below to properly submit both portions.\n",
    "\n",
    "### Written Portion ###\n",
    "*  Scan all the pages into a PDF. You can use any scanner or a phone using applications such as CamScanner. Please **DO NOT** simply take pictures using your phone. \n",
    "* Please start a new page for each question. If you have already written multiple questions on the same page, you can crop the image in CamScanner or fold your page over (the old-fashioned way). This helps expedite grading.\n",
    "* It is your responsibility to check that all the work on all the scanned pages is legible.\n",
    "\n",
    "### Code Portion ###\n",
    "* Save your notebook using File > Save and Checkpoint.\n",
    "* Generate a PDF file using File > Download as > PDF via LaTeX. This might take a few seconds and will automatically download a PDF version of this notebook.\n",
    "    * If you have issues, please make a follow-up post on the general HW 10 Ed thread.\n",
    "    \n",
    "### Submitting ###\n",
    "* Combine the PDFs from the written and code portions into one PDF.  [Here](https://smallpdf.com/merge-pdf) is a useful tool for doing so. \n",
    "* Submit the assignment to Homework 10 on Gradescope. \n",
    "* **Make sure to assign each page of your pdf to the correct question.**\n",
    "* **It is your responsibility to verify that all of your work shows up in your final PDF submission.**\n",
    "\n",
    "If you have questions about scanning or uploading your work, please post a follow-up to the [Ed thread](https://edstem.org/us/courses/17989/discussion/1027297) on this topic. "
   ]
  }
 ],
 "metadata": {
  "anaconda-cloud": {},
  "checksums": [
   "929fd61a8cf299f45a1992dae03ad4eb",
   "e1370906320eef18b35fbf3a8b435743",
   "0350987bcbc0b4e3840dce42e8623734",
   "d0602e0d9ce8b7fd066b0c8a788116c3",
   "82a3646cbc2429a2b869b55140a68764",
   "9ff6aebcc8146b47452c5d943df5ac3b",
   "62916d45e4328e56adf3f555e71e3bfb",
   "ff4f181f122a55e1b05f50467f6fb574",
   "562505d567faf02dfc9388e81e89d07b",
   "6514c28be1dce103c27ccffcf05f1514",
   "562505d567faf02dfc9388e81e89d07b",
   "9e7b19aff05c249deac72177daef095b",
   "56da276212c9913c67f10760bae935f7",
   "a4b070a3ca70c6ca3a3a8df6ef14b373",
   "562505d567faf02dfc9388e81e89d07b",
   "ad1780a8de0799713c2802c95bb05914",
   "87c10d043cd949a1e3567c7a55d6478b",
   "059f88e3fd5a40d2caf5da013d71686e"
  ],
  "colab": {
   "name": "Homework_09.ipynb",
   "provenance": []
  },
  "kernelspec": {
   "display_name": "Python 3",
   "language": "python",
   "name": "python3"
  },
  "language_info": {
   "codemirror_mode": {
    "name": "ipython",
    "version": 3
   },
   "file_extension": ".py",
   "mimetype": "text/x-python",
   "name": "python",
   "nbconvert_exporter": "python",
   "pygments_lexer": "ipython3",
   "version": "3.7.4"
  },
  "number_of_pagebreaks": 0
 },
 "nbformat": 4,
 "nbformat_minor": 1
}

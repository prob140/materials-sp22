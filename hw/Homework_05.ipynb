{
 "cells": [
  {
   "cell_type": "markdown",
   "metadata": {
    "#solution": false,
    "#staff": false,
    "#student": false
   },
   "source": [
    "<table align=\"left\" style=\"border-style: hidden\" class=\"table\"> <tr><td class=\"col-md-2\"><img style=\"float\" src=\"../icon.png\" alt=\"Prob140 Logo\" style=\"width: 120px;\"/></td><td><div align=\"left\"><h3 style=\"margin-top: 0;\">Probability for Data Science</h3><h4 style=\"margin-top: 20px;\">UC Berkeley, Spring 2022</h4><p>Ani Adhikari</p>CC BY-NC 4.0</div></td></tr></table><!-- not in pdf -->\n",
    "\n",
    "This content is protected and may not be shared, uploaded, or distributed."
   ]
  },
  {
   "cell_type": "markdown",
   "metadata": {
    "#solution": false,
    "#staff": false,
    "#student": false
   },
   "source": [
    "# Homework 5 #"
   ]
  },
  {
   "cell_type": "markdown",
   "metadata": {
    "#solution": false,
    "#staff": false,
    "#student": false
   },
   "source": [
    "### Instructions\n",
    "\n",
    "Your homeworks have two components: a written portion and a portion that also involves code.  Written work should be completed on paper, and coding questions should be done in the notebook.  You are welcome to $\\LaTeX$ your answers to the written portions, but staff will not be able to assist you with $\\LaTeX$ related issues. It is your responsibility to ensure that both components of the homework are submitted completely and properly to Gradescope. **Make sure to assign each page of your pdf to the correct question.** Refer to the bottom of the notebook for submission instructions."
   ]
  },
  {
   "cell_type": "markdown",
   "metadata": {
    "#solution": false,
    "#staff": false,
    "#student": false
   },
   "source": [
    "## 1. Switching Chain ##\n",
    "Consider a Markov Chain $X_0, X_1, \\ldots$ with the transition matrix given below, for some $0 < p < 1$ and $q = 1-p$.\n",
    "\n",
    "| **States**| $~~0~~$ | $~~1~~$ |\n",
    "|-----|-----|-----|\n",
    "| $~~0~~$ | $~~p~~$ | $~~q~~$ |\n",
    "| $~~1~~$ | $~~q~~$ | $~~p~~$ |\n",
    "\n",
    "**a)** Explain why this chain is irreducible and aperiodic.\n",
    "\n",
    "**b)** For $n \\ge 1$, let $C_n$ be the number of *switches* up to time $n$. That is, $C_n$ is the number of times the chain changes state up to and including time $n$. For example, if the path is 0 0 0 1 0 0 0 1 1, then $C_8 = 3$ (remember that the path starts at $X_0$). What is the distribution of $C_n$, and why?\n",
    "\n",
    "**c)** In the path $010100$, $X_0 = 0$ and $X_5 = 0$, so there is a $0 \\to 0$ transition in 5 steps. Find the value of $C_5$ for this path; you don't have to turn it in. For your own understanding, create several more examples of $0 \\to 0$ transitions for different values of $n$, and find the value of $C_n$ in each of your examples. There are already some more examples in the given path $010100$. For example the initial segment $010$ is a $0 \\to 0$ transition in 2 steps.\n",
    "\n",
    "Think about what is common to the values of $C_n$ that you found in your examples. Now fill in the blank with a word, and **justify your answer**. \n",
    "\n",
    "For $n \\ge 1$, \n",
    "$$\n",
    "P_n(0, 0) ~ = ~ P(C_n \\text{ is } \\underline{ ~~~~~~~~~~~~~~~ })\n",
    "$$\n",
    "\n",
    "**d)** Now find $P_n(0, 0)$ using Part **b**. [Hint: Compare the expansions of $(p+q)^n$ and $(p-q)^n$. How can you use both of them to get just the terms that you need?] \n",
    "\n",
    "**e)** Use Part **d** (not the balance equations) to find the stationary distribution of the chain. This will give you a complete proof of the stationary distribution in this case, whereas our general discussion of the balance equations relies on your acceptance of the main [convergence theorem](http://prob140.org/textbook/content/Chapter_10/03_Long_Run_Behavior.html#convergence-to-stationarity) without proof."
   ]
  },
  {
   "cell_type": "markdown",
   "metadata": {
    "#solution": false,
    "#staff": false,
    "#student": false
   },
   "source": [
    "#newpage"
   ]
  },
  {
   "cell_type": "markdown",
   "metadata": {
    "#solution": false,
    "#staff": false,
    "#student": false
   },
   "source": [
    "## 2. Panda's Problem ##\n",
    "Every day, Panda the black-and-white cat comes to our house for food.\n",
    "Assume that every day:\n",
    "\n",
    "- We put the food out at the front door or at the back door, according to whether a $p$-coin lands heads or tails. You can assume $0 < p < 1$.\n",
    "\n",
    "- Panda arrives at the door at which it found the food the previous day; if the food is not there, Panda is disappointed and trudges to the other door to eat.\n",
    "\n",
    "**a)** Set up a four-state Markov Chain to find the long run expected proportion of days when Panda is disappointed. If you use the balance equations, make sure to first show that your chain is irreducible and aperiodic, so that the conditions of the equations are satisfied.\n",
    "\n",
    "**b)** Suppose that yesterday Panda arrived at the front door and was not disappointed. What is the chance of the same thing happening today? What is your best guess for the chance of the same thing happening (Panda arriving at the front door and not being disappointed) one year from now, assuming that the process continues as described?\n",
    "\n",
    "**c)** Panda's strategy is to remember where the food was the previous day, and go to that door. Here are three other strategies that Panda might use:\n",
    "\n",
    "- Always go to the front door.\n",
    "\n",
    "- Always go to the back door.\n",
    "\n",
    "- Remember where the food was the previous day, and go to the other door.\n",
    "\n",
    "Compare each of these strategies to the strategy Panda uses: for what values of $p$ do these result in a lower expected proportion of days of disappointment?"
   ]
  },
  {
   "cell_type": "markdown",
   "metadata": {
    "#solution": false,
    "#staff": false,
    "#student": false
   },
   "source": [
    "#newpage"
   ]
  },
  {
   "cell_type": "markdown",
   "metadata": {
    "#solution": false,
    "#staff": false,
    "#student": false
   },
   "source": [
    "## 3. A Reflecting Walk ##\n",
    "\n",
    "Let $N$ be a positive integer. Consider a Markov Chain $X_0, X_1, X_2, \\ldots $\n",
    "with state space consisting of the integers $ \\{-N, -N+1, \\ldots , -1, 0, 1, \\ldots, N-1, N\\}$ and transition matrix given by:\n",
    "\n",
    "- $P(-N, -N) = 1/3$ and $P(-N, -N+1) = 2/3$\n",
    "- For $-N < i < 0$, $P(i, i-1) = 1/3$ and $P(i, i+1) = 2/3$\n",
    "- $P(0, -1) = P(0, 0) = P(0, 1) = 1/3$\n",
    "- For $0 < i < N$, $P(i, i-1) = 2/3$ and $P(i, i+1) = 1/3 $\n",
    "- $P(N, N-1) = 2/3$ and $P(N, N) = 1/3$\n",
    "\n",
    "**a)** Does the chain have detailed balance? Explain briefly.\n",
    "\n",
    "**b)** Find the long run expected proportion of time the chain spends at $0$.\n",
    "\n",
    "[It will be very helpful to recall how to sum a geometric series, as in Pages 5-6 of the [notes](http://www.cs.yale.edu/homes/aspnes/pinewiki/attachments/SummationNotation/summation-notation.pdf) referenced in the Geometric Series section of the [Math Prereqs](http://prob140.org/prereqs/) page.]"
   ]
  },
  {
   "cell_type": "markdown",
   "metadata": {
    "#solution": false,
    "#staff": false,
    "#student": false
   },
   "source": [
    "## Submission Instructions ##\n",
    "\n",
    "Many assignments throughout the course will have a written portion and a code portion. Please follow the directions below to properly submit both portions.\n",
    "\n",
    "### Written Portion ###\n",
    "*  Scan all the pages into a PDF. You can use any scanner or a phone using applications such as CamScanner. Please **DO NOT** simply take pictures using your phone. \n",
    "* Please start a new page for each question. If you have already written multiple questions on the same page, you can crop the image in CamScanner or fold your page over (the old-fashioned way). This helps expedite grading.\n",
    "* It is your responsibility to check that all the work on all the scanned pages is legible.\n",
    "\n",
    "### Code Portion ###\n",
    "* Save your notebook using File > Save and Checkpoint.\n",
    "* Generate a PDF file using File > Download as > PDF via LaTeX. This might take a few seconds and will automatically download a PDF version of this notebook.\n",
    "    * If you have issues, please make a follow-up post on the general HW 5 Ed thread.\n",
    "    \n",
    "### Submitting ###\n",
    "* Combine the PDFs from the written and code portions into one PDF.  [Here](https://smallpdf.com/merge-pdf) is a useful tool for doing so. \n",
    "* Submit the assignment to Homework 5 on Gradescope. \n",
    "* **Make sure to assign each page of your pdf to the correct question.**\n",
    "* **It is your responsibility to verify that all of your work shows up in your final PDF submission.**\n",
    "\n",
    "If you have questions about scanning or uploading your work, please post a follow-up to the [Ed thread](https://edstem.org/us/courses/17989/discussion/1027297) on this topic. "
   ]
  },
  {
   "cell_type": "code",
   "execution_count": null,
   "metadata": {
    "#solution": false,
    "#staff": false,
    "#student": false
   },
   "outputs": [],
   "source": []
  }
 ],
 "metadata": {
  "anaconda-cloud": {},
  "checksums": [
   "929fd61a8cf299f45a1992dae03ad4eb",
   "54d2b808529b8f055694b8ea1e601f78",
   "0350987bcbc0b4e3840dce42e8623734",
   "d46582c54ea972e84f9e35f1e03183fe",
   "640061103a186fd26f59746dd4d6de57",
   "0d0b97f509e0e86bcba0a8668e877fee",
   "640061103a186fd26f59746dd4d6de57",
   "15622e0e06bffdd4d36058b46205d33a",
   "451de352aa1eb3a517b6f4a5a729aad0",
   "d41d8cd98f00b204e9800998ecf8427e"
  ],
  "kernelspec": {
   "display_name": "Python 3 (ipykernel)",
   "language": "python",
   "name": "python3"
  },
  "language_info": {
   "codemirror_mode": {
    "name": "ipython",
    "version": 3
   },
   "file_extension": ".py",
   "mimetype": "text/x-python",
   "name": "python",
   "nbconvert_exporter": "python",
   "pygments_lexer": "ipython3",
   "version": "3.9.10"
  },
  "number_of_pagebreaks": 2
 },
 "nbformat": 4,
 "nbformat_minor": 1
}

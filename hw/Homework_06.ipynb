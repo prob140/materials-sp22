{
 "cells": [
  {
   "cell_type": "markdown",
   "metadata": {},
   "source": [
    "<table align=\"left\" style=\"border-style: hidden\" class=\"table\"> <tr><td class=\"col-md-2\"><img style=\"float\" src=\"../icon.png\" alt=\"Prob140 Logo\" style=\"width: 120px;\"/></td><td><div align=\"left\"><h3 style=\"margin-top: 0;\">Probability for Data Science</h3><h4 style=\"margin-top: 20px;\">UC Berkeley, Spring 2022</h4><p>Ani Adhikari</p>CC BY-NC 4.0</div></td></tr></table><!-- not in pdf -->\n",
    "\n",
    "This content is protected and may not be shared, uploaded, or distributed."
   ]
  },
  {
   "cell_type": "markdown",
   "metadata": {},
   "source": [
    "# Homework 6"
   ]
  },
  {
   "cell_type": "markdown",
   "metadata": {},
   "source": [
    "### Instructions\n",
    "\n",
    "This homework set consists of past midterm problems. It only involves written work; there is no code on the midterm.\n",
    "\n",
    "### Recommendations ###\n",
    "\n",
    "- Problems 1-6 are taken from midterms whose scope, exam conditions, and amount of time per question were different than on your midterm. I've picked problems that are not near-clones of what you've already done in homework etc this term. Use these for practice, but expect that the lengths of the problems on your midterm will be more like Problems 7-12.\n",
    "- **Don't start Problems 7-12 early.** Those were the problems my most recent on-paper in-class 75 minute midterm just like yours. Use these as an opportunity to assess your preparation for the upcoming midterm. First complete the bulk of your review for the exam, and do 1-6. **After that, set aside all course materials, find a place where you can work on your own, and give yourself 75 minutes to do the problems.** The problems that you are not able to do in that time will give you an indication of where you need to focus the remaining portion of your review."
   ]
  },
  {
   "cell_type": "markdown",
   "metadata": {},
   "source": [
    "## 1. ##\n",
    "\n",
    "In a population of households, 20% of the households consist of one person, 40% consist of two people, 25\\% consist of three people, 10% consist of four people, and 5% consist of more than four people. Suppose a sample of $n$ households is drawn at random with replacement.\n",
    "\n",
    "**(a)** Find the chance that every household in the sample has more than two people.\n",
    "\n",
    "**(b)** Let $X$ be the smallest household size among the sampled households. Find $P(X > 4 \\mid X > 2)$."
   ]
  },
  {
   "cell_type": "markdown",
   "metadata": {},
   "source": [
    "#newpage"
   ]
  },
  {
   "cell_type": "markdown",
   "metadata": {},
   "source": [
    "## 2. ##\n",
    "\n",
    "Let $X_0, X_1, X_2, \\ldots$ be a Markov chain with the following transition diagram. In each part, find the quantity if possible. If it is not possible, explain why not.\n",
    "\n",
    "![transition diagram](hw06_graph3.png)\n",
    "\n",
    "**(a)** the long run expected proportion of times $n$ for which $X_n = 1$\n",
    "\n",
    "**(b)** the long run expected proportion of time the chain moves to the left (that is, times $n$ such that $X_{n+1} = X_n - 1$)"
   ]
  },
  {
   "cell_type": "markdown",
   "metadata": {},
   "source": [
    "#newpage"
   ]
  },
  {
   "cell_type": "markdown",
   "metadata": {},
   "source": [
    "## 3. ##\n",
    "\n",
    "A student is asking a Prob 140 GSI about the following exercise.\n",
    "\n",
    "\"In a population of $v = u+d$ voters, $u$ are undecided but the remaining $d$ voters have decided how they will vote. If a simple random sample of 20 voters is taken, what is the chance that there are at least 5 undecided voters and at least 10 who have decided? You can assume that both $u$ and $d$ are greater than 20.\"\n",
    "\n",
    "The student shows the GSI the following answer and asks if it is right.\n",
    "\n",
    "$$\n",
    "\\frac{\\sum_{k=5}^{20}\\binom{u}{k}\\binom{d}{20-k}}{\\binom{v}{20}}\\cdot\\frac{\\sum_{k=10}^{20}\\binom{d}{k}\\binom{u}{20-k}}{\\binom{v}{20}}\n",
    "$$\n",
    "\n",
    "- If the answer is right, explain the reasoning in detail, including all uses of distributions and the rules of probability.\n",
    "- If the answer is wrong, provide the right answer. Also say whether the student's answer is an overestimate or an underestimate, and provide an intuitive explanation."
   ]
  },
  {
   "cell_type": "markdown",
   "metadata": {},
   "source": [
    "#newpage"
   ]
  },
  {
   "cell_type": "markdown",
   "metadata": {},
   "source": [
    "## 4. ##\n",
    "In a large population of voters, each voter is in exactly one of three parties. 40\\% of the voters are from Party A, 45\\% are from Party B, and the remaining 15\\% are from Party C. A sample of size $n$ is drawn at random with replacement from the population.\n",
    "\n",
    "**(a)** Find the chance that all the sampled people are from the same party.\n",
    "\n",
    "**((b)** Let $D$ be the number of distinct parties among the sampled people. Find the distribution of $D$."
   ]
  },
  {
   "cell_type": "markdown",
   "metadata": {},
   "source": [
    "#newpage"
   ]
  },
  {
   "cell_type": "markdown",
   "metadata": {},
   "source": [
    "## 5. ##\n",
    "\n",
    "A gambler makes 100 bets. For each bet that she wins, she gets $\\$4$. For each bet\n",
    "that she loses, she pays $\\$1$.\n",
    "\n",
    "- Let $W$ be the number of bets the gambler wins. Suppose $E(W) = 20$ and $SD(W) = 3$.\n",
    "- Let $G$ be the gambler's net gain in all 100 bets.\n",
    "\n",
    "**(a)** Write $G$ as a function of $W$.\n",
    "\n",
    "**(b)** Find an exact value, or an approximate value, or upper and lower bounds for\n",
    "$P(G \\ge \\$30)$. Provide the best answer you can based on the information given."
   ]
  },
  {
   "cell_type": "markdown",
   "metadata": {},
   "source": [
    "#newpage"
   ]
  },
  {
   "cell_type": "markdown",
   "metadata": {},
   "source": [
    "## 6. ##\n",
    "\n",
    "A fair die that has 1 blue face, 2 red faces, and 3 green faces is rolled repeatedly. Find the expected number of rolls till two different colors have appeared."
   ]
  },
  {
   "cell_type": "markdown",
   "metadata": {},
   "source": [
    "#newpage"
   ]
  },
  {
   "cell_type": "markdown",
   "metadata": {},
   "source": [
    "## 7. ##\n",
    "\n",
    "The chart below shows results of a survey conducted shortly after the 2016 US Presidential election. The respondents in the bottom bar are those who are in one or both of the top two bars.\n",
    "\n",
    "![barchart](hw06_graph1.png)\n",
    "\n",
    "Suppose one person is picked at random from the survey respondents. Define the following events:\n",
    "\n",
    "- $A$: the person shared a political news story online they later found out was made up\n",
    "- $B$: the person shared a political news story online they knew at the time was made up\n",
    "\n",
    "**(a)** Find $P(AB)$.\n",
    "\n",
    "**(b)** Fill in the blank in the statement $P(A \\mid B) \\underline{~~~~~~~~~~~~} P(A)$ with one of the symbols $<$, $=$, and $>$. Justify your choice by calculating both the probabilities.\n",
    "\n",
    "**(c)** Are $A$ and $B$ independent? Explain based on your calculations in the parts above.\n",
    "\n",
    "**(d)** Find $P(B^cA)$."
   ]
  },
  {
   "cell_type": "markdown",
   "metadata": {},
   "source": [
    "#newpage"
   ]
  },
  {
   "cell_type": "markdown",
   "metadata": {},
   "source": [
    "## 8. ##\n",
    "A box contains $2n$ chocolates that are of two different kinds: $n$ of them are filled with butterscotch (B) and the other $n$ with raspberry (R).\n",
    "\n",
    "Chocolates are drawn one by one at random without replacement until only one kind of chocolate is left in the box. Let $D$ be the number of draws. \n",
    "\n",
    "For example, if $n=3$, one possible sequence is $BBRB$ with $D=4$. If $n=4$ the sequence could be $BRBRRBR$ with $D=7$. \n",
    "\n",
    "**(a)** For $n > 0$, what are the possible values of $D$?\n",
    "\n",
    "**(b)** Find the distribution of $D$. Please don't leave ambiguities like \"$\\ldots$\" or \"and so on\" in your answer. Write a precise mathematical formula or provide (with justification) the name and parameters of one of the famous distributions.\n"
   ]
  },
  {
   "cell_type": "markdown",
   "metadata": {},
   "source": [
    "#newpage"
   ]
  },
  {
   "cell_type": "markdown",
   "metadata": {},
   "source": [
    "## 9. ##\n",
    "A classroom has three doors. Let $N$ be the total number of students who enter the classroom. Let $N_A$ be the number of students who enter through Door A, $N_B$ the number who enter through Door B, and $N_C$ the number who enter through Door C, so that $N_A + N_B + N_C = N$.\n",
    "\n",
    "Suppose each student enters through a door picked according to the following distribution, independently of all other students and independently of the value of $N$.\n",
    "\n",
    "|Door A|Door B|Door C|\n",
    "|:----:|:----:|:----:|\n",
    "|0.5  |0.4  |0.1  |\n",
    "\n",
    "\n",
    "**(a)** Suppose $N = 20$ with probability 1. Find $P(N_A = N_B \\mid N_C = 0)$.\n",
    "\n",
    "**(b)** Suppose $N$ has the Poisson $(20)$ distribution. Find $P(N_A = N_B \\le 10 \\mid N_C = 0)$.\n",
    "\n",
    "**(c)** Suppose $N$ has the geometric $(1/20)$ distribution on $\\{1, 2, 3, \\ldots \\}$. Find $E(N_C)$."
   ]
  },
  {
   "cell_type": "markdown",
   "metadata": {},
   "source": [
    "#newpage"
   ]
  },
  {
   "cell_type": "markdown",
   "metadata": {},
   "source": [
    "## 10. ##\n",
    "In an exam hall, one row has 20 seats. The GSI randomly permutes 20 students into those 20 seats.\n",
    "\n",
    "**(a)** Students A and B are among the 20 students in the row. Find the decimal value of the expected number of students sitting between them.\n",
    "\n",
    "**(b)** The 20 students in the row include 7 Data Science majors. Find the expected number of Data Science majors who are not seated next to another Data Science major. You don't have to find the decimal value."
   ]
  },
  {
   "cell_type": "markdown",
   "metadata": {},
   "source": [
    "#newpage"
   ]
  },
  {
   "cell_type": "markdown",
   "metadata": {},
   "source": [
    "## 11. ##\n",
    "Let $X_1, X_2, \\ldots$ be independent random variables. Fix $p$ in the interval $(0, 1)$, and for $n \\ge 1$ let $X_n$ have the geometric $(\\frac{p}{n})$ distribution on $\\{1, 2, 3, \\ldots \\}$.\n",
    "\n",
    "In what follows, remember that if you have infinite sums in your answers then you must simplify them.\n",
    "\n",
    "**(a)** For $k \\ge 1$ write $P(X_1 > k)$ in terms of $p$ and $k$.\n",
    "\n",
    "**(b)** Find $P(X_1 > X_2)$.\n",
    "\n",
    "**(c)** Find an exponential approximation to $P(X_n > n)$ for large $n$."
   ]
  },
  {
   "cell_type": "markdown",
   "metadata": {},
   "source": [
    "#newpage"
   ]
  },
  {
   "cell_type": "markdown",
   "metadata": {},
   "source": [
    "## 12. ##\n",
    "\n",
    "A social network consists of a finite set of members. Members $i$ and $j$ are said to be $\\textit{linked}$ if either they are friends or they are \"friends of friends\" which is shown in an example and then formally defined below. \n",
    "\n",
    "![graph](hw06_graph2.png)\n",
    "\n",
    "As an example, here is a social network that has five members A, B, C, D, and E. Friends are any two members that are connected by one line segment. For example, A and B are friends, and C and E are friends. Member A has 3 friends; B, C and D have one friend each; and E has two friends. Members B and C aren't friends but they are linked by the sequence of friends BAEC.\n",
    "\n",
    "Formally, Members $i$ and $j$ are linked if either they are friends or for some $n \\ge 1$ there are members $a_1, a_2, \\ldots, a_n$ such that Members $i$ and $a_1$ are friends, Members $a_1$ and $a_2$ are friends, Members $a_2$ and $a_3$ are friends, and so on, and Members $a_n$ and $j$ are friends.\n",
    "\n",
    "Consider a network of $m$ members. For $1 \\le i \\le m$ let $f_i$ be the number of friends of Member $i$, and assume that $f_a \\ne f_b$ for some members $a$ and $b$. Also assume that every member is linked to every other member.\n",
    "\n",
    "Let $X_0, X_1, X_2, \\ldots$ be a Markov Chain on the set of members, with transitions based on the following proposal scheme. Given that the chain is at Member $i$:\n",
    "\n",
    "- Select a friend uniformly at random from all of Member $i$'s friends.\n",
    "- If the selected friend is Member $j$, then:\n",
    "    - If $f_j \\le f_i$, move to $j$.\n",
    "    - If $f_j > f_i$, toss a coin that lands heads with chance $f_i / f_j$. If it lands heads, move to $j$. If it lands tails, stay at $i$.\n",
    "\n",
    "**(a)** For states $i \\ne j$, find the one-step transition probability $P(i, j) = P(X_1 = j \\mid X_0=i)$.\n",
    "\n",
    "**(b)** Briefly explain why the chain has a steady state distribution, and find that distribution. Identify it as one of the famous ones and provide its name and parameters."
   ]
  },
  {
   "cell_type": "markdown",
   "metadata": {},
   "source": [
    "## Submission Instructions ##\n",
    "\n",
    "Please follow the directions below to properly submit your work.\n",
    "\n",
    "### Written Portion ###\n",
    "*  Scan all the pages into a PDF. You can use any scanner or a phone using applications such as CamScanner. Please **DO NOT** simply take pictures using your phone. \n",
    "* Please start a new page for each question. If you have already written multiple questions on the same page, you can crop the image in CamScanner or fold your page over (the old-fashioned way). This helps expedite grading.\n",
    "* It is your responsibility to check that all the work on all the scanned pages is legible.\n",
    "    \n",
    "### Submitting ###\n",
    "* Combine the PDFs from the written portion into one PDF.  [Here](https://smallpdf.com/merge-pdf) is a useful tool for doing so. \n",
    "* Submit the assignment to Homework 6 on Gradescope. \n",
    "* **Make sure to assign each page of your pdf to the correct question.**\n",
    "* **It is your responsibility to verify that all of your work shows up in your final PDF submission.**\n",
    "\n",
    "If you have questions about scanning or uploading your work, please post a follow-up to the [Ed thread](https://edstem.org/us/courses/17989/discussion/1027297) on this topic. "
   ]
  },
  {
   "cell_type": "code",
   "execution_count": null,
   "metadata": {},
   "outputs": [],
   "source": []
  }
 ],
 "metadata": {
  "kernelspec": {
   "display_name": "Python 3 (ipykernel)",
   "language": "python",
   "name": "python3"
  },
  "language_info": {
   "codemirror_mode": {
    "name": "ipython",
    "version": 3
   },
   "file_extension": ".py",
   "mimetype": "text/x-python",
   "name": "python",
   "nbconvert_exporter": "python",
   "pygments_lexer": "ipython3",
   "version": "3.9.10"
  }
 },
 "nbformat": 4,
 "nbformat_minor": 4
}

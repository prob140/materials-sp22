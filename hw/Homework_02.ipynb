{
 "cells": [
  {
   "cell_type": "markdown",
   "metadata": {
    "#solution": false,
    "#staff": false,
    "#student": false
   },
   "source": [
    "<table align=\"left\" style=\"border-style: hidden\" class=\"table\"> <tr><td class=\"col-md-2\"><img style=\"float\" src=\"http://prob140.org/assets/icon256.png\" alt=\"Prob140 Logo\" style=\"width: 120px;\"/></td><td><div align=\"left\"><h3 style=\"margin-top: 0;\">Probability for Data Science</h3><h4 style=\"margin-top: 20px;\">UC Berkeley, Spring 2022</h4><p>Ani Adhikari</p>CC BY-NC 4.0</div></td></tr></table><!-- not in pdf -->\n",
    "\n",
    "This content is protected and may not be shared, uploaded, or distributed."
   ]
  },
  {
   "cell_type": "code",
   "execution_count": null,
   "metadata": {
    "#solution": false,
    "#staff": false,
    "#student": false
   },
   "outputs": [],
   "source": [
    "import warnings\n",
    "warnings.filterwarnings('ignore')\n",
    "\n",
    "from datascience import *\n",
    "from prob140 import *\n",
    "%matplotlib inline\n",
    "import matplotlib.pyplot as plt\n",
    "plt.style.use('fivethirtyeight')\n",
    "import numpy as np\n",
    "from scipy import stats\n",
    "from scipy import special"
   ]
  },
  {
   "cell_type": "markdown",
   "metadata": {
    "#solution": false,
    "#staff": false,
    "#student": false
   },
   "source": [
    "# Homework 2 #"
   ]
  },
  {
   "cell_type": "markdown",
   "metadata": {
    "#solution": false,
    "#staff": false,
    "#student": false
   },
   "source": [
    "### Instructions\n",
    "\n",
    "Your homeworks have two components: a written portion and a portion that also involves code.  Written work should be completed on paper, and coding questions should be done in the notebook.  You are welcome to LaTeX your answers to the written portions, but staff will not be able to assist you with LaTeX related issues. It is your responsibility to ensure that both components of the homework are submitted completely and properly to Gradescope. Refer to the bottom of the notebook for submission instructions."
   ]
  },
  {
   "cell_type": "markdown",
   "metadata": {
    "#solution": false,
    "#staff": false,
    "#student": false
   },
   "source": [
    "## 1. Breakout Rooms ##\n",
    "\n",
    "Among 24 students in a Zoom meeting, there are six each of freshmen, sophomores, juniors, and seniors. The 24 students are split at random into four breakout rooms of six students each.\n",
    "\n",
    "**a)** What is the distribution of the number of freshmen in Breakout Room 1? **Why?**\n",
    "\n",
    "**b)** What is the joint distribution of the numbers of freshmen in Breakout Rooms 1 and 4? **Why?**\n",
    "\n",
    "[Note: You don't have to write out a joint distribution table. A more compact way is to provide a formula. Remember to specify the possible values appropriately.]\n",
    "\n",
    "**c)** What is the chance that in at least one of the breakout rooms all the students are in the same year? **Explain your calculation.**"
   ]
  },
  {
   "cell_type": "markdown",
   "metadata": {
    "#solution": false,
    "#staff": false,
    "#student": false
   },
   "source": [
    "#newpage"
   ]
  },
  {
   "cell_type": "markdown",
   "metadata": {
    "#solution": false,
    "#staff": false,
    "#student": false
   },
   "source": [
    "## 2. Exact Value or Bound ##\n",
    "In each part below, find the exact value of the probability if it is possible to do so with the information given. If it is not possible, provide the best lower and upper bounds you can. **Explain your choices.**\n",
    "\n",
    "**a)** the chance that at least one of 10 flights at an airport is late, if each flight at the airport has a 1% chance of being late\n",
    "\n",
    "**b)** the chance that not all suits appear in a bridge hand of 13 cards dealt at random without replacement from a standard deck \n",
    "\n",
    "[A standard deck consists of 13 cards in each of 4 suits, making 52 cards in all.]\n",
    "\n",
    "**c)** the chance that all $s$ office hours slots are selected, if each of $g$ GSIs selects one of the $s$ slots at random without being influenced by the choices of others\n",
    "\n",
    "**d)** the chance that it rains every day next week if the daily chances of rain are given by\n",
    "\n",
    "|Sun|Mon|Tue|Wed|Thu|Fri|Sat|\n",
    "|-|-|-|-|-|-|-|\n",
    "|$$0.9$$|$$0.95$$|$$0.95$$|$$0.9$$|$$0.9$$|$$0.85$$|$$0.8$$|"
   ]
  },
  {
   "cell_type": "markdown",
   "metadata": {
    "#solution": false,
    "#staff": false,
    "#student": false
   },
   "source": [
    "#newpage"
   ]
  },
  {
   "cell_type": "markdown",
   "metadata": {
    "#solution": false,
    "#staff": false,
    "#student": false
   },
   "source": [
    "## 3. Counting Categories ##\n",
    "In each part below, remember to **explain your answer. Don't just write down a formula.** You don't have to provide decimal answers. \n",
    "\n",
    "**Note:** See the video right at the bottom of [Section 5.4](http://prob140.org/textbook/content/Chapter_05/04_Sampling_Without_Replacement.html) (below the last Quick Check) for an effective approach.\n",
    "\n",
    "A population consists of 6 individuals in each of 4 categories $A$, $B$, $C$, and $D$. A simple random sample of 12 individuals is chosen from the population.\n",
    "\n",
    "**a)** Find the chance that the sample contains equal numbers of individuals in the four categories.\n",
    "\n",
    "**b)** Find the chance that the sample contains 5 individuals in one category, 4 in another, 2 in a third, and 1 in the remaining category.\n",
    "\n",
    "**c)** Find the chance that the sample contains 4 individuals in each of two categories, 3 individuals in another, and 1 in the remaining category.\n",
    "\n",
    "**d)** Find the chance that the sample contains all 6 individuals in one category and equal numbers in the other three.\n"
   ]
  },
  {
   "cell_type": "markdown",
   "metadata": {
    "#solution": false,
    "#staff": false,
    "#student": false
   },
   "source": [
    "#newpage"
   ]
  },
  {
   "cell_type": "markdown",
   "metadata": {
    "#solution": false,
    "#staff": false,
    "#student": false
   },
   "source": [
    "## 4. College Degrees\n",
    "\n",
    "In the U.S., 38% of adults aged 25 and over have a four-year college degree.\n",
    "\n",
    "In each part below, write a math expression for the chance and provide a brief justification. Please use the appropriate summation, not \"...\". Then use the appropriate code cell to find the numerical value of the chance, using `stats.binom.pmf`, `stats.binom.cdf`, and arithmetic. See [the textbook](http://prob140.org/textbook/content/Chapter_06/01_Binomial_Distribution.html#binomial-probabilities-in-python) for a reference. The `stats` library of `scipy` has been imported in the top cell of this notebook.\n",
    "\n",
    "In what follows, we will use the term *population* to mean US adults aged 25 and over, and a *successful draw* to mean a draw that results in a person who has a four-year college degree.\n",
    "\n",
    "**a)** Suppose I draw from the population at random with replacement. What is the chance that at least one-third of my first 30 draws are successful?\n",
    "\n",
    "**b)** Suppose I draw from the population at random with replacement, till 10 of my draws are successful. What is the chance that I draw at most 30 times? How is this answer related to the answer in Part **a**?\n",
    "\n",
    "**c)** Suppose my friend and I both draw from the population at random with replacement, independently of each other. Suppose I make 30 draws and my friend makes 20 draws. What is the chance that I get more successful draws than my friend?"
   ]
  },
  {
   "cell_type": "code",
   "execution_count": null,
   "metadata": {
    "#solution": false,
    "#staff": false,
    "#student": true
   },
   "outputs": [],
   "source": [
    "\n",
    "# Answer to 4a (you can use more than one line of code)\n",
    "..."
   ]
  },
  {
   "cell_type": "code",
   "execution_count": null,
   "metadata": {
    "#solution": false,
    "#staff": false,
    "#student": true
   },
   "outputs": [],
   "source": [
    "\n",
    "# Answer to 4b (you can use more than one line of code)\n",
    "..."
   ]
  },
  {
   "cell_type": "code",
   "execution_count": null,
   "metadata": {
    "#solution": false,
    "#staff": false,
    "#student": true
   },
   "outputs": [],
   "source": [
    "\n",
    "# Answer to 4c (you can use more than one line of code)\n",
    "..."
   ]
  },
  {
   "cell_type": "markdown",
   "metadata": {
    "#solution": false,
    "#staff": false,
    "#student": false
   },
   "source": [
    "#newpage"
   ]
  },
  {
   "cell_type": "markdown",
   "metadata": {
    "#solution": false,
    "#staff": false,
    "#student": false
   },
   "source": [
    "## 5. Poisson Approximation at Both Ends ##\n",
    "Consider $n$ independent Bernoulli $(p)$ trials.\n",
    "\n",
    "**a)** Fill in the blanks with names of distributions along with parameters in parentheses: If $n = 1000$ and $p=0.003$, the distribution of the number of successes is exactly $\\underline{~~~~~~~~~~~~~~~~~~~~~~~~~~~}$ $(\\underline{~~~~~~~~~~~~ })$ and approximately $\\underline{~~~~~~~~~~~~~~~~~~~~~~ }$ $(\\underline{~~~~~~~~~~~~ })$.\n",
    "\n",
    "**b)** Let $n$ be large and let $p$ be close to 1. Find a Poisson approximation to $p_k$ (the chance of $k$ successes) by an appropriate use of the Poisson approximation to the binomial derived in the textbook. \n",
    "\n",
    "**Note:** Don't try to derive a new limit from scratch. Just use the limit already derived in the textbook, but appropriately.\n",
    "\n",
    "**c)** Plot the probability histogram of the binomial (1000, 0.997) distribution, and overlay your Poisson approximation from part (b). For computing Poisson probabilities, see the [textbook](http://prob140.org/textbook/content/Chapter_06/06_Law_of_Small_Numbers.html#poisson-probabilities-in-python). Please don't plot the entire range of the binomial. Choose an informative range of values on the horizontal axis."
   ]
  },
  {
   "cell_type": "code",
   "execution_count": null,
   "metadata": {
    "#solution": false,
    "#staff": false,
    "#student": true
   },
   "outputs": [],
   "source": [
    "# Answer to 5c\n",
    "\n",
    "n = 1000\n",
    "p = 0.997\n",
    "\n",
    "k = ...                # array of possible values\n",
    "binomial_probs = ...   # array of exact binomial probabilities\n",
    "\n",
    "def poisson_approximation_pmf(j):\n",
    "    \"\"\"Returns the Poisson approximation to the\n",
    "    exact binomial probability of j successes\"\"\"\n",
    "    return ...\n",
    "\n",
    "exact_binomial = Table().values(k).probabilities(...)\n",
    "poisson_approximation = Table().values(k).probability_function(...)\n",
    "\n",
    "Plots(...)\n",
    "plt.xlim(..., ...)"
   ]
  },
  {
   "cell_type": "markdown",
   "metadata": {
    "#solution": false,
    "#staff": false,
    "#student": false
   },
   "source": [
    "#newpage"
   ]
  },
  {
   "cell_type": "markdown",
   "metadata": {
    "#solution": false,
    "#staff": false,
    "#student": false
   },
   "source": [
    "## 6. Related Distribution Families ##\n",
    "\n",
    "As you have seen, the binomial distribution is closely related to the hypergeometric and Poisson distributions. Here are two more connections.\n",
    "\n",
    "**Note:** Both of the connections arise via conditioning. For an example of how to go about finding the conditional distribution of one random variable given the value of another, study the steps in [Section 6.2.3](http://prob140.org/textbook/content/Chapter_06/02_Examples.html#conditional-distribution-of-the-trial-that-results-in-the-first-success) of the textbook.  \n",
    "\n",
    "**a)** Let $1 \\le n < m$ be integers. Consider $m$ i.i.d. Bernoulli trials with probability of $p$ of success on each trial. Let $X$ be the number of successes in the first $n$ trials and let $S$ be the number of successes in all $m$ trials. \n",
    "\n",
    "For a fixed integer $s$, find the conditional distribution of $X$ given $S=s$. Identify it as one of the famous ones and provide the parameters in terms of $m$, $n$, and $s$.\n",
    "\n",
    "**b)** Let $X$ and $Y$ be independent random variables such that $X$ has the Poisson $(\\mu)$ distribution and $Y$ has the Poisson $(\\lambda)$ distribution. \n",
    "\n",
    "For a fixed integer $n$, find the conditional distribution of $X$ given  $X+Y = n$. Identify it as one of the famous ones and provide the parameters in terms of $n$, $\\mu$, and $\\lambda$."
   ]
  },
  {
   "cell_type": "markdown",
   "metadata": {
    "#solution": false,
    "#staff": false,
    "#student": false
   },
   "source": [
    "## Submission Instructions ##\n",
    "\n",
    "Many assignments throughout the course will have a written portion and a code portion. Please follow the directions below to properly submit both portions.\n",
    "\n",
    "### Written Portion ###\n",
    "*  Scan all the pages into a PDF. You can use any scanner or a phone using applications such as CamScanner. Please **DO NOT** simply take pictures using your phone. \n",
    "* Please start a new page for each question. If you have already written multiple questions on the same page, you can crop the image in CamScanner or fold your page over (the old-fashioned way). This helps expedite grading.\n",
    "* It is your responsibility to check that all the work on all the scanned pages is legible.\n",
    "\n",
    "### Code Portion ###\n",
    "* Save your notebook using File > Save and Checkpoint.\n",
    "* Generate a PDF file using File > Download as > PDF via LaTeX. This might take a few seconds and will automatically download a PDF version of this notebook.\n",
    "    * If you have issues, please make a follow-up post on the general HW 2 Ed thread.\n",
    "    \n",
    "### Submitting ###\n",
    "* Combine the PDFs from the written and code portions into one PDF.  [Here](https://smallpdf.com/merge-pdf) is a useful tool for doing so. \n",
    "* Submit the assignment to Homework 2 on Gradescope. \n",
    "* **Make sure to assign each page of your pdf to the correct question.**\n",
    "* **It is your responsibility to verify that all of your work shows up in your final PDF submission.**\n",
    "\n",
    "If you have questions about scanning or uploading your work, please post a follow-up to the [Ed thread](https://edstem.org/us/courses/17989/discussion/1027297) on this topic. "
   ]
  },
  {
   "cell_type": "code",
   "execution_count": null,
   "metadata": {
    "#solution": false,
    "#staff": false,
    "#student": false
   },
   "outputs": [],
   "source": []
  }
 ],
 "metadata": {
  "checksums": [
   "54ca2a2e45ee78e30bc54b6c9684497a",
   "2ce4f3ce2f1b8377038d711892e9e81b",
   "b33297e1eff1902e80bcc722d659baa9",
   "617e9d925b5fe2cd6a35fdd67bbdf752",
   "ca5be8dbec880c149818e300057425dc",
   "640061103a186fd26f59746dd4d6de57",
   "241789d69db3aef24ce30155e93b999a",
   "640061103a186fd26f59746dd4d6de57",
   "3abf38f58772e0ea60c567290ded463f",
   "640061103a186fd26f59746dd4d6de57",
   "b522f7d00cd32fd6eb541408795b6dd0",
   "0f2b27406ee9ac794d6f282badd96042",
   "96b903a7b838135b9f31cc878e6507c0",
   "8c040fb7ca7b470da5740b3b5eba9458",
   "640061103a186fd26f59746dd4d6de57",
   "38a5e9e919e723908f443c8b10c96d21",
   "1aa32aea432ae498bb5e4bbd01abe8a0",
   "640061103a186fd26f59746dd4d6de57",
   "87e803ac74e9b4f01f3f0653543a8bb6",
   "66d14b64c8e13eae3a374669c6fbb81a",
   "d41d8cd98f00b204e9800998ecf8427e"
  ],
  "kernelspec": {
   "display_name": "Python 3 (ipykernel)",
   "language": "python",
   "name": "python3"
  },
  "language_info": {
   "codemirror_mode": {
    "name": "ipython",
    "version": 3
   },
   "file_extension": ".py",
   "mimetype": "text/x-python",
   "name": "python",
   "nbconvert_exporter": "python",
   "pygments_lexer": "ipython3",
   "version": "3.9.9"
  },
  "number_of_pagebreaks": 5
 },
 "nbformat": 4,
 "nbformat_minor": 4
}

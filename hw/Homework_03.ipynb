{
 "cells": [
  {
   "cell_type": "markdown",
   "metadata": {
    "#solution": false,
    "#staff": false,
    "#student": false
   },
   "source": [
    "<table align=\"left\" style=\"border-style: hidden\" class=\"table\"> <tr><td class=\"col-md-2\"><img style=\"float\" src=\"../icon.png\" alt=\"Prob140 Logo\" style=\"width: 120px;\"/></td><td><div align=\"left\"><h3 style=\"margin-top: 0;\">Probability for Data Science</h3><h4 style=\"margin-top: 20px;\">UC Berkeley, Spring 2022</h4><p>Ani Adhikari</p>CC BY-NC-SA 4.0</div></td></tr></table><!-- not in pdf -->\n",
    "\n",
    "This content is protected and may not be shared, uploaded, or distributed."
   ]
  },
  {
   "cell_type": "code",
   "execution_count": null,
   "metadata": {
    "#solution": false,
    "#staff": false,
    "#student": false
   },
   "outputs": [],
   "source": [
    "import warnings\n",
    "warnings.filterwarnings('ignore')\n",
    "\n",
    "from prob140 import *\n",
    "from datascience import *\n",
    "import numpy as np\n",
    "from scipy import stats\n",
    "\n",
    "import matplotlib.pyplot as plt\n",
    "%matplotlib inline\n",
    "import matplotlib\n",
    "matplotlib.style.use('fivethirtyeight')"
   ]
  },
  {
   "cell_type": "markdown",
   "metadata": {
    "#solution": false,
    "#staff": false,
    "#student": false
   },
   "source": [
    "# Homework 3 #"
   ]
  },
  {
   "cell_type": "markdown",
   "metadata": {
    "#solution": false,
    "#staff": false,
    "#student": false
   },
   "source": [
    "### Instructions\n",
    "\n",
    "Your homeworks have two components: a written portion and a portion that also involves code.  Written work should be completed on paper, and coding questions should be done in the notebook.  You are welcome to LaTeX your answers to the written portions, but staff will not be able to assist you with LaTeX related issues. It is your responsibility to ensure that both components of the homework are submitted completely and properly to Gradescope. Refer to the bottom of the notebook for submission instructions."
   ]
  },
  {
   "cell_type": "markdown",
   "metadata": {
    "#solution": false,
    "#staff": false,
    "#student": false
   },
   "source": [
    "## Code Resources\n",
    "\n",
    "* [`Data 8` Code Reference](http://data8.org/sp22/python-reference.html)\n",
    "* [`Data 140` Code Reference](http://prob140.org/assets/final_reference_code_fa18.pdf)"
   ]
  },
  {
   "cell_type": "markdown",
   "metadata": {
    "#solution": false,
    "#staff": false,
    "#student": false
   },
   "source": [
    "## 1. Poissonization\n",
    "The math of Poissonization works out beautifully but the process can seem abstract. In this exercise you will carry out the Poissonization process to help make the results more concrete. \n",
    "\n",
    "**a) Fixed Number of Rolls.** Let's start with a more familiar setting. Suppose you roll a die 12 times. Let $X_1$ be the number of times the face with one spot appears. Complete the cell below to plot the distribution of $X_1$. In the last line, enter the name of the distribution and the parameters. [Section 6.6](http://prob140.org/textbook/content/Chapter_06/06_Law_of_Small_Numbers.html#poisson-probabilities-in-python) contains relevant examples of code."
   ]
  },
  {
   "cell_type": "code",
   "execution_count": null,
   "metadata": {
    "#solution": false,
    "#staff": false,
    "#student": true
   },
   "outputs": [],
   "source": [
    "\n",
    "k = np.arange(12)\n",
    "dist_X1_probs = ...\n",
    "dist_X1 = Table().values(k).probabilities(dist_X1_probs)\n",
    "Plot(dist_X1)\n",
    "plt.title('... (...) Distribution');"
   ]
  },
  {
   "cell_type": "markdown",
   "metadata": {
    "#solution": false,
    "#staff": false,
    "#student": false
   },
   "source": [
    "**b) Poisson Number of Rolls.** Now begin a simulation study of Poissonization. First, here are some computational notes.\n",
    "\n",
    "**Poisson:** To simulate a Poisson (`mu`) random variable once, use `stats.poisson.rvs` as in the cell below. You can also just enter the numerical value of `mu` directly in the argument. Run the cell a few times to see how the output changes. Ctrl-Return works well for this."
   ]
  },
  {
   "cell_type": "code",
   "execution_count": null,
   "metadata": {
    "#solution": false,
    "#staff": false,
    "#student": false
   },
   "outputs": [],
   "source": [
    "mu = 5\n",
    "stats.poisson.rvs(mu)"
   ]
  },
  {
   "cell_type": "markdown",
   "metadata": {
    "#solution": false,
    "#staff": false,
    "#student": false
   },
   "source": [
    "If you want to generate `n` independent copies of a Poisson (`mu`) random variable, use the `size` argument:"
   ]
  },
  {
   "cell_type": "code",
   "execution_count": null,
   "metadata": {
    "#solution": false,
    "#staff": false,
    "#student": false
   },
   "outputs": [],
   "source": [
    "n = 10\n",
    "stats.poisson.rvs(mu, size=n)"
   ]
  },
  {
   "cell_type": "markdown",
   "metadata": {
    "#solution": false,
    "#staff": false,
    "#student": false
   },
   "source": [
    "**Multinomial:** You can use `np.random.multinomial` to simulate the counts in all the categories in multinomial trials. As an example, suppose you want to simulate 50 independent and identically distributed trials such that the result of each one is red with chance 30%, green with chance 60%, and orange with chance 10%. \n",
    "\n",
    "The first argument is the number of trials. The second argument can be an array or a list of the probabilities of the categories on a single trial."
   ]
  },
  {
   "cell_type": "code",
   "execution_count": null,
   "metadata": {
    "#solution": false,
    "#staff": false,
    "#student": false
   },
   "outputs": [],
   "source": [
    "np.random.multinomial(50, [0.3, 0.6, 0.1])"
   ]
  },
  {
   "cell_type": "markdown",
   "metadata": {
    "#solution": false,
    "#staff": false,
    "#student": false
   },
   "source": [
    "The output is an array of the simulated counts in the three categories in the order in which the probabilities were specified (in this case, \"red, green, orange\"). The sum of the counts equals the first argument.\n",
    "\n",
    "Data 8 note: The `datascience` library method [`sample_proportions`](https://inferentialthinking.com/chapters/11/2/Multiple_Categories.html#comparison-with-panels-selected-at-random) is based on `np.random.multinomial`."
   ]
  },
  {
   "cell_type": "markdown",
   "metadata": {
    "#solution": false,
    "#staff": false,
    "#student": false
   },
   "source": [
    "**Appending Rows:** To augment a table with a row, use `tbl.append`. Unlike the `Table` methods commonly used in Data 8, `tbl.append` modifies `tbl`; it does not create a copy of it. This method was used in Step 4 of the [Monty Hall simulation](https://inferentialthinking.com/chapters/09/4/Monty_Hall_Problem.html#simulation) in Data 8.\n",
    "\n",
    "The cell below starts by creating the column labels and then appending rows."
   ]
  },
  {
   "cell_type": "code",
   "execution_count": null,
   "metadata": {
    "#solution": false,
    "#staff": false,
    "#student": false
   },
   "outputs": [],
   "source": [
    "my_table = Table(['First Column', 'Second Column', 'Third Column'])\n",
    "my_table.append([8, 100, 140])"
   ]
  },
  {
   "cell_type": "code",
   "execution_count": null,
   "metadata": {
    "#solution": false,
    "#staff": false,
    "#student": false
   },
   "outputs": [],
   "source": [
    "my_table"
   ]
  },
  {
   "cell_type": "code",
   "execution_count": null,
   "metadata": {
    "#solution": false,
    "#staff": false,
    "#student": false
   },
   "outputs": [],
   "source": [
    "my_table.append(np.arange(3))"
   ]
  },
  {
   "cell_type": "code",
   "execution_count": null,
   "metadata": {
    "#solution": false,
    "#staff": false,
    "#student": false
   },
   "outputs": [],
   "source": [
    "my_table"
   ]
  },
  {
   "cell_type": "markdown",
   "metadata": {
    "#solution": false,
    "#staff": false,
    "#student": false
   },
   "source": [
    "Now you are ready to Poissonize! Suppose you roll $N$ dice where $N$ has the Poisson $(12)$ distribution. For $1 \\le i \\le 6$, let $N_i$ be the number of times the face with $i$ spots appears. \n",
    "\n",
    "Complete the code cell to simulate the following process independently 100,000 times.\n",
    "\n",
    "- Generate a value of $N$.\n",
    "- Roll a die that many times.\n",
    "- Collect the values of $N_i$ for $1 \\le i \\le 6$.\n",
    "\n",
    "Your simulation should result in a table `counts` that has 100,000 rows. But **please don't start with 100,000 repetitions; just test out the code for 2 repetitions until you're sure it's working.** Then you can change the number of repetitions. The full simulation might take some time to run."
   ]
  },
  {
   "cell_type": "code",
   "execution_count": null,
   "metadata": {
    "#solution": false,
    "#staff": false,
    "#student": true
   },
   "outputs": [],
   "source": [
    "\n",
    "# Array or list of the probabilities of the six faces\n",
    "fair_die_probs = ...\n",
    "\n",
    "# Optional line in case you want to generate all the values of N at once; delete if not used\n",
    "...\n",
    "\n",
    "counts = Table(['N', 'N1', 'N2', 'N3', 'N4', 'N5', 'N6'])\n",
    "\n",
    "for ...:\n",
    "    ... # Use as many lines as you need or none\n",
    "    counts.append(np.append(...))\n",
    "    \n",
    "counts.show(5)"
   ]
  },
  {
   "cell_type": "markdown",
   "metadata": {
    "#solution": false,
    "#staff": false,
    "#student": false
   },
   "source": [
    "**c) Poissonization: The Number of Rolls.** Complete the two cells below to confirm that your simulated $N$ has the right distribution. We have restricted the range of possible values, for reasons that will be clear from the graphs. Refer to [Section 6.6](http://prob140.org/textbook/content/Chapter_06/06_Law_of_Small_Numbers.html#poisson-probabilities-in-python) for code examples relevant for the first cell."
   ]
  },
  {
   "cell_type": "code",
   "execution_count": null,
   "metadata": {
    "#solution": false,
    "#staff": false,
    "#student": true
   },
   "outputs": [],
   "source": [
    "\n",
    "# Probability distribution of N\n",
    "j = np.arange(36)\n",
    "dist_N_probs = ...\n",
    "dist_N = ...\n",
    "Plot(...)\n",
    "plt.title('Poisson (12) Distribution');"
   ]
  },
  {
   "cell_type": "code",
   "execution_count": null,
   "metadata": {
    "#solution": false,
    "#staff": false,
    "#student": true
   },
   "outputs": [],
   "source": [
    "\n",
    "# Empirical distribution of N\n",
    "counts...(..., bins=np.arange(-0.5, 36.6, 1))\n",
    "plt.title('Empirical Distribution of N');"
   ]
  },
  {
   "cell_type": "markdown",
   "metadata": {
    "#solution": false,
    "#staff": false,
    "#student": false
   },
   "source": [
    "**d) Poissonization: The Marginals.** Run the cell below to display the empirical distribution of each $N_i$."
   ]
  },
  {
   "cell_type": "code",
   "execution_count": null,
   "metadata": {
    "#solution": false,
    "#staff": false,
    "#student": false
   },
   "outputs": [],
   "source": [
    "counts.drop('N').hist(bins = np.arange(-0.5, 12.6, 1), overlay=False)"
   ]
  },
  {
   "cell_type": "markdown",
   "metadata": {
    "#solution": false,
    "#staff": false,
    "#student": false
   },
   "source": [
    "Not surprisingly, they resemble each other. Do they also look the same as the distribution you plotted in Part **a**? If not, what should each distribution be? Answer this question by completing the cell below. It's fine to just copy the code from Part **a** if that distribution is valid."
   ]
  },
  {
   "cell_type": "code",
   "execution_count": null,
   "metadata": {
    "#solution": false,
    "#staff": false,
    "#student": true
   },
   "outputs": [],
   "source": [
    "\n",
    "# Probability distribution of each N_i (same for all i)\n",
    "k = np.arange(12)\n",
    "dist_Ni_probs = ...\n",
    "... # Use as many lines as you need\n",
    "plt.title('... (...) Distribution');"
   ]
  },
  {
   "cell_type": "markdown",
   "metadata": {
    "#solution": false,
    "#staff": false,
    "#student": false
   },
   "source": [
    "**e) Poissonization: A Conditional Distribution.** What is the conditional distribution of $N_2$ given $N_1 < 4$? \n",
    "\n",
    "- First, write the answer based on the theory, with an explanation.\n",
    "- Next, complete the cell below to plot the empirical approximation to this distribution based on your simulations. The plot should be consistent with your answer based on the theory."
   ]
  },
  {
   "cell_type": "code",
   "execution_count": null,
   "metadata": {
    "#solution": false,
    "#staff": false,
    "#student": true
   },
   "outputs": [],
   "source": [
    "\n",
    "counts_restricted = counts...(...) # Applying the condition\n",
    "...(..., bins = np.arange(-0.5, 12.6, 1))\n",
    "plt.title('Empirical Conditional Distribution of N2 given N1 < 4');"
   ]
  },
  {
   "cell_type": "markdown",
   "metadata": {
    "#solution": false,
    "#staff": false,
    "#student": false
   },
   "source": [
    "## 2. Random Counts\n",
    "\n",
    "**a)** A population has 5 categories of individuals. Each of Categories 1 and 2 contains 35% of the population. Each of the remaining three categories contains 10% of the population. Suppose I pick a sample size according to a Poisson $(50)$ distribution, and then draw that many times at random with replacement from the population. \n",
    "\n",
    "Write a formula for the chance that each category is drawn at least four times. Explain your reasoning, and make sure your formula has no infinite sums. Computers can't do those.\n",
    "\n",
    "Then use the code cell below to write an expression (just one line of code) that evaluates to the numerical value of the answer."
   ]
  },
  {
   "cell_type": "code",
   "execution_count": null,
   "metadata": {
    "#solution": false,
    "#staff": false,
    "#student": true
   },
   "outputs": [],
   "source": [
    "\n",
    "#Answer to 2a\n",
    "..."
   ]
  },
  {
   "cell_type": "markdown",
   "metadata": {
    "#solution": false,
    "#staff": false,
    "#student": false
   },
   "source": [
    "**b)** A factory produces widgets in two stages.\n",
    "\n",
    "- In Stage 1, the number of widgets produced has the Poisson $(\\mu_1)$ distribution. Each of these widgets is good with chance $p_1$ and flawed with chance $1-p_1$, independent of the quality and number of all other widgets.\n",
    "- In Stage 2, all the flawed widgets from Stage 1 are sent back for improvements and re-evaluated. At this stage, each of the previously-flawed widgets is good with chance $p_2$ and still flawed with chance $1-p_2$, independent of the quality and the number of all other widgets.\n",
    "\n",
    "What is the distribution of the total number of good widgets the factory has after the two stages? Explain your answer, with particular attention to the assumptions underlying the results you are using and why those assumptions are satisfied in this situation."
   ]
  },
  {
   "cell_type": "markdown",
   "metadata": {
    "#solution": false,
    "#staff": false,
    "#student": false
   },
   "source": [
    "## 3. Expectation of a Sample Minimum\n",
    "\n",
    "**Highly Recommended:** For both parts below, go back to Homework 1 and see how you worked with sample minima there. That approach will be very useful but in a different way for each part.\n",
    "\n",
    "**a)** For $1 \\le i \\le 5$, let $X_i$ have the geometric $(p_i)$ distribution on $\\{1, 2, 3, ... \\}$. Suppose $X_1, X_2, \\ldots, X_5$ are independent. \n",
    "\n",
    "Let $M = \\min\\{X_i: 1 \\le i \\le 5\\}$. \n",
    "\n",
    "- Find the distribution of $M$. Identify it as one of the famous ones and provide its name and parameters. You are welcome to use the notation $q_i = 1-p_i$.\n",
    "- Hence find the expectation of $M$.\n",
    "\n",
    "**b)** There are 300 students in a probability class. Each student tosses a coin 100 times and notes the number of heads. Let $S$ be the smallest of the 300 numbers noted. \n",
    "\n",
    "- Let $F$ be the cdf of the binomial $(100, 0.5)$ distribution. Write a math formula for $E(S)$ in terms of $F$. Explain your formula.\n",
    "- Complete the code cell below by writing an expression that evaluates to $E(S)$. To write just one expression, use array operations. It helps that if `k` is an array, `stats.norm.cdf(k, 100, 0.5)` evaluates to an array containing the binomial cdf evaluated at each element of `k`."
   ]
  },
  {
   "cell_type": "code",
   "execution_count": null,
   "metadata": {
    "#solution": false,
    "#staff": false,
    "#student": true
   },
   "outputs": [],
   "source": [
    "\n",
    "# Answer to 3b\n",
    "\n",
    "ev_S = ...\n",
    "ev_S"
   ]
  },
  {
   "cell_type": "markdown",
   "metadata": {
    "#solution": false,
    "#staff": false,
    "#student": false
   },
   "source": [
    "## 4. Poisson Moments ##\n",
    "\n",
    "For $k = 1, 2, 3, \\ldots$, the *$k$th moment* of a random variable $X$ is defined as $E(X^k)$. The term comes from physics where the principle of moments is used in finding the center of gravity of a system. Remember that the expectation or first moment $E(X)$ is the center of gravity of the distribution of $X$.\n",
    "\n",
    "Let $X$ have the Poisson $(\\mu)$ distribution. Find the expectations below and prove your answers.\n",
    "\n",
    "**a)** $E(X+1)$\n",
    "\n",
    "**b)** $E(1/(X+1))$ [**Work out** [Section 8.2.4](http://prob140.org/textbook/content/Chapter_08/02_Applying_the_Definition.html#poisson) of the textbook before you start this problem. Do the calculation yourself, don't just read it.]\n",
    "\n",
    "**c)** $E(X^3)$ \n",
    "[**Work out** [Section 8.3.5](http://prob140.org/textbook/content/Chapter_08/03_Expectations_of_Functions.html#e-x-x-1-for-a-poisson-variable-x) and [Section 8.4.2](http://prob140.org/textbook/content/Chapter_08/04_Additivity.html#e-x-2-for-a-poisson-variable-x) of the textbook before you start this problem. Do the calculation yourself, don't just read it.]"
   ]
  },
  {
   "cell_type": "markdown",
   "metadata": {
    "#solution": false,
    "#staff": false,
    "#student": false
   },
   "source": [
    "## Submission Instructions ##\n",
    "\n",
    "Many assignments throughout the course will have a written portion and a code portion. Please follow the directions below to properly submit both portions.\n",
    "\n",
    "### Written Portion ###\n",
    "*  Scan all the pages into a PDF. You can use any scanner or a phone using applications such as CamScanner. Please **DO NOT** simply take pictures using your phone. \n",
    "* Please start a new page for each question. If you have already written multiple questions on the same page, you can crop the image in CamScanner or fold your page over (the old-fashioned way). This helps expedite grading.\n",
    "* It is your responsibility to check that all the work on all the scanned pages is legible.\n",
    "\n",
    "### Code Portion ###\n",
    "* Save your notebook using File > Save and Checkpoint.\n",
    "* Generate a PDF file using File > Download as > PDF via LaTeX. This might take a few seconds and will automatically download a PDF version of this notebook.\n",
    "    * If you have issues, please make a follow-up post on the general HW 3 Ed thread.\n",
    "    \n",
    "### Submitting ###\n",
    "* Combine the PDFs from the written and code portions into one PDF.  [Here](https://smallpdf.com/merge-pdf) is a useful tool for doing so. \n",
    "* Submit the assignment to Homework 3 on Gradescope. \n",
    "* **Make sure to assign each page of your pdf to the correct question.**\n",
    "* **It is your responsibility to verify that all of your work shows up in your final PDF submission.**\n",
    "\n",
    "If you have questions about scanning or uploading your work, please post a follow-up to the [Ed thread](https://edstem.org/us/courses/17989/discussion/1027297) on this topic. "
   ]
  },
  {
   "cell_type": "code",
   "execution_count": null,
   "metadata": {
    "#solution": false,
    "#staff": false,
    "#student": false
   },
   "outputs": [],
   "source": []
  }
 ],
 "metadata": {
  "checksums": [
   "97e9f956129f9a314d929ab9f98d9778",
   "f6b7b3f605ba090e0efd9a26d52136e8",
   "ca466c40003089a428b668a82180c6c6",
   "617e9d925b5fe2cd6a35fdd67bbdf752",
   "e273423e999824eb00dfc66fcbcae563",
   "a1a933e11da32c6506d167e0358068e1",
   "60bb0342b37b601208f9cabe42769136",
   "001037738b4178230d9dddfa457bb68c",
   "e7997b73ec5738eff121da5ae3f68b24",
   "45d6c90266819d7850038dbee1e698fb",
   "e4dfffc623fc57c0a4584fcf07a87deb",
   "10b72ac3c4bb6d65d450ea5b9c55a977",
   "517d5da0f90e7ceca041760e24bb5f91",
   "c606dfed2aec9a3785f8b8f3e20453e2",
   "0793f3d2df6a5388021c93fc011c50ec",
   "8d4d5452890917b929b7b74141c645a0",
   "c8682bde2b3657437c486ab16ba73fd2",
   "53d7345da4abd4ced3d2edda99b4d975",
   "c8682bde2b3657437c486ab16ba73fd2",
   "efd2378779b04a56ddab50196bb8fea3",
   "646f147e9bc1282cb8c8b8472d0c1b0a",
   "2a668a6b5b55f6a160008433a25bc22a",
   "a987e84552c9226468071da02073e619",
   "fc8d69c060f0aea0bd5b0be285b61698",
   "45cd3971678baf8624983a5672530a52",
   "cdcffbb7e72559f46011ca1eec0b141c",
   "653210effabe439d7d7c65ae839cd02a",
   "69ade395d59f1251835c699d06a9e959",
   "a374939f6e628237215221b5e7cf5ac7",
   "9e58ecbe53ec572c33af28383178fd44",
   "6172cfa77fb4d4627a30b59257c399a6",
   "ad30db9626faea1680c8e15e40974f6c",
   "13a0898606e455427898ab2f070b004d",
   "0376c34c9a36c86e4660f770f1bf2eba",
   "8509b3788eb1346d8bca81c8f49e8e7e",
   "1deb9033bf83a0588afd67e73ebdabf4",
   "acbd9e4b95fd898574ba9cfb576c0064",
   "d41d8cd98f00b204e9800998ecf8427e"
  ],
  "kernelspec": {
   "display_name": "Python 3 (ipykernel)",
   "language": "python",
   "name": "python3"
  },
  "language_info": {
   "codemirror_mode": {
    "name": "ipython",
    "version": 3
   },
   "file_extension": ".py",
   "mimetype": "text/x-python",
   "name": "python",
   "nbconvert_exporter": "python",
   "pygments_lexer": "ipython3",
   "version": "3.9.9"
  },
  "number_of_pagebreaks": 0
 },
 "nbformat": 4,
 "nbformat_minor": 4
}

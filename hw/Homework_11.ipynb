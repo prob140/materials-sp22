{
 "cells": [
  {
   "cell_type": "markdown",
   "metadata": {
    "#solution": false,
    "#staff": false,
    "#student": false
   },
   "source": [
    "<table align=\"left\" style=\"border-style: hidden\" class=\"table\"> <tr><td class=\"col-md-2\"><img style=\"float\" src=\"../icon.png\" alt=\"Prob140 Logo\" style=\"width: 120px;\"/></td><td><div align=\"left\"><h3 style=\"margin-top: 0;\">Probability for Data Science</h3><h4 style=\"margin-top: 20px;\">UC Berkeley, Spring 2022</h4><p>Ani Adhikari</p>CC BY-NC 4.0</div></td></tr></table><!-- not in pdf -->\n",
    "\n",
    "This content is protected and may not be shared, uploaded, or distributed."
   ]
  },
  {
   "cell_type": "markdown",
   "metadata": {
    "#solution": false,
    "#staff": false,
    "#student": false
   },
   "source": [
    "# Homework 11"
   ]
  },
  {
   "cell_type": "markdown",
   "metadata": {
    "#solution": false,
    "#staff": false,
    "#student": false
   },
   "source": [
    "### Instructions\n",
    "\n",
    "This homework is entirely written.  Written work should be completed on paper, and coding questions should be done in the notebook.  You are welcome to $\\LaTeX$ your answers to the written portions, but staff will not be able to assist you with $\\LaTeX$ related issues. **Make sure to assign each page of your pdf to the correct question.** Refer to the bottom of the notebook for submission instructions."
   ]
  },
  {
   "cell_type": "markdown",
   "metadata": {
    "#solution": false,
    "#staff": false,
    "#student": false,
    "id": "5yTCafK2CptS",
    "tags": []
   },
   "source": [
    "## 1. MLE of the Exponential Rate ##\n",
    "For $n > 1$, let $X_1, X_2, \\ldots , X_n$ be i.i.d. exponential $(\\lambda )$ variables. \n",
    "\n",
    "**a)** Let $\\hat{\\lambda}_n$ be the maximum likelihood estimate (MLE) of the parameter $\\lambda$. Find $\\hat{\\lambda}_n$ in terms of the sample mean $\\bar{X}_n = \\frac{1}{n} \\sum_{i=1}^n X_i$. The subscript $n$ in $\\bar{X}_n$ is there to remind us that we have the average of $n$ values. It doesn't refer to the $n$th sampled value $X_n$.\n",
    "\n",
    "**b)** Use facts about sums and linear transformations to find the distribution of $\\bar{X}_n$ with little or no calculation. Recognize it as one of the famous ones and provide its name and parameters. Use it to find $E(\\hat{\\lambda}_n)$.\n",
    "\n",
    "**c)** Is $\\hat{\\lambda}_n$ an unbiased estimate of $\\lambda$? If it is biased, does it overestimate on average, or does it underestimate? Is it asymptotically unbiased? That is, does $E(\\hat{\\lambda}_n)$ converge to $\\lambda$ as $n \\to \\infty$?"
   ]
  },
  {
   "cell_type": "markdown",
   "metadata": {
    "#solution": false,
    "#staff": false,
    "#student": false,
    "id": "gzib3IUbCptT"
   },
   "source": [
    "\\newpage"
   ]
  },
  {
   "cell_type": "markdown",
   "metadata": {
    "#solution": false,
    "#staff": false,
    "#student": false
   },
   "source": [
    "## 2. Discrete and Continuous Random Selections ##\n",
    "Fix a positive integer $n$, and let $p$ be strictly between 0 and 1.\n",
    "\n",
    "Suppose Person A picks a number uniformly in the interval $(0, n)$. Let $X$ be the number Person A picks.\n",
    "\n",
    "Suppose that independently of Person A, Person B picks an integer $Y$ according to the binomial $(n, p)$ distribution, for example by using `stats.binom.rvs(n, p, size=1)` or by tossing a $p$-coin $n$ times and recording the number of heads.\n",
    "\n",
    "Find $P(X < Y)$."
   ]
  },
  {
   "cell_type": "markdown",
   "metadata": {
    "#solution": false,
    "#staff": false,
    "#student": false
   },
   "source": [
    "\\newpage"
   ]
  },
  {
   "cell_type": "markdown",
   "metadata": {
    "#solution": false,
    "#staff": false,
    "#student": false,
    "id": "9DieAf3tCptT"
   },
   "source": [
    "## 3. MLE and MAP Estimates ##\n",
    "\n",
    "The coin is tossed 10 times and the resulting sequence is HTTHHHTHTH. In the parts below, we refer to this information as \"the data\".\n",
    "\n",
    "**a)** Under the assumption that the coin lands heads with a fixed unknown probability $p$, find the MLE of $p$ based on the data. \n",
    "\n",
    "**b)** Suppose now that the coin lands heads with a random probability $X$. Let the prior density of $X$ be uniform on the unit interval. Find the MAP estimate of the probability of heads, given the data.\n",
    "\n",
    "**c)** Show that if $r > 1$ and $s > 1$ then the mode of the beta $(r, s)$  distribution is $(r-1)/(r+s-2)$. Remember to ignore multiplicative constants and take the log before maximizing.\n",
    "\n",
    "**d)** Suppose instead that the prior density of $X$ is $f(x) = 4x^3$ if $0 < x < 1$ and $0$ otherwise. Find the MAP estimate of the probability of heads, given the data."
   ]
  },
  {
   "cell_type": "markdown",
   "metadata": {
    "#solution": false,
    "#staff": false,
    "#student": false,
    "id": "QmJypRRDCptU"
   },
   "source": [
    "\\newpage"
   ]
  },
  {
   "cell_type": "markdown",
   "metadata": {
    "#solution": false,
    "#staff": false,
    "#student": false
   },
   "source": [
    "## 4. Waiting for a Random Coin to Land Heads ##\n",
    "Let $X$ be a random proportion. Given $X=p$, let $T$ be the number of tosses till a $p$-coin lands heads.\n",
    "\n",
    "**a)** Let $P(X = 1/10) = 1/4$, $P(X = 1/7) = 1/4$, and $P(X = 1/3) = 1/2$. Find $E(T)$.\n",
    "\n",
    "**b)** Find $E(T)$ if $X$ has the beta $(r, s)$ density for some $r > 1$. Simplify all integrals and Gamma functions in your answer.\n",
    "\n",
    "**c)** Let $X$ have the beta $(r, s)$ density. For fixed $k > 0$, find the posterior density of $X$ given $T = k$. Identify it as one of the famous ones and state its name and parameters."
   ]
  },
  {
   "cell_type": "markdown",
   "metadata": {
    "#solution": false,
    "#staff": false,
    "#student": false
   },
   "source": [
    "## Submission Instructions ##\n",
    "\n",
    "Many assignments throughout the course will have a written portion and a code portion. Please follow the directions below to properly submit both portions.\n",
    "\n",
    "### Written Portion ###\n",
    "*  Scan all the pages into a PDF. You can use any scanner or a phone using applications such as CamScanner. Please **DO NOT** simply take pictures using your phone. \n",
    "* Please start a new page for each question. If you have already written multiple questions on the same page, you can crop the image in CamScanner or fold your page over (the old-fashioned way). This helps expedite grading.\n",
    "* It is your responsibility to check that all the work on all the scanned pages is legible.\n",
    "    \n",
    "### Submitting ###\n",
    "* Submit the assignment to Homework 11 on Gradescope. \n",
    "* **Make sure to assign each page of your pdf to the correct question.**\n",
    "* **It is your responsibility to verify that all of your work shows up in your final PDF submission.**\n",
    "\n",
    "If you have questions about scanning or uploading your work, please post a follow-up to the [Ed thread](https://edstem.org/us/courses/17989/discussion/1027297) on this topic. "
   ]
  }
 ],
 "metadata": {
  "anaconda-cloud": {},
  "checksums": [
   "929fd61a8cf299f45a1992dae03ad4eb",
   "e40bfa06d3c75ac911f4d78deb52e131",
   "df59b19c974d0b5257e0c20303d05715",
   "65ea778b43a20fa1f0dc297b03146cc0",
   "562505d567faf02dfc9388e81e89d07b",
   "8bff4fec9c7405cf5f4ccea103d329c0",
   "562505d567faf02dfc9388e81e89d07b",
   "348d0e1d07278665c2a26d683abde7f7",
   "562505d567faf02dfc9388e81e89d07b",
   "33b32db848e250bed34566d383bd8a64",
   "32fe63a59760896c07cc891ec639cfcd"
  ],
  "colab": {
   "name": "Homework_09.ipynb",
   "provenance": []
  },
  "kernelspec": {
   "display_name": "Python 3",
   "language": "python",
   "name": "python3"
  },
  "language_info": {
   "codemirror_mode": {
    "name": "ipython",
    "version": 3
   },
   "file_extension": ".py",
   "mimetype": "text/x-python",
   "name": "python",
   "nbconvert_exporter": "python",
   "pygments_lexer": "ipython3",
   "version": "3.7.11"
  },
  "number_of_pagebreaks": 0
 },
 "nbformat": 4,
 "nbformat_minor": 4
}
